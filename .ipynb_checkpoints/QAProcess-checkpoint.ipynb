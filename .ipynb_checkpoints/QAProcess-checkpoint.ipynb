{
 "cells": [
  {
   "cell_type": "code",
   "execution_count": 26,
   "metadata": {
    "collapsed": false,
    "deletable": true,
    "editable": true
   },
   "outputs": [],
   "source": [
    "from pymongo import MongoClient\n",
    "import pandas as pd\n",
    "import numpy as np\n",
    "import matplotlib.pyplot as plt\n",
    "import jieba\n",
    "jieba.set_dictionary('dict.txt.big')\n",
    "stopwords = [ line.rstrip() for line in open('stop_words.txt' , encoding='utf8') ]\n",
    "    \n",
    "from pprint import pprint\n",
    "import requests\n",
    "\n",
    "def getall(col_name):\n",
    "    conn = MongoClient()\n",
    "    db = conn.QA1999\n",
    "    collection = db[col_name]\n",
    "    cursor = collection.find({})\n",
    "    rows = [row for row in cursor]\n",
    "    df = pd.DataFrame(rows)\n",
    "#     df.drop_duplicates(inplace=True)\n",
    "    return df\n"
   ]
  },
  {
   "cell_type": "code",
   "execution_count": 113,
   "metadata": {
    "collapsed": false,
    "deletable": true,
    "editable": true
   },
   "outputs": [],
   "source": [
    "df_tarin = getall('hsinchu')"
   ]
  },
  {
   "cell_type": "code",
   "execution_count": 59,
   "metadata": {
    "collapsed": false,
    "deletable": true,
    "editable": true
   },
   "outputs": [
    {
     "name": "stdout",
     "output_type": "stream",
     "text": [
      "length 327\n"
     ]
    },
    {
     "data": {
      "image/png": "[encoded data removed]",
      "text/plain": [
       "<matplotlib.figure.Figure at 0x2b90978e208>"
      ]
     },
     "metadata": {},
     "output_type": "display_data"
    },
    {
     "name": "stdout",
     "output_type": "stream",
     "text": [
      "A 人民團體及合作社場服務 11\n",
      "B 兒童少年及家庭福利 30\n",
      "C 國民年金 9\n",
      "D 婦女福利 29\n",
      "E 家庭暴力及性侵害防治服務 36\n",
      "F 幼兒福利及托育服務 34\n",
      "G 志願服務 4\n",
      "H 社區發展服務 17\n",
      "I 社工專業服務 11\n",
      "J 社會救助 41\n",
      "K 老人福利 26\n",
      "L 身心障礙者福利 79\n"
     ]
    }
   ],
   "source": [
    "df_train = getall('hsinchu')\n",
    "# getall('taipei')\n",
    "main_series = df_train.groupby('cat').count()['ans']\n",
    "\n",
    "N = len(main_series)\n",
    "means = list(main_series)\n",
    "\n",
    "ind = np.arange(N)  # the x locations for the groups\n",
    "width = 0.35       # the width of the bars\n",
    "\n",
    "fig, ax = plt.subplots()\n",
    "rects1 = ax.bar(ind, means, width, color='r')\n",
    "\n",
    "# add some text for labels, title and axes ticks\n",
    "ax.set_ylabel('Count')\n",
    "ax.set_title('Count by Category')\n",
    "ax.set_xticks(ind + width / 2)\n",
    "ax.set_xticklabels(\"ABCDEFGHIJKLMNOPQRSTU\")\n",
    "\n",
    "# ax.legend((rects1[0]), ('Men', 'Women'))\n",
    "\n",
    "\n",
    "def autolabel(rects):\n",
    "    \"\"\"\n",
    "    Attach a text label above each bar displaying its height\n",
    "    \"\"\"\n",
    "    for rect in rects:\n",
    "        height = rect.get_height()\n",
    "        ax.text(rect.get_x() + rect.get_width()/2., 1.05*height,\n",
    "                '%d' % int(height),\n",
    "                ha='center', va='bottom')\n",
    "\n",
    "autolabel(rects1)\n",
    "\n",
    "plt.show()\n",
    "\n",
    "for i in range(len(list(main_series.index))):\n",
    "    label = 'ABCDEFGHIJKLMNOPQRSTU'\n",
    "    print(label[i], main_series.index[i], list(main_series)[i])"
   ]
  },
  {
   "cell_type": "code",
   "execution_count": 87,
   "metadata": {
    "collapsed": false,
    "deletable": true,
    "editable": true,
    "scrolled": true
   },
   "outputs": [
    {
     "data": {
      "text/plain": [
       "['人民團體及合作社場服務',\n",
       " '兒童少年及家庭福利',\n",
       " '婦女福利',\n",
       " '家庭暴力及性侵害防治服務',\n",
       " '幼兒福利及托育服務',\n",
       " '社區發展服務',\n",
       " '社工專業服務',\n",
       " '社會救助',\n",
       " '老人福利',\n",
       " '身心障礙者福利']"
      ]
     },
     "execution_count": 87,
     "metadata": {},
     "output_type": "execute_result"
    }
   ],
   "source": []
  },
  {
   "cell_type": "code",
   "execution_count": null,
   "metadata": {
    "collapsed": true,
    "deletable": true,
    "editable": true
   },
   "outputs": [],
   "source": []
  },
  {
   "cell_type": "code",
   "execution_count": null,
   "metadata": {
    "collapsed": true,
    "deletable": true,
    "editable": true
   },
   "outputs": [],
   "source": []
  },
  {
   "cell_type": "code",
   "execution_count": 29,
   "metadata": {
    "collapsed": false,
    "deletable": true,
    "editable": true,
    "scrolled": true
   },
   "outputs": [
    {
     "name": "stdout",
     "output_type": "stream",
     "text": [
      "5a18ed3299eff637ec977d9c\n",
      "5a18ed3299eff637ec977d9c\n",
      "5a18ed3299eff637ec977d9d\n",
      "5a18ed3299eff637ec977d9e\n",
      "5a18ed3299eff637ec977d9f\n",
      "5a18ed3299eff637ec977da0\n",
      "5a18ed3299eff637ec977da1\n",
      "5a18ed3299eff637ec977da2\n",
      "5a18ed3299eff637ec977da3\n",
      "5a18ed3299eff637ec977da4\n",
      "5a18ed3299eff637ec977da5\n",
      "5a18ed3299eff637ec977da6\n",
      "5a18ed3299eff637ec977da7\n",
      "5a18ed3299eff637ec977da8\n",
      "5a18ed3299eff637ec977da9\n",
      "5a18ed3299eff637ec977daa\n",
      "5a18ed3299eff637ec977dab\n",
      "5a18ed3299eff637ec977dac\n",
      "5a18ed3299eff637ec977dad\n",
      "5a18ed3299eff637ec977dae\n",
      "5a18ed3299eff637ec977daf\n",
      "5a18ed3299eff637ec977db0\n",
      "5a18ed3299eff637ec977db1\n",
      "5a18ed3299eff637ec977db2\n",
      "5a18ed3299eff637ec977db3\n",
      "5a18ed3299eff637ec977db4\n",
      "5a18ed3299eff637ec977db5\n",
      "5a18ed3299eff637ec977db6\n",
      "5a18ed3299eff637ec977db7\n",
      "5a18ed3299eff637ec977db8\n",
      "5a18ed3299eff637ec977db9\n",
      "5a18ed3299eff637ec977dba\n",
      "5a18ed3299eff637ec977dbb\n",
      "5a18ed3299eff637ec977dbc\n",
      "5a18ed3299eff637ec977dbd\n",
      "5a18ed3299eff637ec977dbe\n",
      "5a18ed3299eff637ec977dbf\n",
      "5a18ed3299eff637ec977dc0\n",
      "5a18ed3299eff637ec977dc1\n",
      "5a18ed3299eff637ec977dc2\n",
      "5a18ed3299eff637ec977dc3\n",
      "5a18ed3299eff637ec977dc4\n",
      "5a18ed3299eff637ec977dc5\n",
      "5a18ed3299eff637ec977dc6\n",
      "5a18ed3299eff637ec977dc7\n",
      "5a18ed3299eff637ec977dc8\n",
      "5a18ed3299eff637ec977dc9\n",
      "5a18ed3299eff637ec977dca\n",
      "5a18ed3299eff637ec977dcb\n",
      "5a18ed3299eff637ec977dcc\n",
      "5a18ed3299eff637ec977dcd\n",
      "5a18ed3299eff637ec977dce\n",
      "5a18ed3299eff637ec977dcf\n",
      "5a18ed3299eff637ec977dd0\n",
      "5a18ed3299eff637ec977dd1\n",
      "5a18ed3299eff637ec977dd2\n",
      "5a18ed3299eff637ec977dd3\n",
      "5a18ed3299eff637ec977dd4\n",
      "5a18ed3299eff637ec977dd5\n",
      "5a18ed3299eff637ec977dd6\n",
      "5a18ed3299eff637ec977dd7\n",
      "5a18ed3299eff637ec977dd8\n",
      "5a18ed3299eff637ec977dd9\n",
      "5a18ed3299eff637ec977dda\n",
      "5a18ed3299eff637ec977ddb\n",
      "5a18ed3299eff637ec977ddc\n",
      "5a18ed3299eff637ec977ddd\n",
      "5a18ed3299eff637ec977dde\n",
      "5a18ed3299eff637ec977ddf\n",
      "5a18ed3299eff637ec977de0\n",
      "5a18ed3299eff637ec977de1\n",
      "5a18ed3299eff637ec977de2\n",
      "5a18ed3299eff637ec977de3\n",
      "5a18ed3299eff637ec977de4\n",
      "5a18ed3299eff637ec977de5\n",
      "5a18ed3299eff637ec977de6\n",
      "5a18ed3299eff637ec977de7\n",
      "5a18ed3299eff637ec977de8\n",
      "5a18ed3299eff637ec977de9\n",
      "5a18ed3299eff637ec977dea\n",
      "5a18ed3299eff637ec977deb\n",
      "5a18ed3299eff637ec977dec\n",
      "5a18ed3299eff637ec977ded\n",
      "5a18ed3299eff637ec977dee\n",
      "5a18ed3299eff637ec977def\n",
      "5a18ed3299eff637ec977df0\n",
      "5a18ed3299eff637ec977df1\n",
      "5a18ed3299eff637ec977df2\n",
      "5a18ed3299eff637ec977df3\n",
      "5a18ed3299eff637ec977df4\n",
      "5a18ed3299eff637ec977df5\n",
      "5a18ed3299eff637ec977df6\n",
      "5a18ed3299eff637ec977df7\n",
      "5a18ed3299eff637ec977df8\n",
      "5a18ed3299eff637ec977df9\n",
      "5a18ed3299eff637ec977dfa\n",
      "5a18ed3299eff637ec977dfb\n",
      "5a18ed3299eff637ec977dfc\n",
      "5a18ed3299eff637ec977dfd\n",
      "5a18ed3299eff637ec977dfe\n",
      "5a18ed3299eff637ec977dff\n",
      "5a18ed3299eff637ec977e00\n",
      "5a18ed3299eff637ec977e01\n",
      "5a18ed3299eff637ec977e02\n",
      "5a18ed3299eff637ec977e03\n",
      "5a18ed3299eff637ec977e04\n",
      "5a18ed3299eff637ec977e05\n",
      "5a18ed3299eff637ec977e06\n",
      "5a18ed3299eff637ec977e07\n",
      "5a18ed3299eff637ec977e08\n",
      "5a18ed3299eff637ec977e09\n",
      "5a18ed3299eff637ec977e0a\n",
      "5a18ed3299eff637ec977e0b\n",
      "5a18ed3299eff637ec977e0c\n",
      "5a18ed3299eff637ec977e0d\n",
      "5a18ed3299eff637ec977e0e\n",
      "5a18ed3299eff637ec977e0f\n",
      "5a18ed3299eff637ec977e10\n",
      "5a18ed3299eff637ec977e11\n",
      "5a18ed3299eff637ec977e12\n",
      "5a18ed3299eff637ec977e13\n",
      "5a18ed3299eff637ec977e14\n",
      "5a18ed3299eff637ec977e15\n",
      "5a18ed3299eff637ec977e16\n",
      "5a18ed3299eff637ec977e17\n",
      "5a18ed3299eff637ec977e18\n",
      "5a18ed3299eff637ec977e19\n",
      "5a18ed3299eff637ec977e1a\n",
      "5a18ed3299eff637ec977e1b\n",
      "5a18ed3299eff637ec977e1c\n",
      "5a18ed3299eff637ec977e1d\n",
      "5a18ed3299eff637ec977e1e\n",
      "5a18ed3299eff637ec977e1f\n",
      "5a18ed3299eff637ec977e20\n",
      "5a18ed3299eff637ec977e21\n",
      "5a18ed3299eff637ec977e22\n",
      "5a18ed3299eff637ec977e23\n",
      "5a18ed3299eff637ec977e24\n",
      "5a18ed3299eff637ec977e25\n",
      "5a18ed3299eff637ec977e26\n",
      "5a18ed3299eff637ec977e27\n",
      "5a18ed3299eff637ec977e28\n",
      "5a18ed3299eff637ec977e29\n",
      "5a18ed3299eff637ec977e2a\n",
      "5a18ed3299eff637ec977e2b\n",
      "5a18ed3299eff637ec977e2c\n",
      "5a18ed3299eff637ec977e2d\n",
      "5a18ed3299eff637ec977e2e\n",
      "5a18ed3299eff637ec977e2f\n",
      "5a18ed3299eff637ec977e30\n",
      "5a18ed3299eff637ec977e31\n",
      "5a18ed3299eff637ec977e32\n",
      "5a18ed3299eff637ec977e33\n",
      "5a18ed3299eff637ec977e34\n",
      "5a18ed3299eff637ec977e35\n",
      "5a18ed3299eff637ec977e36\n",
      "5a18ed3299eff637ec977e37\n",
      "5a18ed3299eff637ec977e38\n",
      "5a18ed3299eff637ec977e39\n",
      "5a18ed3299eff637ec977e3a\n",
      "5a18ed3299eff637ec977e3b\n",
      "5a18ed3299eff637ec977e3c\n",
      "5a18ed3299eff637ec977e3d\n",
      "5a18ed3299eff637ec977e3e\n",
      "5a18ed3299eff637ec977e3f\n",
      "5a18ed3299eff637ec977e40\n",
      "5a18ed3299eff637ec977e41\n",
      "5a18ed3299eff637ec977e42\n",
      "5a18ed3299eff637ec977e43\n",
      "5a18ed3299eff637ec977e44\n",
      "5a18ed3299eff637ec977e45\n",
      "5a18ed3299eff637ec977e46\n",
      "5a18ed3299eff637ec977e47\n",
      "5a18ed3299eff637ec977e48\n",
      "5a18ed3299eff637ec977e49\n",
      "5a18ed3299eff637ec977e4a\n",
      "5a18ed3299eff637ec977e4b\n",
      "5a18ed3299eff637ec977e4c\n",
      "5a18ed3299eff637ec977e4d\n",
      "5a18ed3299eff637ec977e4e\n",
      "5a18ed3299eff637ec977e4f\n",
      "5a18ed3299eff637ec977e50\n",
      "5a18ed3299eff637ec977e51\n",
      "5a18ed3299eff637ec977e52\n",
      "5a18ed3299eff637ec977e53\n",
      "5a18ed3299eff637ec977e54\n",
      "5a18ed3299eff637ec977e55\n",
      "5a18ed3299eff637ec977e56\n",
      "5a18ed3299eff637ec977e57\n",
      "5a18ed3299eff637ec977e58\n",
      "5a18ed3299eff637ec977e59\n",
      "5a18ed3299eff637ec977e5a\n",
      "5a18ed3299eff637ec977e5b\n",
      "5a18ed3299eff637ec977e5c\n",
      "5a18ed3299eff637ec977e5d\n",
      "5a18ed3299eff637ec977e5e\n",
      "5a18ed3299eff637ec977e5f\n",
      "5a18ed3299eff637ec977e60\n",
      "5a18ed3299eff637ec977e61\n",
      "5a18ed3299eff637ec977e62\n",
      "5a18ed3299eff637ec977e63\n",
      "5a18ed3299eff637ec977e64\n",
      "5a18ed3299eff637ec977e65\n",
      "5a18ed3299eff637ec977e66\n",
      "5a18ed3299eff637ec977e67\n",
      "5a18ed3299eff637ec977e68\n",
      "5a18ed3299eff637ec977e69\n",
      "5a18ed3299eff637ec977e6a\n",
      "5a18ed3299eff637ec977e6b\n",
      "5a18ed3299eff637ec977e6c\n",
      "5a18ed3299eff637ec977e6d\n",
      "5a18ed3299eff637ec977e6e\n",
      "5a18ed3299eff637ec977e6f\n",
      "5a18ed3299eff637ec977e70\n",
      "5a18ed3299eff637ec977e71\n",
      "5a18ed3299eff637ec977e72\n",
      "5a18ed3299eff637ec977e73\n",
      "5a18ed3299eff637ec977e74\n",
      "5a18ed3299eff637ec977e75\n",
      "5a18ed3299eff637ec977e76\n",
      "5a18ed3299eff637ec977e77\n",
      "5a18ed3299eff637ec977e78\n",
      "5a18ed3299eff637ec977e79\n",
      "5a18ed3299eff637ec977e7a\n",
      "5a18ed3299eff637ec977e7b\n",
      "5a18ed3299eff637ec977e7c\n",
      "5a18ed3299eff637ec977e7d\n",
      "5a18ed3299eff637ec977e7e\n",
      "5a18ed3299eff637ec977e7f\n",
      "5a18ed3299eff637ec977e80\n",
      "5a18ed3299eff637ec977e81\n",
      "5a18ed3299eff637ec977e82\n",
      "5a18ed3299eff637ec977e83\n",
      "5a18ed3299eff637ec977e84\n",
      "5a18ed3299eff637ec977e85\n",
      "5a18ed3299eff637ec977e86\n",
      "5a18ed3299eff637ec977e87\n",
      "5a18ed3299eff637ec977e88\n",
      "5a18ed3299eff637ec977e89\n",
      "5a18ed3299eff637ec977e8a\n",
      "5a18ed3299eff637ec977e8b\n",
      "5a18ed3299eff637ec977e8c\n",
      "5a18ed3299eff637ec977e8d\n",
      "5a18ed3299eff637ec977e8e\n",
      "5a18ed3299eff637ec977e8f\n",
      "5a18ed3299eff637ec977e90\n",
      "5a18ed3299eff637ec977e91\n",
      "5a18ed3299eff637ec977e92\n",
      "5a18ed3299eff637ec977e93\n",
      "5a18ed3299eff637ec977e94\n",
      "5a18ed3299eff637ec977e95\n",
      "5a18ed3299eff637ec977e96\n",
      "5a18ed3299eff637ec977e97\n",
      "5a18ed3299eff637ec977e98\n",
      "5a18ed3299eff637ec977e99\n",
      "5a18ed3299eff637ec977e9a\n",
      "5a18ed3299eff637ec977e9b\n",
      "5a18ed3299eff637ec977e9c\n",
      "5a18ed3299eff637ec977e9d\n",
      "5a18ed3299eff637ec977e9e\n",
      "5a18ed3299eff637ec977e9f\n",
      "5a18ed3299eff637ec977ea0\n",
      "5a18ed3299eff637ec977ea1\n",
      "5a18ed3299eff637ec977ea2\n",
      "5a18ed3299eff637ec977ea3\n",
      "5a18ed3299eff637ec977ea4\n",
      "5a18ed3299eff637ec977ea5\n",
      "5a18ed3299eff637ec977ea6\n",
      "5a18ed3299eff637ec977ea7\n",
      "5a18ed3299eff637ec977ea8\n",
      "5a18ed3299eff637ec977ea9\n",
      "5a18ed3299eff637ec977eaa\n",
      "5a18ed3299eff637ec977eab\n",
      "5a18ed3299eff637ec977eac\n",
      "5a18ed3299eff637ec977ead\n",
      "5a18ed3299eff637ec977eae\n",
      "5a18ed3299eff637ec977eaf\n",
      "5a18ed3299eff637ec977eb0\n",
      "5a18ed3299eff637ec977eb1\n",
      "5a18ed3299eff637ec977eb2\n",
      "5a18ed3299eff637ec977eb3\n",
      "5a18ed3299eff637ec977eb4\n",
      "5a18ed3299eff637ec977eb5\n",
      "5a18ed3299eff637ec977eb6\n",
      "5a18ed3299eff637ec977eb7\n",
      "5a18ed3299eff637ec977eb8\n",
      "5a18ed3299eff637ec977eb9\n",
      "5a18ed3299eff637ec977eba\n",
      "5a18ed3299eff637ec977ebb\n",
      "5a18ed3299eff637ec977ebc\n",
      "5a18ed3299eff637ec977ebd\n",
      "5a18ed3299eff637ec977ebe\n",
      "5a18ed3299eff637ec977ebf\n",
      "5a18ed3299eff637ec977ec0\n",
      "5a18ed3299eff637ec977ec1\n",
      "5a18ed3299eff637ec977ec2\n",
      "5a18ed3299eff637ec977ec3\n",
      "5a18ed3299eff637ec977ec4\n",
      "5a18ed3299eff637ec977ec5\n",
      "5a18ed3299eff637ec977ec6\n",
      "5a18ed3299eff637ec977ec7\n",
      "5a18ed3299eff637ec977ec8\n",
      "5a18ed3299eff637ec977ec9\n",
      "5a18ed3299eff637ec977eca\n",
      "5a18ed3299eff637ec977ecb\n",
      "5a18ed3299eff637ec977ecc\n",
      "5a18ed3299eff637ec977ecd\n",
      "5a18ed3299eff637ec977ece\n",
      "5a18ed3299eff637ec977ecf\n",
      "5a18ed3299eff637ec977ed0\n",
      "5a18ed3299eff637ec977ed1\n",
      "5a18ed3299eff637ec977ed2\n",
      "5a18ed3299eff637ec977ed3\n",
      "5a18ed3299eff637ec977ed4\n",
      "5a18ed3299eff637ec977ed5\n",
      "5a18ed3299eff637ec977ed6\n",
      "5a18ed3299eff637ec977ed7\n",
      "5a18ed3299eff637ec977ed8\n",
      "5a18ed3299eff637ec977ed9\n",
      "5a18ed3299eff637ec977eda\n",
      "5a18ed3299eff637ec977edb\n",
      "5a18ed3299eff637ec977edc\n",
      "5a18ed3299eff637ec977edd\n",
      "5a18ed3299eff637ec977ede\n",
      "5a18ed3299eff637ec977edf\n",
      "5a18ed3299eff637ec977ee0\n",
      "5a18ed3299eff637ec977ee1\n",
      "5a18ed3299eff637ec977ee2\n"
     ]
    }
   ],
   "source": [
    "def preprocess(row):\n",
    "    words = list(jieba.cut(row['question'], cut_all=False))\n",
    "    \n",
    "    allrelated = []\n",
    "    for keyword in words:\n",
    "        url = 'http://140.120.13.244:10000/kem/?keyword='+ keyword +'&lang=cht'\n",
    "        res = requests.get(url)\n",
    "        related = [term[0] for term in eval(res.text) if term[1] > 0.65]\n",
    "        allrelated.extend(related)\n",
    "    words.extend(allrelated)\n",
    "    row['words'] = words\n",
    "    \n",
    "    print(row['_id'])\n",
    "        \n",
    "    return row\n",
    "df_train = df_train.apply(preprocess, axis=1)"
   ]
  },
  {
   "cell_type": "code",
   "execution_count": 30,
   "metadata": {
    "collapsed": false,
    "deletable": true,
    "editable": true
   },
   "outputs": [
    {
     "data": {
      "text/plain": [
       "<pymongo.results.DeleteResult at 0x19518fff870>"
      ]
     },
     "execution_count": 30,
     "metadata": {},
     "output_type": "execute_result"
    }
   ],
   "source": [
    "conn = MongoClient()\n",
    "db = conn.QA1999\n",
    "collection = db.hsinchu\n",
    "collection.delete_many({})"
   ]
  },
  {
   "cell_type": "code",
   "execution_count": 31,
   "metadata": {
    "collapsed": false,
    "deletable": true,
    "editable": true
   },
   "outputs": [
    {
     "data": {
      "text/plain": [
       "<pymongo.results.InsertManyResult at 0x19516c5e828>"
      ]
     },
     "execution_count": 31,
     "metadata": {},
     "output_type": "execute_result"
    }
   ],
   "source": [
    "collection.insert_many(list(df_train.T.to_dict().values()))"
   ]
  },
  {
   "cell_type": "code",
   "execution_count": 50,
   "metadata": {
    "collapsed": false,
    "deletable": true,
    "editable": true
   },
   "outputs": [],
   "source": [
    "df_train = getall('hsinchu')\n",
    "\n",
    "cat_mapping = {}\n",
    "for num, cat in enumerate(list(set(df_train['cat']))):\n",
    "    cat_mapping[cat] = num\n",
    "\n",
    "with open('cat_mapping', 'w', encoding='utf8') as f:\n",
    "    json.dump(cat_mapping, f, ensure_ascii=False)\n",
    "\n",
    "total_li = []\n",
    "for li in list(df_train['words']):\n",
    "    total_li += li\n",
    "vectorterms = list(set(total_li))\n",
    "main_list = [0] * len(vectorterms)\n",
    "\n",
    "with open('vectorterms', 'w', encoding='utf8') as f:\n",
    "    json.dump(vectorterms, f, ensure_ascii=False)\n",
    "    \n",
    "def process_into_vector(row):\n",
    "    self_main_list = main_list.copy()\n",
    "    for term in row['words']:\n",
    "        idx = vectorterms.index(term)\n",
    "        self_main_list[idx] += 1\n",
    "    row['vector'] = self_main_list\n",
    "    row['cat_num'] = cat_mapping.get(row['cat'])\n",
    "    return row\n",
    "\n",
    "df_train = df_train.apply(process_into_vector, axis=1)    "
   ]
  },
  {
   "cell_type": "code",
   "execution_count": null,
   "metadata": {
    "collapsed": true,
    "deletable": true,
    "editable": true
   },
   "outputs": [],
   "source": []
  },
  {
   "cell_type": "code",
   "execution_count": null,
   "metadata": {
    "collapsed": true,
    "deletable": true,
    "editable": true
   },
   "outputs": [],
   "source": []
  },
  {
   "cell_type": "code",
   "execution_count": 119,
   "metadata": {
    "collapsed": false,
    "deletable": true,
    "editable": true
   },
   "outputs": [],
   "source": [
    "from wordcloud import WordCloud\n",
    "from collections import Counter\n",
    "\n",
    "freqs = []\n",
    "for cat in list(set(df_train['cat'])):\n",
    "    words_Li = list(df_train[df_train['cat'] == cat]['words'])\n",
    "    total_words_in_cat = []\n",
    "    for words in words_Li:\n",
    "        total_words_in_cat.extend(words)\n",
    "    freq = Counter(total_words_in_cat)\n",
    "    freqs.append(freq)"
   ]
  },
  {
   "cell_type": "code",
   "execution_count": 121,
   "metadata": {
    "collapsed": false,
    "deletable": true,
    "editable": true
   },
   "outputs": [
    {
     "data": {
      "image/png": "[encoded data removed]",
      "text/plain": [
       "<matplotlib.figure.Figure at 0x23ad7b0eac8>"
      ]
     },
     "metadata": {},
     "output_type": "display_data"
    }
   ],
   "source": [
    "# wordcloud = WordCloud()\n",
    "# wordcloud.generate_from_frequencies(frequencies=freqs[0])\n",
    "plt.figure()\n",
    "plt.imshow(wordcloud, interpolation=\"bilinear\")\n",
    "plt.axis(\"off\")\n",
    "plt.show()"
   ]
  },
  {
   "cell_type": "code",
   "execution_count": null,
   "metadata": {
    "collapsed": true,
    "deletable": true,
    "editable": true
   },
   "outputs": [],
   "source": []
  },
  {
   "cell_type": "markdown",
   "metadata": {
    "deletable": true,
    "editable": true
   },
   "source": [
    "# Start Classify"
   ]
  },
  {
   "cell_type": "code",
   "execution_count": 32,
   "metadata": {
    "collapsed": false,
    "deletable": true,
    "editable": true
   },
   "outputs": [],
   "source": [
    "df_train = getall('hsinchu')"
   ]
  },
  {
   "cell_type": "code",
   "execution_count": 33,
   "metadata": {
    "collapsed": false,
    "deletable": true,
    "editable": true
   },
   "outputs": [],
   "source": [
    "import math\n",
    "import pandas as pd\n",
    "\n",
    "import matplotlib.pyplot as plt\n",
    "from mpl_toolkits.mplot3d import Axes3D\n",
    "from sklearn.decomposition import PCA\n",
    "\n",
    "from sklearn.neighbors import KNeighborsClassifier\n",
    "from sklearn.svm import SVC\n",
    "\n",
    "from sklearn.model_selection import train_test_split"
   ]
  },
  {
   "cell_type": "code",
   "execution_count": 51,
   "metadata": {
    "collapsed": false,
    "deletable": true,
    "editable": true
   },
   "outputs": [],
   "source": [
    "X = np.array(list(df_train['vector']))\n",
    "Y = np.array(df_train['cat_num'])"
   ]
  },
  {
   "cell_type": "code",
   "execution_count": 35,
   "metadata": {
    "collapsed": false,
    "deletable": true,
    "editable": true
   },
   "outputs": [
    {
     "name": "stdout",
     "output_type": "stream",
     "text": [
      "(327, 2105)\n"
     ]
    }
   ],
   "source": [
    "print(X.shape)"
   ]
  },
  {
   "cell_type": "code",
   "execution_count": 39,
   "metadata": {
    "collapsed": false,
    "deletable": true,
    "editable": true,
    "scrolled": true
   },
   "outputs": [
    {
     "data": {
      "image/png": "[encoded data removed]",
      "text/plain": [
       "<matplotlib.figure.Figure at 0x23ad8aca470>"
      ]
     },
     "metadata": {},
     "output_type": "display_data"
    }
   ],
   "source": [
    "fig = plt.figure(1, figsize=(8, 6))\n",
    "ax = Axes3D(fig, elev=-150, azim=110)\n",
    "\n",
    "X_reduced = PCA(n_components=3).fit_transform(X)\n",
    "ax.scatter(X_reduced[:, 0], X_reduced[:, 1], X_reduced[:, 2], c=Y,\n",
    "           cmap=plt.cm.Set1, edgecolor='k', s=40)\n",
    "ax.set_title(\"First three PCA directions\")\n",
    "ax.set_xlabel(\"1st eigenvector\")\n",
    "ax.w_xaxis.set_ticklabels([])\n",
    "ax.set_ylabel(\"2nd eigenvector\")\n",
    "ax.w_yaxis.set_ticklabels([])\n",
    "ax.set_zlabel(\"3rd eigenvector\")\n",
    "ax.w_zaxis.set_ticklabels([])\n",
    "\n",
    "plt.show()"
   ]
  },
  {
   "cell_type": "code",
   "execution_count": 40,
   "metadata": {
    "collapsed": false,
    "deletable": true,
    "editable": true
   },
   "outputs": [
    {
     "data": {
      "text/plain": [
       "(array([ 14.,  38.,  28.,  61.,  48.,  25.,  25.,  27.,  17.,  12.,  13.,\n",
       "          3.,   5.,   1.,   1.,   1.,   3.,   0.,   2.,   0.,   0.,   2.,\n",
       "          0.,   0.,   0.,   0.,   0.,   0.,   0.,   1.]),\n",
       " array([  6.        ,   8.66666667,  11.33333333,  14.        ,\n",
       "         16.66666667,  19.33333333,  22.        ,  24.66666667,\n",
       "         27.33333333,  30.        ,  32.66666667,  35.33333333,\n",
       "         38.        ,  40.66666667,  43.33333333,  46.        ,\n",
       "         48.66666667,  51.33333333,  54.        ,  56.66666667,\n",
       "         59.33333333,  62.        ,  64.66666667,  67.33333333,\n",
       "         70.        ,  72.66666667,  75.33333333,  78.        ,\n",
       "         80.66666667,  83.33333333,  86.        ]),\n",
       " <a list of 30 Patch objects>)"
      ]
     },
     "execution_count": 40,
     "metadata": {},
     "output_type": "execute_result"
    },
    {
     "data": {
      "image/png": "[encoded data removed]",
      "text/plain": [
       "<matplotlib.figure.Figure at 0x23ad88c7898>"
      ]
     },
     "metadata": {},
     "output_type": "display_data"
    }
   ],
   "source": [
    "sentence_length = [len(sen) for sen in df_train['question']]\n",
    "plt.hist(sentence_length, bins=30)"
   ]
  },
  {
   "cell_type": "code",
   "execution_count": 41,
   "metadata": {
    "collapsed": false,
    "deletable": true,
    "editable": true
   },
   "outputs": [
    {
     "name": "stdout",
     "output_type": "stream",
     "text": [
      "Number of mislabeled points out of a total 327 points : 116\n"
     ]
    }
   ],
   "source": [
    "neigh = KNeighborsClassifier(n_neighbors=10)\n",
    "neigh.fit(X, Y) \n",
    "y_pred = neigh.predict(X)\n",
    "print(\"Number of mislabeled points out of a total %d points : %d\" % (X.shape[0],(Y != y_pred).sum()))"
   ]
  },
  {
   "cell_type": "code",
   "execution_count": 42,
   "metadata": {
    "collapsed": false,
    "deletable": true,
    "editable": true
   },
   "outputs": [
    {
     "name": "stdout",
     "output_type": "stream",
     "text": [
      "Number of mislabeled points out of a total 327 points : 247\n"
     ]
    }
   ],
   "source": [
    "clf = SVC(C=2)\n",
    "clf.fit(X, Y)\n",
    "\n",
    "y_pred = clf.predict(X)\n",
    "print(\"Number of mislabeled points out of a total %d points : %d\" % (X.shape[0],(Y != y_pred).sum()))"
   ]
  },
  {
   "cell_type": "markdown",
   "metadata": {
    "deletable": true,
    "editable": true
   },
   "source": [
    "# XGB"
   ]
  },
  {
   "cell_type": "code",
   "execution_count": 52,
   "metadata": {
    "collapsed": false,
    "deletable": true,
    "editable": true
   },
   "outputs": [
    {
     "name": "stdout",
     "output_type": "stream",
     "text": [
      "(261, 2105)\n",
      "(66, 2105)\n",
      "(261,)\n",
      "(66,)\n"
     ]
    }
   ],
   "source": [
    "# Finally, we split some of the data off for validation\n",
    "x_train_split, x_valid_split, y_train_split, y_valid_split = train_test_split(X, Y, test_size=0.2, random_state=4242)\n",
    "\n",
    "print(x_train_split.shape)\n",
    "print(x_valid_split.shape)\n",
    "print(y_train_split.shape)\n",
    "print(y_valid_split.shape)"
   ]
  },
  {
   "cell_type": "code",
   "execution_count": 54,
   "metadata": {
    "collapsed": false,
    "deletable": true,
    "editable": true,
    "scrolled": true
   },
   "outputs": [
    {
     "name": "stdout",
     "output_type": "stream",
     "text": [
      "[0]\ttrain-merror:0.168582\tvalid-merror:0.257576\n",
      "Multiple eval metrics have been passed: 'valid-merror' will be used for early stopping.\n",
      "\n",
      "Will train until valid-merror hasn't improved in 100 rounds.\n",
      "[10]\ttrain-merror:0.145594\tvalid-merror:0.30303\n",
      "[20]\ttrain-merror:0.1341\tvalid-merror:0.242424\n",
      "[30]\ttrain-merror:0.095785\tvalid-merror:0.212121\n",
      "[40]\ttrain-merror:0.091954\tvalid-merror:0.181818\n",
      "[50]\ttrain-merror:0.08046\tvalid-merror:0.181818\n",
      "[60]\ttrain-merror:0.076628\tvalid-merror:0.166667\n",
      "[70]\ttrain-merror:0.068966\tvalid-merror:0.181818\n",
      "[80]\ttrain-merror:0.065134\tvalid-merror:0.166667\n",
      "[90]\ttrain-merror:0.061303\tvalid-merror:0.166667\n",
      "[100]\ttrain-merror:0.057471\tvalid-merror:0.166667\n",
      "[110]\ttrain-merror:0.057471\tvalid-merror:0.166667\n",
      "[120]\ttrain-merror:0.057471\tvalid-merror:0.151515\n",
      "[130]\ttrain-merror:0.05364\tvalid-merror:0.151515\n",
      "[140]\ttrain-merror:0.049808\tvalid-merror:0.151515\n",
      "[150]\ttrain-merror:0.049808\tvalid-merror:0.151515\n",
      "[160]\ttrain-merror:0.042146\tvalid-merror:0.151515\n",
      "[170]\ttrain-merror:0.038314\tvalid-merror:0.151515\n",
      "[180]\ttrain-merror:0.038314\tvalid-merror:0.151515\n",
      "[190]\ttrain-merror:0.038314\tvalid-merror:0.151515\n",
      "[200]\ttrain-merror:0.038314\tvalid-merror:0.136364\n",
      "[210]\ttrain-merror:0.038314\tvalid-merror:0.136364\n",
      "[220]\ttrain-merror:0.038314\tvalid-merror:0.136364\n",
      "[230]\ttrain-merror:0.034483\tvalid-merror:0.121212\n",
      "[240]\ttrain-merror:0.030651\tvalid-merror:0.106061\n",
      "[250]\ttrain-merror:0.02682\tvalid-merror:0.106061\n",
      "[260]\ttrain-merror:0.022989\tvalid-merror:0.106061\n",
      "[270]\ttrain-merror:0.022989\tvalid-merror:0.106061\n",
      "[280]\ttrain-merror:0.022989\tvalid-merror:0.106061\n",
      "[290]\ttrain-merror:0.015326\tvalid-merror:0.106061\n",
      "[300]\ttrain-merror:0.015326\tvalid-merror:0.106061\n",
      "[310]\ttrain-merror:0.015326\tvalid-merror:0.106061\n",
      "[320]\ttrain-merror:0.015326\tvalid-merror:0.106061\n",
      "[330]\ttrain-merror:0.015326\tvalid-merror:0.106061\n",
      "Stopping. Best iteration:\n",
      "[236]\ttrain-merror:0.030651\tvalid-merror:0.106061\n",
      "\n"
     ]
    }
   ],
   "source": [
    "import xgboost\n",
    "\n",
    "# Set our parameters for xgboost\n",
    "params = {}\n",
    "params['objective'] = 'multi:softmax'\n",
    "# scale weight of positive examples\n",
    "params['eta'] = 0.02\n",
    "params['max_depth'] = 4\n",
    "params['silent'] = 1\n",
    "params['nthread'] = 3\n",
    "params['num_class'] = len(set(Y))\n",
    "\n",
    "## control over-fitting, higher depth specific to a particular sample.\n",
    "d_train = xgboost.DMatrix(x_train_split, label=y_train_split)\n",
    "d_valid = xgboost.DMatrix(x_valid_split, label=y_valid_split)\n",
    "\n",
    "watchlist = [(d_train, 'train'), (d_valid, 'valid')]\n",
    "\n",
    "bst = xgboost.train(params, d_train, 1000, watchlist, early_stopping_rounds=100, verbose_eval=10)"
   ]
  },
  {
   "cell_type": "code",
   "execution_count": 55,
   "metadata": {
    "collapsed": false,
    "deletable": true,
    "editable": true,
    "scrolled": true
   },
   "outputs": [
    {
     "name": "stdout",
     "output_type": "stream",
     "text": [
      "Number of mislabeled points out of a total 327 points : 10\n"
     ]
    }
   ],
   "source": [
    "y_pred = bst.predict(xgboost.DMatrix(X))\n",
    "print(\"Number of mislabeled points out of a total %d points : %d\" % (X.shape[0],(Y != y_pred).sum()))"
   ]
  },
  {
   "cell_type": "code",
   "execution_count": null,
   "metadata": {
    "collapsed": true
   },
   "outputs": [],
   "source": []
  },
  {
   "cell_type": "code",
   "execution_count": 56,
   "metadata": {
    "collapsed": false,
    "deletable": true,
    "editable": true
   },
   "outputs": [
    {
     "data": {
      "image/png": "[encoded data removed]",
      "text/plain": [
       "<matplotlib.figure.Figure at 0x19516ca3400>"
      ]
     },
     "metadata": {},
     "output_type": "display_data"
    }
   ],
   "source": [
    "import xgboost as xgb\n",
    "from pylab import rcParams\n",
    "rcParams['figure.figsize'] = 10, 20\n",
    "\n",
    "xgb.plot_tree(bst, num_trees=2)\n",
    "plt.show()"
   ]
  },
  {
   "cell_type": "code",
   "execution_count": 57,
   "metadata": {
    "collapsed": true,
    "deletable": true,
    "editable": true
   },
   "outputs": [],
   "source": [
    "from datetime import datetime\n",
    "import string\n",
    "now_time = str(datetime.now())\n",
    "for pun in string.punctuation:\n",
    "    now_time = now_time.replace(pun, '')\n",
    "bst.save_model(now_time+'.model') "
   ]
  },
  {
   "cell_type": "markdown",
   "metadata": {
    "deletable": true,
    "editable": true
   },
   "source": [
    "# Application"
   ]
  },
  {
   "cell_type": "code",
   "execution_count": 3,
   "metadata": {
    "collapsed": false,
    "deletable": true,
    "editable": true
   },
   "outputs": [
    {
     "name": "stderr",
     "output_type": "stream",
     "text": [
      "c:\\users\\jeremy\\appdata\\local\\programs\\python\\python35\\lib\\site-packages\\sklearn\\cross_validation.py:44: DeprecationWarning: This module was deprecated in version 0.18 in favor of the model_selection module into which all the refactored classes and functions are moved. Also note that the interface of the new CV iterators are different from that of this module. This module will be removed in 0.20.\n",
      "  \"This module will be removed in 0.20.\", DeprecationWarning)\n"
     ]
    }
   ],
   "source": [
    "import jieba\n",
    "jieba.set_dictionary('dict.txt.big')\n",
    "\n",
    "from pymongo import MongoClient\n",
    "import pandas as pd\n",
    "import requests\n",
    "import xgboost\n",
    "import xgboost as xgb\n",
    "import json\n",
    "import numpy as np"
   ]
  },
  {
   "cell_type": "code",
   "execution_count": 4,
   "metadata": {
    "collapsed": false,
    "deletable": true,
    "editable": true
   },
   "outputs": [],
   "source": [
    "bst = xgb.Booster({'nthread': 4})  # init model\n",
    "bst.load_model('20171125 232430246178.model')  # load data\n",
    "\n",
    "\n",
    "def getall(col_name):\n",
    "    conn = MongoClient()\n",
    "    db = conn.QA1999\n",
    "    collection = db[col_name]\n",
    "    cursor = collection.find({})\n",
    "    rows = [row for row in cursor]\n",
    "    df = pd.DataFrame(rows)\n",
    "#     df.drop_duplicates(inplace=True)\n",
    "    return df\n",
    "\n",
    "df_train = getall('hsinchu')\n",
    "\n",
    "with open('cat_mapping', 'r' , encoding='utf8') as f:\n",
    "    cat_mapping = json.load(f)\n",
    "\n",
    "with open('vectorterms', 'r' , encoding='utf8') as f:\n",
    "    vectorterms = json.load(f)\n",
    "main_list = [0] * len(vectorterms)\n",
    "    \n",
    "def predict_cat(test_sentence):\n",
    "    print(test_sentence)\n",
    "    words = list(jieba.cut(test_sentence, cut_all=False))\n",
    "    print(\", \".join(words))\n",
    "    \n",
    "    allrelated = []\n",
    "    for keyword in words:\n",
    "        url = 'http://140.120.13.244:10000/kem/?keyword='+ keyword +'&lang=cht'\n",
    "        res = requests.get(url)\n",
    "        related = [term[0] for term in eval(res.text) if term[1] > 0.65]\n",
    "        allrelated.extend(related)\n",
    "    words.extend(allrelated)\n",
    "    print(\", \".join(words))\n",
    "        \n",
    "    self_main_list = main_list.copy()\n",
    "    for term in words:\n",
    "        try:\n",
    "            idx = vectorterms.index(term)\n",
    "            self_main_list[idx] += 1\n",
    "        except:\n",
    "            pass\n",
    "        \n",
    "    vector = self_main_list\n",
    "    cat_num = bst.predict(xgboost.DMatrix(np.array([vector,])))[0]\n",
    "    print(cat_num)\n",
    "    cat = None\n",
    "    for key, value in cat_mapping.items():\n",
    "        if str(int(cat_num)) == str(value):\n",
    "            cat = key\n",
    "    print(cat)\n",
    "    return cat\n"
   ]
  },
  {
   "cell_type": "code",
   "execution_count": 5,
   "metadata": {
    "collapsed": false,
    "deletable": true,
    "editable": true,
    "scrolled": true
   },
   "outputs": [
    {
     "data": {
      "text/plain": [
       "0                     身心障礙者如無法於效期屆滿前申請或完成重新鑑定及需求評估應如何辦理？\n",
       "1      領有身心障礙證明(手冊)後，如有戶籍異動、證明(手冊)遺失或破損不堪使用、姓名或身分證統一編...\n",
       "2                              持有重大傷病證明卡者可否申請身心障礙證明(手冊)？\n",
       "3                                   我想要收養一個小孩，不知道要去哪裡申請？\n",
       "4                         要如何申請危機家庭兒童及少年委託安置暨收容費用補助？\\r\\n\n",
       "5                               發現有迷童、棄嬰或查無身分之兒少，需緊急安置者。\n",
       "6              發現有兒童及少年(含發展遲緩或身心障礙者)無父母或父母失聯，需緊急送醫者。\\r\\n\n",
       "7                        老人健保補助之補助對象、補助額度、申請恢復補助之相關規定為何？\n",
       "8                                     長青學苑報名資格、上課地點及洽詢單位\n",
       "9                               長者預防走失手鍊及身心障礙者防走失手鍊有何不同？\n",
       "10                                   外籍配偶可否申請「馬上關懷急難救助」？\n",
       "11                                   「馬上關懷急難救助」有無限制申請次數？\n",
       "12                           如何取得「馬上關懷急難救助作業要點」之內容及申請表件？\n",
       "13                             「馬上關懷急難救助」向居住所在地或戶籍所在地申請？\n",
       "14                       「馬上關懷急難救助」是否僅有低收入戶或非低收入戶才能提出申請？\n",
       "15                                    「馬上關懷」與本市急難救助有何異同？\n",
       "16                                事故發生後何時可以申請「馬上關懷急難救助」？\n",
       "17                                        馬上關懷急難救助的服務對象?\n",
       "18                          「馬上關懷急難救助」經申請（或通報）後，何時可獲得協助？\n",
       "19                                   「馬上關懷」的申請（或通報）窗口為何？\n",
       "20                           申請敬老、愛心及愛心陪伴悠遊卡應備文件為何？ \\r\\n\n",
       "21                                       106年度重陽禮金的致送對象?\n",
       "22                           免費點數可以用到YouBike或臺北市觀光雙層巴士嗎?\n",
       "23         若想了解自己(未收到通知單)是不是有被社會局補助老人健保費，是不是要自己打電話問?\\r\\n\n",
       "24                           臺北市老人健保自付額補助若發現仍未補助怎麼辦？\\r\\n\n",
       "25                               敬老、愛心及愛心陪伴悠遊卡應該到哪裡辦裡加值?\n",
       "26     我是居留在臺北市的外籍人士，並且已經馬偕計畫審核通過，取得經註記「國內大眾運輸工具及公立育樂...\n",
       "27                                  從哪裡可以得到老人福利服務資訊？\\r\\n\n",
       "28                           請問二代健保上路後會影響我的老人健保自付額補助資格嗎？\n",
       "29     如果想查詢敬老、愛心悠遊卡每月免費點數或票卡內自行加值之金額該如何查詢(含欲查詢是否有扣款錯...\n",
       "                             ...                        \n",
       "600                                    想參加托育(保母)訓練應如何報名?\n",
       "601                                            申請設立合作社流程\n",
       "602    我們之前都一直設籍在臺北市，不過後來有遷出，還需要重新遷入臺北市滿1年嗎？若父母雙方與兒童分...\n",
       "603                       衛福部社家署父母未就業家庭育兒津貼與臺北市育兒津貼可否併領？\n",
       "604             報載幼兒交爺奶托帶，是否可領2,000元之就業者托育費用補助？何時開始申請補助？\n",
       "605                                        若有遊民需要安置之處理方式\n",
       "606                                  身心障礙者有社會福利需求如何請求協助？\n",
       "607                                         市民代賑工薪津撥付事宜？\n",
       "608                                    支出憑證遺失如何辦理經費核銷事宜?\n",
       "609                                   廠商詢問財物、勞務及工程之付款進度。\n",
       "610                       臺北市立陽明教養院篩檢吞嚥困難院生及提高用餐安全的方式為何?\n",
       "611                                      請問重陽節禮金的發給標準為何？\n",
       "612                         中低老人假牙補助的臺北市牙醫師公會所屬醫療院所是指哪些?\n",
       "613            老人是否可以自己找習慣的診所裝置假牙後，再來申請補助，或是否可以在外縣市裝置假牙?\n",
       "614                                  中低老人假牙補助的補助對象及申請資格。\n",
       "615                                        中低老人假牙補助申請流程。\n",
       "616                                         入住陽明教養院申請程序？\n",
       "617                              申請身心障礙者輔具費用補助是否有設籍時間限制？\n",
       "618                               申請敬老、愛心及愛心陪伴悠遊卡應備文件為何？\n",
       "619                                      臺北市立陽明教養院入院申請資格\n",
       "620                                 臺北市立陽明教養院院生收容教養費收費標準\n",
       "621                                       單獨使用愛心陪伴卡有優待嗎？\n",
       "622                                 敬老、愛心悠遊卡公車免費次數用完怎麼辦？\n",
       "623                                長者預防走失手鍊訓練課程辦理的單位有哪些?\n",
       "624                                    訂購臺北市立陽明教養院院生生產產品\n",
       "625                                        臺北市立陽明教養院特殊餐食\n",
       "626                                 臺北市立陽明教養院院生用餐方式及用餐時間\n",
       "627                             持敬老或愛心悠遊卡者已往生，家人要如何辦理註銷？\n",
       "628                                    敬老、愛心悠遊卡上車不能刷怎麼辦？\n",
       "629    報載身障專用停車證將有新變革請問何時開始實施？有何變革？未來專用停車位識別證僅提供行動不便身...\n",
       "Name: question, Length: 630, dtype: object"
      ]
     },
     "execution_count": 5,
     "metadata": {},
     "output_type": "execute_result"
    }
   ],
   "source": [
    "df_test= getall('taipei')\n",
    "df_test['question']"
   ]
  },
  {
   "cell_type": "code",
   "execution_count": 6,
   "metadata": {
    "collapsed": false,
    "deletable": true,
    "editable": true,
    "scrolled": false
   },
   "outputs": [
    {
     "name": "stderr",
     "output_type": "stream",
     "text": [
      "Building prefix dict from D:\\Projects\\QA1999\\dict.txt.big ...\n"
     ]
    },
    {
     "name": "stdout",
     "output_type": "stream",
     "text": [
      "身心障礙者如無法於效期屆滿前申請或完成重新鑑定及需求評估應如何辦理？\n"
     ]
    },
    {
     "name": "stderr",
     "output_type": "stream",
     "text": [
      "Dumping model to file cache C:\\Users\\Jeremy\\AppData\\Local\\Temp\\jieba.uc996f548e153e62ac1a018ca2fd543be.cache\n",
      "Loading model cost 3.663 seconds.\n",
      "Prefix dict has been built succesfully.\n"
     ]
    },
    {
     "name": "stdout",
     "output_type": "stream",
     "text": [
      "身心, 障礙者, 如, 無法, 於, 效期, 屆滿, 前, 申請, 或, 完成, 重新, 鑑定, 及, 需求, 評估, 應, 如何, 辦理, ？\n",
      "身心, 障礙者, 如, 無法, 於, 效期, 屆滿, 前, 申請, 或, 完成, 重新, 鑑定, 及, 需求, 評估, 應, 如何, 辦理, ？, 例如, 難以, 不能, 很難, 根本無法, 未能, 沒法, 能夠, 有效期, 到期, 屆滿時, 提出申請, 申請人, 申領, 或是, 或者, 再次, 鑑別, 檢驗, 以及, 市場需求, 風險評估, 怎樣\n",
      "7.0\n",
      "身心障礙者福利\n"
     ]
    },
    {
     "data": {
      "text/plain": [
       "'身心障礙者福利'"
      ]
     },
     "execution_count": 6,
     "metadata": {},
     "output_type": "execute_result"
    }
   ],
   "source": [
    "test_sentence = df_test['question'][0]\n",
    "predict_cat(test_sentence)"
   ]
  },
  {
   "cell_type": "code",
   "execution_count": 5,
   "metadata": {
    "collapsed": false,
    "deletable": true,
    "editable": true
   },
   "outputs": [
    {
     "name": "stdout",
     "output_type": "stream",
     "text": [
      "發現有迷童、棄嬰或查無身分之兒少，需緊急安置者。\n",
      "發現, 有, 迷童, 、, 棄嬰, 或, 查無, 身分, 之, 兒少, ，, 需, 緊急, 安置, 者, 。\n",
      "發現, 有, 迷童, 、, 棄嬰, 或, 查無, 身分, 之, 兒少, ，, 需, 緊急, 安置, 者, 。, 或是, 或者, 身份, 需要, 須\n",
      "0.0\n",
      "社會救助\n"
     ]
    },
    {
     "data": {
      "text/plain": [
       "'社會救助'"
      ]
     },
     "execution_count": 5,
     "metadata": {},
     "output_type": "execute_result"
    }
   ],
   "source": [
    "test_sentence = df_test['question'][5]\n",
    "predict_cat(test_sentence)"
   ]
  },
  {
   "cell_type": "code",
   "execution_count": 6,
   "metadata": {
    "collapsed": false,
    "deletable": true,
    "editable": true
   },
   "outputs": [
    {
     "name": "stdout",
     "output_type": "stream",
     "text": [
      "外籍配偶可否申請「馬上關懷急難救助」？\n",
      "外籍, 配偶, 可否, 申請, 「, 馬上, 關懷, 急難, 救助, 」, ？\n",
      "外籍, 配偶, 可否, 申請, 「, 馬上, 關懷, 急難, 救助, 」, ？, 血親, 提出申請, 申請人, 申領, 立刻, 立即, 關愛\n",
      "0.0\n",
      "社會救助\n"
     ]
    },
    {
     "data": {
      "text/plain": [
       "'社會救助'"
      ]
     },
     "execution_count": 6,
     "metadata": {},
     "output_type": "execute_result"
    }
   ],
   "source": [
    "test_sentence = df_test['question'][10]\n",
    "predict_cat(test_sentence)"
   ]
  },
  {
   "cell_type": "code",
   "execution_count": 125,
   "metadata": {
    "collapsed": false,
    "deletable": true,
    "editable": true,
    "scrolled": true
   },
   "outputs": [
    {
     "name": "stdout",
     "output_type": "stream",
     "text": [
      "長者預防走失手鍊及身心障礙者防走失手鍊有何不同？\n",
      "長者, 預防, 走失, 手鍊, 及, 身心, 障礙者, 防, 走失, 手鍊, 有何, 不同, ？\n",
      "長者, 預防, 走失, 手鍊, 及, 身心, 障礙者, 防, 走失, 手鍊, 有何, 不同, ？, 防治, 預防性, 性病, 慢性病, 傳染病, 心血管疾病, 項鍊, 耳環, 以及, 項鍊, 耳環, 有所不同, 各有不同, 相同\n",
      "7.0\n",
      "身心障礙者福利\n"
     ]
    },
    {
     "data": {
      "text/plain": [
       "'身心障礙者福利'"
      ]
     },
     "execution_count": 125,
     "metadata": {},
     "output_type": "execute_result"
    }
   ],
   "source": [
    "test_sentence = df_test['question'][9]\n",
    "predict_cat(test_sentence)"
   ]
  },
  {
   "cell_type": "code",
   "execution_count": 126,
   "metadata": {
    "collapsed": false,
    "deletable": true,
    "editable": true
   },
   "outputs": [
    {
     "name": "stdout",
     "output_type": "stream",
     "text": [
      "「馬上關懷急難救助」是否僅有低收入戶或非低收入戶才能提出申請？\n",
      "「, 馬上, 關懷, 急難, 救助, 」, 是否, 僅有, 低收入, 戶, 或非, 低收入, 戶, 才能, 提出申請, ？\n",
      "「, 馬上, 關懷, 急難, 救助, 」, 是否, 僅有, 低收入, 戶, 或非, 低收入, 戶, 才能, 提出申請, ？, 立刻, 立即, 關愛, 與否, 只有, 中低收入, 綜援, 限制性, 中低收入, 綜援, 申請, 報備, 呈報, 遞交\n",
      "11.0\n",
      "社會救助\n"
     ]
    },
    {
     "data": {
      "text/plain": [
       "'社會救助'"
      ]
     },
     "execution_count": 126,
     "metadata": {},
     "output_type": "execute_result"
    }
   ],
   "source": [
    "test_sentence = df_test['question'][14]\n",
    "predict_cat(test_sentence)"
   ]
  },
  {
   "cell_type": "code",
   "execution_count": 110,
   "metadata": {
    "collapsed": false,
    "deletable": true,
    "editable": true
   },
   "outputs": [
    {
     "name": "stdout",
     "output_type": "stream",
     "text": [
      "我已經是低收入戶，還可以申請特殊境遇家庭扶助嗎？\n",
      "我, 已經, 是, 低收入, 戶, ，, 還, 可以, 申請, 特殊, 境遇, 家庭, 扶助, 嗎, ？\n",
      "我, 已經, 是, 低收入, 戶, ，, 還, 可以, 申請, 特殊, 境遇, 家庭, 扶助, 嗎, ？, 你, 已, 早已, 中低收入, 綜援, 他還, 它還, 能夠, 可, 能, 還能, 提出申請, 申請人, 申領, 怎麼\n",
      "11.0\n",
      "社會救助\n"
     ]
    },
    {
     "data": {
      "text/plain": [
       "'社會救助'"
      ]
     },
     "execution_count": 110,
     "metadata": {},
     "output_type": "execute_result"
    }
   ],
   "source": [
    "test_sentence = df_test['question'][50]\n",
    "predict_cat(test_sentence)"
   ]
  },
  {
   "cell_type": "code",
   "execution_count": 111,
   "metadata": {
    "collapsed": false,
    "deletable": true,
    "editable": true
   },
   "outputs": [
    {
     "name": "stdout",
     "output_type": "stream",
     "text": [
      "特殊境遇家庭扶助要向哪個單位申請、申請方式？\n",
      "特殊, 境遇, 家庭, 扶助, 要, 向, 哪個, 單位, 申請, 、, 申請, 方式, ？\n",
      "特殊, 境遇, 家庭, 扶助, 要, 向, 哪個, 單位, 申請, 、, 申請, 方式, ？, 必須, 就要, 並向, 哪種, 提出申請, 申請人, 申領, 提出申請, 申請人, 申領, 方法, 形式\n",
      "6.0\n",
      "婦女福利\n"
     ]
    },
    {
     "data": {
      "text/plain": [
       "'婦女福利'"
      ]
     },
     "execution_count": 111,
     "metadata": {},
     "output_type": "execute_result"
    }
   ],
   "source": [
    "test_sentence = df_test['question'][60]\n",
    "predict_cat(test_sentence)"
   ]
  },
  {
   "cell_type": "code",
   "execution_count": 112,
   "metadata": {
    "collapsed": false,
    "deletable": true,
    "editable": true
   },
   "outputs": [
    {
     "name": "stdout",
     "output_type": "stream",
     "text": [
      "石頭湯（社區整合照顧服務）目前共有哪幾區提供服務？\n",
      "石頭, 湯, （, 社區, 整合, 照顧, 服務, ）, 目前, 共有, 哪幾, 區, 提供, 服務, ？\n",
      "石頭, 湯, （, 社區, 整合, 照顧, 服務, ）, 目前, 共有, 哪幾, 區, 提供, 服務, ？, 照料, 養育, 共, 區的\n",
      "8.0\n",
      "社區發展服務\n"
     ]
    },
    {
     "data": {
      "text/plain": [
       "'社區發展服務'"
      ]
     },
     "execution_count": 112,
     "metadata": {},
     "output_type": "execute_result"
    }
   ],
   "source": [
    "test_sentence = df_test['question'][70]\n",
    "predict_cat(test_sentence)"
   ]
  },
  {
   "cell_type": "code",
   "execution_count": null,
   "metadata": {
    "collapsed": true,
    "deletable": true,
    "editable": true
   },
   "outputs": [],
   "source": []
  },
  {
   "cell_type": "code",
   "execution_count": null,
   "metadata": {
    "collapsed": true,
    "deletable": true,
    "editable": true
   },
   "outputs": [],
   "source": []
  },
  {
   "cell_type": "code",
   "execution_count": null,
   "metadata": {
    "collapsed": true,
    "deletable": true,
    "editable": true
   },
   "outputs": [],
   "source": []
  },
  {
   "cell_type": "code",
   "execution_count": null,
   "metadata": {
    "collapsed": true,
    "deletable": true,
    "editable": true
   },
   "outputs": [],
   "source": []
  },
  {
   "cell_type": "code",
   "execution_count": 79,
   "metadata": {
    "collapsed": false,
    "deletable": true,
    "editable": true,
    "scrolled": true
   },
   "outputs": [
    {
     "data": {
      "text/plain": [
       "0                                       小孩出生後應於何時申請育兒津貼?\n",
       "1                                       小孩出生後應於何時申請育兒津貼?\n",
       "2                                          育兒津貼申請應備文件為何?\n",
       "3                             若民眾夫妻雙方均失業，是否可申請家庭育兒津貼費用補助\n",
       "4                                            育兒津貼補助對象為何？\n",
       "5                              如何認定是否符合父母未就業家庭育兒津貼中的未就業？\n",
       "6      未就業家庭育兒津貼條件中，若一方無工作但有投保公會勞保，請問是否可申請該項津貼，請提供該項業...\n",
       "7                               就業者家庭部分托育費用補助所稱的「就業者」為何？\n",
       "8                我未來想當合格托育人員，但又不是相關科系，新竹市哪裡會開辦托育人員訓練課程呢？\n",
       "9                      我該如何成為居家托育服務中心(原社區保母系統)的居家式托育人員呢？\n",
       "10                                     親戚朋友托育，是否也可以領補助呢？\n",
       "11                            就業者家庭部分托育費用補助申請應備文件為何？向誰申請\n",
       "12                                          育兒津貼補助內容為為何？\n",
       "13                                        誰可以提出育兒津貼申請手續？\n",
       "14                                           托育費用補助標準為何？\n",
       "15                                           托育費用補助對象為何？\n",
       "16                                           育兒津貼補助金額多少？\n",
       "17                           請提供本年度保母系統(居家托育服務中心)相關資訊為何?\n",
       "18                                    育兒津貼受理單位為何？審核程序為何？\n",
       "19                          要申請托育補助一定要找加入居家托育服務中心的托育人員嗎？\n",
       "20                             就業者家庭部分托育費用補助申請對象及審核程序為何？\n",
       "21                                  就業者家庭部分托育費用補助審核程序為何？\n",
       "22                                      托育補助金額多少，補助期間多長？\n",
       "23                                         免費育兒指導的內容是什麼？\n",
       "24                                    育兒指導員到府可提供哪些服務內容？ \n",
       "25     目前有領取育嬰留職停薪不能請領育兒津貼，但育嬰留職停薪只能請領六個月，之後孩子仍未滿2歲，還...\n",
       "26                        居家式托育人員(原保母)或親屬保母每人至多可以照顧幾位幼童？\n",
       "27                                     申請育兒指導服務要符合怎樣的資格？\n",
       "28                                           如何申請育兒指導服務？\n",
       "29                               育兒指導服務可以提供哪些協助？全部免費服務嗎？\n",
       "                             ...                        \n",
       "297                                       取用食物的時候要注意什麼嗎？\n",
       "298                                       取用食物有限制數量及區域嗎？\n",
       "299                                         放在冰箱中的食物安全嗎?\n",
       "300                                               續食是什麼?\n",
       "301                                             什麼是愛享冰箱?\n",
       "302                                         推動社區愛享冰箱的目的?\n",
       "303                                        請問如何進行合作社之清算？\n",
       "304                                     如何申請本市社會福利慈善基金會？\n",
       "305                                   本市人民團體申請設立程序及法令依據？\n",
       "306                                   請問有關合作社變更登記應備文件為何？\n",
       "307                                      本市人民團體選舉相關重要法令？\n",
       "308                                       請問合作社場解散之程序為何？\n",
       "309                                        請問如何申請籌組合作社場？\n",
       "310                                       申請籌組人民團體之條件為何？\n",
       "311                                               何謂合作社？\n",
       "312                               如何申請設立財團法人社會福利慈善事業基金會？\n",
       "313                                     申請人民團體應附書表及證件為何？\n",
       "314                                            如何加入志工行列？\n",
       "315                                              如何申請志工隊\n",
       "316                                          如何申請志願服務紀錄冊\n",
       "317                                          如何申請志願服務榮譽卡\n",
       "318              加入國民年金保險，經審查符合所得未達一定標準者，如有戶籍遷徙，是否應重新申請？\n",
       "319                       申請國民年金所得未達一定標準資格認定，應向哪一單位提出申請？\n",
       "320                   國民年金開辦時年滿65歲之一般國民，請領老年基本保證年金之資格為何？\n",
       "321           國民年金保險被保險人如果是家庭收入較低者，國民年金保險費是否可以減免？補助標準為何？\n",
       "322                                         國民年金之實施對象為何？\n",
       "323                                     國民年金生育給付從什麼時候開辦？\n",
       "324                                     國民年金生育給付從何時開始調漲？\n",
       "325                                       國民年金生育給付的申請資格？\n",
       "326                               國民年金所得未達一定標準保費減免的申請方式？\n",
       "Name: question, Length: 327, dtype: object"
      ]
     },
     "execution_count": 79,
     "metadata": {},
     "output_type": "execute_result"
    }
   ],
   "source": [
    "df_test= getall('hsinchu')\n",
    "df_test['question']"
   ]
  },
  {
   "cell_type": "code",
   "execution_count": 80,
   "metadata": {
    "collapsed": false,
    "deletable": true,
    "editable": true
   },
   "outputs": [
    {
     "name": "stdout",
     "output_type": "stream",
     "text": [
      "小孩出生後應於何時申請育兒津貼?\n",
      "小孩, 出生, 後, 應於, 何時, 申請, 育兒, 津貼, ?\n",
      "小孩, 出生, 後, 應於, 何時, 申請, 育兒, 津貼, ?, 孩子, 小孩子, 孩童, 小女孩, 之後, 以後, 隨後, 後則, 其後, 過後, 而後, 提出申請, 申請人, 申領, 退休金, 綜援, 補貼, 補助金, 養老金, 學雜費, 學費, 撫卹金, 救濟金, 補助費\n",
      "幼兒福利及托育服務\n"
     ]
    },
    {
     "data": {
      "text/plain": [
       "'幼兒福利及托育服務'"
      ]
     },
     "execution_count": 80,
     "metadata": {},
     "output_type": "execute_result"
    }
   ],
   "source": [
    "test_sentence = df_test['question'][0]\n",
    "process_into_vector(test_sentence)"
   ]
  },
  {
   "cell_type": "code",
   "execution_count": 81,
   "metadata": {
    "collapsed": false,
    "deletable": true,
    "editable": true
   },
   "outputs": [
    {
     "name": "stdout",
     "output_type": "stream",
     "text": [
      "親戚朋友托育，是否也可以領補助呢？\n",
      "親戚朋友, 托育, ，, 是否, 也, 可以, 領, 補助, 呢, ？\n",
      "親戚朋友, 托育, ，, 是否, 也, 可以, 領, 補助, 呢, ？, 托老, 與否, 亦, 能夠, 可, 能, 還能, 補貼\n",
      "幼兒福利及托育服務\n"
     ]
    },
    {
     "data": {
      "text/plain": [
       "'幼兒福利及托育服務'"
      ]
     },
     "execution_count": 81,
     "metadata": {},
     "output_type": "execute_result"
    }
   ],
   "source": [
    "test_sentence = df_test['question'][10]\n",
    "process_into_vector(test_sentence)"
   ]
  },
  {
   "cell_type": "code",
   "execution_count": 82,
   "metadata": {
    "collapsed": false,
    "deletable": true,
    "editable": true
   },
   "outputs": [
    {
     "name": "stdout",
     "output_type": "stream",
     "text": [
      "我已經年滿65歲領有國民年金老人年金及基本保證年金3628元，因家境清寒還可以再申請中低收入戶老人生活津貼嗎？\n",
      "我, 已經, 年滿, 65, 歲, 領有, 國民, 年金, 老人, 年金, 及, 基本, 保證, 年金, 3628, 元, ，, 因, 家境清寒, 還, 可以, 再, 申請, 中低收入, 戶, 老人, 生活, 津貼, 嗎, ？\n",
      "我, 已經, 年滿, 65, 歲, 領有, 國民, 年金, 老人, 年金, 及, 基本, 保證, 年金, 3628, 元, ，, 因, 家境清寒, 還, 可以, 再, 申請, 中低收入, 戶, 老人, 生活, 津貼, 嗎, ？, 你, 已, 早已, 未滿, 週歲, 五歲, 十歲, 十四歲, 十五歲, 九歲, 所領, 以及, 確保, 由於, 因為, 家境貧困, 家境貧寒, 家貧, 嬌生慣養, 喪母, 他還, 它還, 能夠, 可, 能, 還能, 提出申請, 申請人, 申領, 低收入, 增寶兒, 退休金, 綜援, 補貼, 補助金, 養老金, 學雜費, 學費, 撫卹金, 救濟金, 補助費, 怎麼\n",
      "老人福利\n"
     ]
    },
    {
     "data": {
      "text/plain": [
       "'老人福利'"
      ]
     },
     "execution_count": 82,
     "metadata": {},
     "output_type": "execute_result"
    }
   ],
   "source": [
    "test_sentence = df_test['question'][100]\n",
    "process_into_vector(test_sentence)"
   ]
  },
  {
   "cell_type": "code",
   "execution_count": null,
   "metadata": {
    "collapsed": true,
    "deletable": true,
    "editable": true
   },
   "outputs": [],
   "source": []
  },
  {
   "cell_type": "code",
   "execution_count": null,
   "metadata": {
    "collapsed": true,
    "deletable": true,
    "editable": true
   },
   "outputs": [],
   "source": []
  },
  {
   "cell_type": "code",
   "execution_count": null,
   "metadata": {
    "collapsed": true,
    "deletable": true,
    "editable": true
   },
   "outputs": [],
   "source": []
  },
  {
   "cell_type": "code",
   "execution_count": null,
   "metadata": {
    "collapsed": true,
    "deletable": true,
    "editable": true
   },
   "outputs": [],
   "source": []
  },
  {
   "cell_type": "code",
   "execution_count": null,
   "metadata": {
    "collapsed": true,
    "deletable": true,
    "editable": true
   },
   "outputs": [],
   "source": []
  },
  {
   "cell_type": "code",
   "execution_count": null,
   "metadata": {
    "collapsed": true,
    "deletable": true,
    "editable": true
   },
   "outputs": [],
   "source": []
  },
  {
   "cell_type": "code",
   "execution_count": null,
   "metadata": {
    "collapsed": true,
    "deletable": true,
    "editable": true
   },
   "outputs": [],
   "source": []
  },
  {
   "cell_type": "code",
   "execution_count": null,
   "metadata": {
    "collapsed": true,
    "deletable": true,
    "editable": true
   },
   "outputs": [],
   "source": []
  },
  {
   "cell_type": "code",
   "execution_count": null,
   "metadata": {
    "collapsed": true,
    "deletable": true,
    "editable": true
   },
   "outputs": [],
   "source": []
  },
  {
   "cell_type": "code",
   "execution_count": null,
   "metadata": {
    "collapsed": true,
    "deletable": true,
    "editable": true
   },
   "outputs": [],
   "source": []
  },
  {
   "cell_type": "code",
   "execution_count": null,
   "metadata": {
    "collapsed": true,
    "deletable": true,
    "editable": true
   },
   "outputs": [],
   "source": []
  },
  {
   "cell_type": "code",
   "execution_count": null,
   "metadata": {
    "collapsed": true,
    "deletable": true,
    "editable": true
   },
   "outputs": [],
   "source": []
  },
  {
   "cell_type": "code",
   "execution_count": null,
   "metadata": {
    "collapsed": true,
    "deletable": true,
    "editable": true
   },
   "outputs": [],
   "source": []
  },
  {
   "cell_type": "code",
   "execution_count": null,
   "metadata": {
    "collapsed": true,
    "deletable": true,
    "editable": true
   },
   "outputs": [],
   "source": []
  },
  {
   "cell_type": "code",
   "execution_count": null,
   "metadata": {
    "collapsed": true,
    "deletable": true,
    "editable": true
   },
   "outputs": [],
   "source": [
    "import jieba\n",
    "from pymongo import MongoClient\n",
    "import pandas as pd\n",
    "import requests\n",
    "import xgboost \n",
    "import xgboost as xgb\n",
    "import json"
   ]
  },
  {
   "cell_type": "code",
   "execution_count": null,
   "metadata": {
    "collapsed": true,
    "deletable": true,
    "editable": true
   },
   "outputs": [],
   "source": [
    "bst = xgb.Booster({'nthread': 4})  # init model\n",
    "bst.load_model(\"186764.model\")\n",
    "\n",
    "def getall(col_name):\n",
    "    conn = MongoClient()\n",
    "    db = conn.QA1999\n",
    "    collection = db[col_name]\n",
    "    cursor = collection.find({})\n",
    "    rows = [row for row in cursor]\n",
    "    df = pd.DataFrame(rows)\n",
    "#     df.drop_duplicates(inplace=True)\n",
    "    return df\n",
    "\n",
    "df_train = getall('hsinchu')\n",
    "\n",
    "cat_mapping = {'人民團體及合作社場服務': 1,\n",
    "                 '兒童少年及家庭福利': 9,\n",
    "                 '國民年金': 4,\n",
    "                 '婦女福利': 6,\n",
    "                 '家庭暴力及性侵害防治服務': 2,\n",
    "                 '幼兒福利及托育服務': 3,\n",
    "                 '志願服務': 0,\n",
    "                 '社區發展服務': 8,\n",
    "                 '社工專業服務': 5,\n",
    "                 '社會救助': 11,\n",
    "                 '老人福利': 10,\n",
    "                 '身心障礙者福利': 7}\n",
    "\n",
    "total_li = []\n",
    "for li in list(df_train['words']):\n",
    "    total_li += li\n",
    "vectorterms = list(set(total_li))\n",
    "main_list = [0] * len(vectorterms)\n",
    "    \n",
    "def process_into_vector(test_sentence):\n",
    "    print(test_sentence)\n",
    "    words = list(jieba.cut(test_sentence, cut_all=False))\n",
    "    print(\", \".join(words))\n",
    "    \n",
    "    allrelated = []\n",
    "    for keyword in words:\n",
    "        url = 'http://140.120.13.244:10000/kem/?keyword='+ keyword +'&lang=cht'\n",
    "        res = requests.get(url)\n",
    "        related = [term[0] for term in eval(res.text) if term[1] > 0.65]\n",
    "        allrelated.extend(related)\n",
    "    words.extend(allrelated)\n",
    "    print(\", \".join(words))\n",
    "        \n",
    "    self_main_list = main_list.copy()\n",
    "    for term in words:\n",
    "        try:\n",
    "            idx = vectorterms.index(term)\n",
    "            self_main_list[idx] += 1\n",
    "        except:\n",
    "            pass\n",
    "        \n",
    "    vector = self_main_list\n",
    "    cat_num = bst.predict(xgboost.DMatrix(np.array([vector,])))[0]\n",
    "    print(cat_num)\n",
    "    cat = None\n",
    "    for key, value in cat_mapping.items():\n",
    "        if str(int(cat_num)) == str(value):\n",
    "            cat = key\n",
    "    print(cat)\n",
    "    return cat\n"
   ]
  },
  {
   "cell_type": "code",
   "execution_count": null,
   "metadata": {
    "collapsed": true,
    "deletable": true,
    "editable": true
   },
   "outputs": [],
   "source": [
    "df_test= getall('taipei')\n",
    "df_test['question']"
   ]
  },
  {
   "cell_type": "code",
   "execution_count": null,
   "metadata": {
    "collapsed": true,
    "deletable": true,
    "editable": true
   },
   "outputs": [],
   "source": [
    "test_sentence = df_test['question'][0]\n",
    "process_into_vector(test_sentence)"
   ]
  },
  {
   "cell_type": "code",
   "execution_count": null,
   "metadata": {
    "collapsed": true,
    "deletable": true,
    "editable": true
   },
   "outputs": [],
   "source": []
  },
  {
   "cell_type": "code",
   "execution_count": null,
   "metadata": {
    "collapsed": true,
    "deletable": true,
    "editable": true
   },
   "outputs": [],
   "source": []
  },
  {
   "cell_type": "code",
   "execution_count": null,
   "metadata": {
    "collapsed": true,
    "deletable": true,
    "editable": true
   },
   "outputs": [],
   "source": []
  },
  {
   "cell_type": "code",
   "execution_count": null,
   "metadata": {
    "collapsed": true,
    "deletable": true,
    "editable": true
   },
   "outputs": [],
   "source": []
  }
 ],
 "metadata": {
  "kernelspec": {
   "display_name": "Python 3",
   "language": "python",
   "name": "python3"
  },
  "language_info": {
   "codemirror_mode": {
    "name": "ipython",
    "version": 3
   },
   "file_extension": ".py",
   "mimetype": "text/x-python",
   "name": "python",
   "nbconvert_exporter": "python",
   "pygments_lexer": "ipython3",
   "version": "3.5.3"
  }
 },
 "nbformat": 4,
 "nbformat_minor": 2
}
