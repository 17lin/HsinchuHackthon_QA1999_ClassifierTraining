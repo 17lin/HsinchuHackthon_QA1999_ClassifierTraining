{
 "cells": [
  {
   "cell_type": "code",
   "execution_count": 2,
   "metadata": {
    "collapsed": false,
    "deletable": true,
    "editable": true
   },
   "outputs": [
    {
     "name": "stderr",
     "output_type": "stream",
     "text": [
      "c:\\users\\jeremy\\appdata\\local\\programs\\python\\python35\\lib\\site-packages\\sklearn\\cross_validation.py:44: DeprecationWarning: This module was deprecated in version 0.18 in favor of the model_selection module into which all the refactored classes and functions are moved. Also note that the interface of the new CV iterators are different from that of this module. This module will be removed in 0.20.\n",
      "  \"This module will be removed in 0.20.\", DeprecationWarning)\n"
     ]
    }
   ],
   "source": [
    "from pymongo import MongoClient\n",
    "import pandas as pd\n",
    "import numpy as np\n",
    "import matplotlib.pyplot as plt\n",
    "import jieba\n",
    "jieba.set_dictionary('dict.txt.big')\n",
    "stopwords = [ line.rstrip() for line in open('stop_words.txt' , encoding='utf8') ] # if you want to use you should modify it yourself\n",
    "    \n",
    "from pprint import pprint\n",
    "import requests\n",
    "import json\n",
    "\n",
    "\n",
    "# for treining\n",
    "import math\n",
    "\n",
    "import matplotlib.pyplot as plt\n",
    "from mpl_toolkits.mplot3d import Axes3D\n",
    "from sklearn.decomposition import PCA\n",
    "from sklearn.neighbors import KNeighborsClassifier\n",
    "from sklearn.svm import SVC\n",
    "from sklearn.model_selection import train_test_split\n",
    "\n",
    "import xgboost as xgb\n",
    "from pylab import rcParams\n",
    "\n",
    "from datetime import datetime\n",
    "import string\n",
    "\n",
    "## get crawled data from local mongoDB\n",
    "## if you don't want to implement crawling part, you can ignore it\n",
    "# def getall(col_name):\n",
    "#     conn = MongoClient()\n",
    "#     db = conn.QA1999\n",
    "#     collection = db[col_name]\n",
    "#     cursor = collection.find({})\n",
    "#     rows = [row for row in cursor]\n",
    "#     df = pd.DataFrame(rows)\n",
    "#     return df\n",
    "# df_train = getall('hsinchu')\n",
    "# with open('RawData.json', 'w', encoding='utf8') as f:\n",
    "#     data = list(df_train[['id', 'question', 'ans', 'cat']].T.to_dict().values())\n",
    "#     json.dump(data, f, ensure_ascii=False)\n",
    "\n",
    "# This is crawled from 新竹社會局常見問答集\n",
    "def getall():\n",
    "    with open('RawData.json', 'r', encoding='utf8') as f:\n",
    "        data = json.load(f)\n",
    "    df = pd.DataFrame(data)\n",
    "    return df\n",
    "\n"
   ]
  },
  {
   "cell_type": "markdown",
   "metadata": {},
   "source": [
    "# Data Description"
   ]
  },
  {
   "cell_type": "code",
   "execution_count": 2,
   "metadata": {
    "collapsed": false,
    "deletable": true,
    "editable": true,
    "scrolled": true
   },
   "outputs": [
    {
     "data": {
      "text/html": [
       "<div>\n",
       "<style>\n",
       "    .dataframe thead tr:only-child th {\n",
       "        text-align: right;\n",
       "    }\n",
       "\n",
       "    .dataframe thead th {\n",
       "        text-align: left;\n",
       "    }\n",
       "\n",
       "    .dataframe tbody tr th {\n",
       "        vertical-align: top;\n",
       "    }\n",
       "</style>\n",
       "<table border=\"1\" class=\"dataframe\">\n",
       "  <thead>\n",
       "    <tr style=\"text-align: right;\">\n",
       "      <th></th>\n",
       "      <th>ans</th>\n",
       "      <th>cat</th>\n",
       "      <th>id</th>\n",
       "      <th>question</th>\n",
       "    </tr>\n",
       "  </thead>\n",
       "  <tbody>\n",
       "    <tr>\n",
       "      <th>0</th>\n",
       "      <td>1.幼兒家長在戶政事務所完成新生兒出生登記後，即可向所轄區公所社政課提出育兒津貼申請。2.在...</td>\n",
       "      <td>幼兒福利及托育服務</td>\n",
       "      <td>189</td>\n",
       "      <td>小孩出生後應於何時申請育兒津貼?</td>\n",
       "    </tr>\n",
       "    <tr>\n",
       "      <th>1</th>\n",
       "      <td>隨時提出;津貼經審查通過後，追溯自受理申請之當月起發給。兒童出生後六十日內向戶政事務所完成出...</td>\n",
       "      <td>幼兒福利及托育服務</td>\n",
       "      <td>189</td>\n",
       "      <td>小孩出生後應於何時申請育兒津貼?</td>\n",
       "    </tr>\n",
       "    <tr>\n",
       "      <th>2</th>\n",
       "      <td>申請資料應備齊:(一)兒童之戶口名簿影本。(二)申請人之郵局存摺封面影本。(三)父母雙方身分...</td>\n",
       "      <td>幼兒福利及托育服務</td>\n",
       "      <td>189</td>\n",
       "      <td>育兒津貼申請應備文件為何?</td>\n",
       "    </tr>\n",
       "    <tr>\n",
       "      <th>3</th>\n",
       "      <td>一、育兒津貼補助對象：1.育有二足歲以下兒童。2.兒童之父母至少一方因育兒需要，致未能就業者...</td>\n",
       "      <td>幼兒福利及托育服務</td>\n",
       "      <td>189</td>\n",
       "      <td>若民眾夫妻雙方均失業，是否可申請家庭育兒津貼費用補助</td>\n",
       "    </tr>\n",
       "    <tr>\n",
       "      <th>4</th>\n",
       "      <td>育兒津貼補助對象，應符合下列規定：(一)育有二足歲以下兒童。(二)兒童之父母(或監護人)至少...</td>\n",
       "      <td>幼兒福利及托育服務</td>\n",
       "      <td>189</td>\n",
       "      <td>育兒津貼補助對象為何？</td>\n",
       "    </tr>\n",
       "  </tbody>\n",
       "</table>\n",
       "</div>"
      ],
      "text/plain": [
       "                                                 ans        cat   id  \\\n",
       "0  1.幼兒家長在戶政事務所完成新生兒出生登記後，即可向所轄區公所社政課提出育兒津貼申請。2.在...  幼兒福利及托育服務  189   \n",
       "1  隨時提出;津貼經審查通過後，追溯自受理申請之當月起發給。兒童出生後六十日內向戶政事務所完成出...  幼兒福利及托育服務  189   \n",
       "2  申請資料應備齊:(一)兒童之戶口名簿影本。(二)申請人之郵局存摺封面影本。(三)父母雙方身分...  幼兒福利及托育服務  189   \n",
       "3  一、育兒津貼補助對象：1.育有二足歲以下兒童。2.兒童之父母至少一方因育兒需要，致未能就業者...  幼兒福利及托育服務  189   \n",
       "4  育兒津貼補助對象，應符合下列規定：(一)育有二足歲以下兒童。(二)兒童之父母(或監護人)至少...  幼兒福利及托育服務  189   \n",
       "\n",
       "                     question  \n",
       "0            小孩出生後應於何時申請育兒津貼?  \n",
       "1            小孩出生後應於何時申請育兒津貼?  \n",
       "2               育兒津貼申請應備文件為何?  \n",
       "3  若民眾夫妻雙方均失業，是否可申請家庭育兒津貼費用補助  \n",
       "4                 育兒津貼補助對象為何？  "
      ]
     },
     "execution_count": 2,
     "metadata": {},
     "output_type": "execute_result"
    }
   ],
   "source": [
    "## crawled data may not have words and vector columns, and the id is categoryid\n",
    "df_train = getall()\n",
    "df_train.head()"
   ]
  },
  {
   "cell_type": "code",
   "execution_count": 3,
   "metadata": {
    "collapsed": false
   },
   "outputs": [
    {
     "name": "stdout",
     "output_type": "stream",
     "text": [
      "Rows= 327\n"
     ]
    }
   ],
   "source": [
    "print(\"Rows=\", len(df_train))"
   ]
  },
  {
   "cell_type": "code",
   "execution_count": 4,
   "metadata": {
    "collapsed": false,
    "deletable": true,
    "editable": true,
    "scrolled": false
   },
   "outputs": [
    {
     "data": {
      "image/png": "[encoded data removed]",
      "text/plain": [
       "<matplotlib.figure.Figure at 0x1a027ff7eb8>"
      ]
     },
     "metadata": {},
     "output_type": "display_data"
    },
    {
     "name": "stdout",
     "output_type": "stream",
     "text": [
      "A 人民團體及合作社場服務 11\n",
      "B 兒童少年及家庭福利 30\n",
      "C 國民年金 9\n",
      "D 婦女福利 29\n",
      "E 家庭暴力及性侵害防治服務 36\n",
      "F 幼兒福利及托育服務 34\n",
      "G 志願服務 4\n",
      "H 社區發展服務 17\n",
      "I 社工專業服務 11\n",
      "J 社會救助 41\n",
      "K 老人福利 26\n",
      "L 身心障礙者福利 79\n"
     ]
    }
   ],
   "source": [
    "df_train = getall()\n",
    "# getall('taipei')\n",
    "main_series = df_train.groupby('cat').count()['ans']\n",
    "\n",
    "N = len(main_series)\n",
    "means = list(main_series)\n",
    "\n",
    "ind = np.arange(N)  # the x locations for the groups\n",
    "width = 0.35       # the width of the bars\n",
    "\n",
    "fig, ax = plt.subplots()\n",
    "rects1 = ax.bar(ind, means, width, color='r')\n",
    "\n",
    "# add some text for labels, title and axes ticks\n",
    "ax.set_ylabel('Count')\n",
    "ax.set_title('Count by Category')\n",
    "ax.set_xticks(ind + width / 2)\n",
    "ax.set_xticklabels(\"ABCDEFGHIJKLMNOPQRSTU\")\n",
    "\n",
    "\n",
    "def autolabel(rects):\n",
    "    \"\"\"\n",
    "    Attach a text label above each bar displaying its height\n",
    "    \"\"\"\n",
    "    for rect in rects:\n",
    "        height = rect.get_height()\n",
    "        ax.text(rect.get_x() + rect.get_width()/2., 1.05*height,\n",
    "                '%d' % int(height),\n",
    "                ha='center', va='bottom')\n",
    "\n",
    "autolabel(rects1)\n",
    "\n",
    "plt.show()\n",
    "\n",
    "for i in range(len(list(main_series.index))):\n",
    "    label = 'ABCDEFGHIJKLMNOPQRSTU'\n",
    "    print(label[i], main_series.index[i], list(main_series)[i])"
   ]
  },
  {
   "cell_type": "markdown",
   "metadata": {},
   "source": [
    "### Explaination:\n",
    "due the unbalanced distribution, we have to balance data first"
   ]
  },
  {
   "cell_type": "code",
   "execution_count": 5,
   "metadata": {
    "collapsed": false,
    "deletable": true,
    "editable": true,
    "scrolled": true
   },
   "outputs": [
    {
     "ename": "KeyError",
     "evalue": "'words'",
     "output_type": "error",
     "traceback": [
      "\u001b[1;31m---------------------------------------------------------------------------\u001b[0m",
      "\u001b[1;31mKeyError\u001b[0m                                  Traceback (most recent call last)",
      "\u001b[1;32mc:\\users\\jeremy\\appdata\\local\\programs\\python\\python35\\lib\\site-packages\\pandas\\core\\indexes\\base.py\u001b[0m in \u001b[0;36mget_loc\u001b[1;34m(self, key, method, tolerance)\u001b[0m\n\u001b[0;32m   2392\u001b[0m             \u001b[1;32mtry\u001b[0m\u001b[1;33m:\u001b[0m\u001b[1;33m\u001b[0m\u001b[0m\n\u001b[1;32m-> 2393\u001b[1;33m                 \u001b[1;32mreturn\u001b[0m \u001b[0mself\u001b[0m\u001b[1;33m.\u001b[0m\u001b[0m_engine\u001b[0m\u001b[1;33m.\u001b[0m\u001b[0mget_loc\u001b[0m\u001b[1;33m(\u001b[0m\u001b[0mkey\u001b[0m\u001b[1;33m)\u001b[0m\u001b[1;33m\u001b[0m\u001b[0m\n\u001b[0m\u001b[0;32m   2394\u001b[0m             \u001b[1;32mexcept\u001b[0m \u001b[0mKeyError\u001b[0m\u001b[1;33m:\u001b[0m\u001b[1;33m\u001b[0m\u001b[0m\n",
      "\u001b[1;32mpandas\\_libs\\index.pyx\u001b[0m in \u001b[0;36mpandas._libs.index.IndexEngine.get_loc (pandas\\_libs\\index.c:5239)\u001b[1;34m()\u001b[0m\n",
      "\u001b[1;32mpandas\\_libs\\index.pyx\u001b[0m in \u001b[0;36mpandas._libs.index.IndexEngine.get_loc (pandas\\_libs\\index.c:5085)\u001b[1;34m()\u001b[0m\n",
      "\u001b[1;32mpandas\\_libs\\hashtable_class_helper.pxi\u001b[0m in \u001b[0;36mpandas._libs.hashtable.PyObjectHashTable.get_item (pandas\\_libs\\hashtable.c:20405)\u001b[1;34m()\u001b[0m\n",
      "\u001b[1;32mpandas\\_libs\\hashtable_class_helper.pxi\u001b[0m in \u001b[0;36mpandas._libs.hashtable.PyObjectHashTable.get_item (pandas\\_libs\\hashtable.c:20359)\u001b[1;34m()\u001b[0m\n",
      "\u001b[1;31mKeyError\u001b[0m: 'words'",
      "\nDuring handling of the above exception, another exception occurred:\n",
      "\u001b[1;31mKeyError\u001b[0m                                  Traceback (most recent call last)",
      "\u001b[1;32m<ipython-input-5-8f9428ef66a7>\u001b[0m in \u001b[0;36m<module>\u001b[1;34m()\u001b[0m\n\u001b[0;32m      4\u001b[0m \u001b[0mfreqs\u001b[0m \u001b[1;33m=\u001b[0m \u001b[1;33m[\u001b[0m\u001b[1;33m]\u001b[0m\u001b[1;33m\u001b[0m\u001b[0m\n\u001b[0;32m      5\u001b[0m \u001b[1;32mfor\u001b[0m \u001b[0mcat\u001b[0m \u001b[1;32min\u001b[0m \u001b[0mlist\u001b[0m\u001b[1;33m(\u001b[0m\u001b[0mset\u001b[0m\u001b[1;33m(\u001b[0m\u001b[0mdf_train\u001b[0m\u001b[1;33m[\u001b[0m\u001b[1;34m'cat'\u001b[0m\u001b[1;33m]\u001b[0m\u001b[1;33m)\u001b[0m\u001b[1;33m)\u001b[0m\u001b[1;33m:\u001b[0m\u001b[1;33m\u001b[0m\u001b[0m\n\u001b[1;32m----> 6\u001b[1;33m     \u001b[0mwords_Li\u001b[0m \u001b[1;33m=\u001b[0m \u001b[0mlist\u001b[0m\u001b[1;33m(\u001b[0m\u001b[0mdf_train\u001b[0m\u001b[1;33m[\u001b[0m\u001b[0mdf_train\u001b[0m\u001b[1;33m[\u001b[0m\u001b[1;34m'cat'\u001b[0m\u001b[1;33m]\u001b[0m \u001b[1;33m==\u001b[0m \u001b[0mcat\u001b[0m\u001b[1;33m]\u001b[0m\u001b[1;33m[\u001b[0m\u001b[1;34m'words'\u001b[0m\u001b[1;33m]\u001b[0m\u001b[1;33m)\u001b[0m\u001b[1;33m\u001b[0m\u001b[0m\n\u001b[0m\u001b[0;32m      7\u001b[0m     \u001b[0mtotal_words_in_cat\u001b[0m \u001b[1;33m=\u001b[0m \u001b[1;33m[\u001b[0m\u001b[1;33m]\u001b[0m\u001b[1;33m\u001b[0m\u001b[0m\n\u001b[0;32m      8\u001b[0m     \u001b[1;32mfor\u001b[0m \u001b[0mwords\u001b[0m \u001b[1;32min\u001b[0m \u001b[0mwords_Li\u001b[0m\u001b[1;33m:\u001b[0m\u001b[1;33m\u001b[0m\u001b[0m\n",
      "\u001b[1;32mc:\\users\\jeremy\\appdata\\local\\programs\\python\\python35\\lib\\site-packages\\pandas\\core\\frame.py\u001b[0m in \u001b[0;36m__getitem__\u001b[1;34m(self, key)\u001b[0m\n\u001b[0;32m   2060\u001b[0m             \u001b[1;32mreturn\u001b[0m \u001b[0mself\u001b[0m\u001b[1;33m.\u001b[0m\u001b[0m_getitem_multilevel\u001b[0m\u001b[1;33m(\u001b[0m\u001b[0mkey\u001b[0m\u001b[1;33m)\u001b[0m\u001b[1;33m\u001b[0m\u001b[0m\n\u001b[0;32m   2061\u001b[0m         \u001b[1;32melse\u001b[0m\u001b[1;33m:\u001b[0m\u001b[1;33m\u001b[0m\u001b[0m\n\u001b[1;32m-> 2062\u001b[1;33m             \u001b[1;32mreturn\u001b[0m \u001b[0mself\u001b[0m\u001b[1;33m.\u001b[0m\u001b[0m_getitem_column\u001b[0m\u001b[1;33m(\u001b[0m\u001b[0mkey\u001b[0m\u001b[1;33m)\u001b[0m\u001b[1;33m\u001b[0m\u001b[0m\n\u001b[0m\u001b[0;32m   2063\u001b[0m \u001b[1;33m\u001b[0m\u001b[0m\n\u001b[0;32m   2064\u001b[0m     \u001b[1;32mdef\u001b[0m \u001b[0m_getitem_column\u001b[0m\u001b[1;33m(\u001b[0m\u001b[0mself\u001b[0m\u001b[1;33m,\u001b[0m \u001b[0mkey\u001b[0m\u001b[1;33m)\u001b[0m\u001b[1;33m:\u001b[0m\u001b[1;33m\u001b[0m\u001b[0m\n",
      "\u001b[1;32mc:\\users\\jeremy\\appdata\\local\\programs\\python\\python35\\lib\\site-packages\\pandas\\core\\frame.py\u001b[0m in \u001b[0;36m_getitem_column\u001b[1;34m(self, key)\u001b[0m\n\u001b[0;32m   2067\u001b[0m         \u001b[1;31m# get column\u001b[0m\u001b[1;33m\u001b[0m\u001b[1;33m\u001b[0m\u001b[0m\n\u001b[0;32m   2068\u001b[0m         \u001b[1;32mif\u001b[0m \u001b[0mself\u001b[0m\u001b[1;33m.\u001b[0m\u001b[0mcolumns\u001b[0m\u001b[1;33m.\u001b[0m\u001b[0mis_unique\u001b[0m\u001b[1;33m:\u001b[0m\u001b[1;33m\u001b[0m\u001b[0m\n\u001b[1;32m-> 2069\u001b[1;33m             \u001b[1;32mreturn\u001b[0m \u001b[0mself\u001b[0m\u001b[1;33m.\u001b[0m\u001b[0m_get_item_cache\u001b[0m\u001b[1;33m(\u001b[0m\u001b[0mkey\u001b[0m\u001b[1;33m)\u001b[0m\u001b[1;33m\u001b[0m\u001b[0m\n\u001b[0m\u001b[0;32m   2070\u001b[0m \u001b[1;33m\u001b[0m\u001b[0m\n\u001b[0;32m   2071\u001b[0m         \u001b[1;31m# duplicate columns & possible reduce dimensionality\u001b[0m\u001b[1;33m\u001b[0m\u001b[1;33m\u001b[0m\u001b[0m\n",
      "\u001b[1;32mc:\\users\\jeremy\\appdata\\local\\programs\\python\\python35\\lib\\site-packages\\pandas\\core\\generic.py\u001b[0m in \u001b[0;36m_get_item_cache\u001b[1;34m(self, item)\u001b[0m\n\u001b[0;32m   1532\u001b[0m         \u001b[0mres\u001b[0m \u001b[1;33m=\u001b[0m \u001b[0mcache\u001b[0m\u001b[1;33m.\u001b[0m\u001b[0mget\u001b[0m\u001b[1;33m(\u001b[0m\u001b[0mitem\u001b[0m\u001b[1;33m)\u001b[0m\u001b[1;33m\u001b[0m\u001b[0m\n\u001b[0;32m   1533\u001b[0m         \u001b[1;32mif\u001b[0m \u001b[0mres\u001b[0m \u001b[1;32mis\u001b[0m \u001b[1;32mNone\u001b[0m\u001b[1;33m:\u001b[0m\u001b[1;33m\u001b[0m\u001b[0m\n\u001b[1;32m-> 1534\u001b[1;33m             \u001b[0mvalues\u001b[0m \u001b[1;33m=\u001b[0m \u001b[0mself\u001b[0m\u001b[1;33m.\u001b[0m\u001b[0m_data\u001b[0m\u001b[1;33m.\u001b[0m\u001b[0mget\u001b[0m\u001b[1;33m(\u001b[0m\u001b[0mitem\u001b[0m\u001b[1;33m)\u001b[0m\u001b[1;33m\u001b[0m\u001b[0m\n\u001b[0m\u001b[0;32m   1535\u001b[0m             \u001b[0mres\u001b[0m \u001b[1;33m=\u001b[0m \u001b[0mself\u001b[0m\u001b[1;33m.\u001b[0m\u001b[0m_box_item_values\u001b[0m\u001b[1;33m(\u001b[0m\u001b[0mitem\u001b[0m\u001b[1;33m,\u001b[0m \u001b[0mvalues\u001b[0m\u001b[1;33m)\u001b[0m\u001b[1;33m\u001b[0m\u001b[0m\n\u001b[0;32m   1536\u001b[0m             \u001b[0mcache\u001b[0m\u001b[1;33m[\u001b[0m\u001b[0mitem\u001b[0m\u001b[1;33m]\u001b[0m \u001b[1;33m=\u001b[0m \u001b[0mres\u001b[0m\u001b[1;33m\u001b[0m\u001b[0m\n",
      "\u001b[1;32mc:\\users\\jeremy\\appdata\\local\\programs\\python\\python35\\lib\\site-packages\\pandas\\core\\internals.py\u001b[0m in \u001b[0;36mget\u001b[1;34m(self, item, fastpath)\u001b[0m\n\u001b[0;32m   3588\u001b[0m \u001b[1;33m\u001b[0m\u001b[0m\n\u001b[0;32m   3589\u001b[0m             \u001b[1;32mif\u001b[0m \u001b[1;32mnot\u001b[0m \u001b[0misnull\u001b[0m\u001b[1;33m(\u001b[0m\u001b[0mitem\u001b[0m\u001b[1;33m)\u001b[0m\u001b[1;33m:\u001b[0m\u001b[1;33m\u001b[0m\u001b[0m\n\u001b[1;32m-> 3590\u001b[1;33m                 \u001b[0mloc\u001b[0m \u001b[1;33m=\u001b[0m \u001b[0mself\u001b[0m\u001b[1;33m.\u001b[0m\u001b[0mitems\u001b[0m\u001b[1;33m.\u001b[0m\u001b[0mget_loc\u001b[0m\u001b[1;33m(\u001b[0m\u001b[0mitem\u001b[0m\u001b[1;33m)\u001b[0m\u001b[1;33m\u001b[0m\u001b[0m\n\u001b[0m\u001b[0;32m   3591\u001b[0m             \u001b[1;32melse\u001b[0m\u001b[1;33m:\u001b[0m\u001b[1;33m\u001b[0m\u001b[0m\n\u001b[0;32m   3592\u001b[0m                 \u001b[0mindexer\u001b[0m \u001b[1;33m=\u001b[0m \u001b[0mnp\u001b[0m\u001b[1;33m.\u001b[0m\u001b[0marange\u001b[0m\u001b[1;33m(\u001b[0m\u001b[0mlen\u001b[0m\u001b[1;33m(\u001b[0m\u001b[0mself\u001b[0m\u001b[1;33m.\u001b[0m\u001b[0mitems\u001b[0m\u001b[1;33m)\u001b[0m\u001b[1;33m)\u001b[0m\u001b[1;33m[\u001b[0m\u001b[0misnull\u001b[0m\u001b[1;33m(\u001b[0m\u001b[0mself\u001b[0m\u001b[1;33m.\u001b[0m\u001b[0mitems\u001b[0m\u001b[1;33m)\u001b[0m\u001b[1;33m]\u001b[0m\u001b[1;33m\u001b[0m\u001b[0m\n",
      "\u001b[1;32mc:\\users\\jeremy\\appdata\\local\\programs\\python\\python35\\lib\\site-packages\\pandas\\core\\indexes\\base.py\u001b[0m in \u001b[0;36mget_loc\u001b[1;34m(self, key, method, tolerance)\u001b[0m\n\u001b[0;32m   2393\u001b[0m                 \u001b[1;32mreturn\u001b[0m \u001b[0mself\u001b[0m\u001b[1;33m.\u001b[0m\u001b[0m_engine\u001b[0m\u001b[1;33m.\u001b[0m\u001b[0mget_loc\u001b[0m\u001b[1;33m(\u001b[0m\u001b[0mkey\u001b[0m\u001b[1;33m)\u001b[0m\u001b[1;33m\u001b[0m\u001b[0m\n\u001b[0;32m   2394\u001b[0m             \u001b[1;32mexcept\u001b[0m \u001b[0mKeyError\u001b[0m\u001b[1;33m:\u001b[0m\u001b[1;33m\u001b[0m\u001b[0m\n\u001b[1;32m-> 2395\u001b[1;33m                 \u001b[1;32mreturn\u001b[0m \u001b[0mself\u001b[0m\u001b[1;33m.\u001b[0m\u001b[0m_engine\u001b[0m\u001b[1;33m.\u001b[0m\u001b[0mget_loc\u001b[0m\u001b[1;33m(\u001b[0m\u001b[0mself\u001b[0m\u001b[1;33m.\u001b[0m\u001b[0m_maybe_cast_indexer\u001b[0m\u001b[1;33m(\u001b[0m\u001b[0mkey\u001b[0m\u001b[1;33m)\u001b[0m\u001b[1;33m)\u001b[0m\u001b[1;33m\u001b[0m\u001b[0m\n\u001b[0m\u001b[0;32m   2396\u001b[0m \u001b[1;33m\u001b[0m\u001b[0m\n\u001b[0;32m   2397\u001b[0m         \u001b[0mindexer\u001b[0m \u001b[1;33m=\u001b[0m \u001b[0mself\u001b[0m\u001b[1;33m.\u001b[0m\u001b[0mget_indexer\u001b[0m\u001b[1;33m(\u001b[0m\u001b[1;33m[\u001b[0m\u001b[0mkey\u001b[0m\u001b[1;33m]\u001b[0m\u001b[1;33m,\u001b[0m \u001b[0mmethod\u001b[0m\u001b[1;33m=\u001b[0m\u001b[0mmethod\u001b[0m\u001b[1;33m,\u001b[0m \u001b[0mtolerance\u001b[0m\u001b[1;33m=\u001b[0m\u001b[0mtolerance\u001b[0m\u001b[1;33m)\u001b[0m\u001b[1;33m\u001b[0m\u001b[0m\n",
      "\u001b[1;32mpandas\\_libs\\index.pyx\u001b[0m in \u001b[0;36mpandas._libs.index.IndexEngine.get_loc (pandas\\_libs\\index.c:5239)\u001b[1;34m()\u001b[0m\n",
      "\u001b[1;32mpandas\\_libs\\index.pyx\u001b[0m in \u001b[0;36mpandas._libs.index.IndexEngine.get_loc (pandas\\_libs\\index.c:5085)\u001b[1;34m()\u001b[0m\n",
      "\u001b[1;32mpandas\\_libs\\hashtable_class_helper.pxi\u001b[0m in \u001b[0;36mpandas._libs.hashtable.PyObjectHashTable.get_item (pandas\\_libs\\hashtable.c:20405)\u001b[1;34m()\u001b[0m\n",
      "\u001b[1;32mpandas\\_libs\\hashtable_class_helper.pxi\u001b[0m in \u001b[0;36mpandas._libs.hashtable.PyObjectHashTable.get_item (pandas\\_libs\\hashtable.c:20359)\u001b[1;34m()\u001b[0m\n",
      "\u001b[1;31mKeyError\u001b[0m: 'words'"
     ]
    }
   ],
   "source": [
    "from wordcloud import WordCloud\n",
    "from collections import Counter\n",
    "\n",
    "freqs = []\n",
    "for cat in list(set(df_train['cat'])):\n",
    "    words_Li = list(df_train[df_train['cat'] == cat]['words'])\n",
    "    total_words_in_cat = []\n",
    "    for words in words_Li:\n",
    "        total_words_in_cat.extend(words)\n",
    "    freq = Counter(total_words_in_cat)\n",
    "    freqs.append(freq)"
   ]
  },
  {
   "cell_type": "code",
   "execution_count": 6,
   "metadata": {
    "collapsed": true,
    "deletable": true,
    "editable": true
   },
   "outputs": [
    {
     "ename": "NameError",
     "evalue": "name 'wordcloud' is not defined",
     "output_type": "error",
     "traceback": [
      "\u001b[1;31m---------------------------------------------------------------------------\u001b[0m",
      "\u001b[1;31mNameError\u001b[0m                                 Traceback (most recent call last)",
      "\u001b[1;32m<ipython-input-6-70b95035bb1b>\u001b[0m in \u001b[0;36m<module>\u001b[1;34m()\u001b[0m\n\u001b[0;32m      2\u001b[0m \u001b[1;31m# wordcloud.generate_from_frequencies(frequencies=freqs[0])\u001b[0m\u001b[1;33m\u001b[0m\u001b[1;33m\u001b[0m\u001b[0m\n\u001b[0;32m      3\u001b[0m \u001b[0mplt\u001b[0m\u001b[1;33m.\u001b[0m\u001b[0mfigure\u001b[0m\u001b[1;33m(\u001b[0m\u001b[1;33m)\u001b[0m\u001b[1;33m\u001b[0m\u001b[0m\n\u001b[1;32m----> 4\u001b[1;33m \u001b[0mplt\u001b[0m\u001b[1;33m.\u001b[0m\u001b[0mimshow\u001b[0m\u001b[1;33m(\u001b[0m\u001b[0mwordcloud\u001b[0m\u001b[1;33m,\u001b[0m \u001b[0minterpolation\u001b[0m\u001b[1;33m=\u001b[0m\u001b[1;34m\"bilinear\"\u001b[0m\u001b[1;33m)\u001b[0m\u001b[1;33m\u001b[0m\u001b[0m\n\u001b[0m\u001b[0;32m      5\u001b[0m \u001b[0mplt\u001b[0m\u001b[1;33m.\u001b[0m\u001b[0maxis\u001b[0m\u001b[1;33m(\u001b[0m\u001b[1;34m\"off\"\u001b[0m\u001b[1;33m)\u001b[0m\u001b[1;33m\u001b[0m\u001b[0m\n\u001b[0;32m      6\u001b[0m \u001b[0mplt\u001b[0m\u001b[1;33m.\u001b[0m\u001b[0mshow\u001b[0m\u001b[1;33m(\u001b[0m\u001b[1;33m)\u001b[0m\u001b[1;33m\u001b[0m\u001b[0m\n",
      "\u001b[1;31mNameError\u001b[0m: name 'wordcloud' is not defined"
     ]
    }
   ],
   "source": [
    "# wordcloud = WordCloud()\n",
    "# wordcloud.generate_from_frequencies(frequencies=freqs[0])\n",
    "plt.figure()\n",
    "plt.imshow(wordcloud, interpolation=\"bilinear\")\n",
    "plt.axis(\"off\")\n",
    "plt.show()"
   ]
  },
  {
   "cell_type": "markdown",
   "metadata": {},
   "source": [
    "# training preparation "
   ]
  },
  {
   "cell_type": "code",
   "execution_count": 5,
   "metadata": {
    "collapsed": false,
    "deletable": true,
    "editable": true,
    "scrolled": true
   },
   "outputs": [
    {
     "name": "stderr",
     "output_type": "stream",
     "text": [
      "Building prefix dict from D:\\Projects\\hsinchu_QA1999_ClassifierTraining\\dict.txt.big ...\n",
      "Loading model from cache C:\\Users\\Jeremy\\AppData\\Local\\Temp\\jieba.u906c0974c994a6001383593a1370395c.cache\n",
      "Loading model cost 1.533 seconds.\n",
      "Prefix dict has been built succesfully.\n"
     ]
    }
   ],
   "source": [
    "# transfer sentence into words\n",
    "def preprocess(row):\n",
    "    words = list(jieba.cut(row['question'], cut_all=False)) ## cut sentences into words\n",
    "    row['words'] = words\n",
    "    return row\n",
    "df_train = df_train.apply(preprocess, axis=1)"
   ]
  },
  {
   "cell_type": "code",
   "execution_count": 6,
   "metadata": {
    "collapsed": false,
    "deletable": true,
    "editable": true
   },
   "outputs": [],
   "source": [
    "# for training requirement, you have to prepare numerical category. As a result we map the text category into 1 ~ 11\n",
    "cat_mapping = {}\n",
    "for num, cat in enumerate(list(set(df_train['cat']))):\n",
    "    cat_mapping[cat] = num"
   ]
  },
  {
   "cell_type": "code",
   "execution_count": 7,
   "metadata": {
    "collapsed": false,
    "deletable": true,
    "editable": true
   },
   "outputs": [],
   "source": [
    "# due to the consistency of training and prediction preprocess, we have to recore the category \n",
    "with open('cat_mapping', 'w', encoding='utf8') as f:\n",
    "    json.dump(cat_mapping, f, ensure_ascii=False)"
   ]
  },
  {
   "cell_type": "code",
   "execution_count": 8,
   "metadata": {
    "collapsed": true
   },
   "outputs": [],
   "source": [
    "# save into json data\n",
    "with open('ProcessedData.json', 'w', encoding='utf8') as f:\n",
    "    data = list(df_train.T.to_dict().values())\n",
    "    json.dump(data, f, ensure_ascii=False)"
   ]
  },
  {
   "cell_type": "markdown",
   "metadata": {
    "deletable": true,
    "editable": true
   },
   "source": [
    "# Start Classify"
   ]
  },
  {
   "cell_type": "code",
   "execution_count": 3,
   "metadata": {
    "collapsed": false,
    "scrolled": true
   },
   "outputs": [
    {
     "data": {
      "text/html": [
       "<div>\n",
       "<style>\n",
       "    .dataframe thead tr:only-child th {\n",
       "        text-align: right;\n",
       "    }\n",
       "\n",
       "    .dataframe thead th {\n",
       "        text-align: left;\n",
       "    }\n",
       "\n",
       "    .dataframe tbody tr th {\n",
       "        vertical-align: top;\n",
       "    }\n",
       "</style>\n",
       "<table border=\"1\" class=\"dataframe\">\n",
       "  <thead>\n",
       "    <tr style=\"text-align: right;\">\n",
       "      <th></th>\n",
       "      <th>ans</th>\n",
       "      <th>cat</th>\n",
       "      <th>id</th>\n",
       "      <th>question</th>\n",
       "      <th>words</th>\n",
       "    </tr>\n",
       "  </thead>\n",
       "  <tbody>\n",
       "    <tr>\n",
       "      <th>0</th>\n",
       "      <td>1.幼兒家長在戶政事務所完成新生兒出生登記後，即可向所轄區公所社政課提出育兒津貼申請。2.在...</td>\n",
       "      <td>幼兒福利及托育服務</td>\n",
       "      <td>189</td>\n",
       "      <td>小孩出生後應於何時申請育兒津貼?</td>\n",
       "      <td>[小孩, 出生, 後, 應於, 何時, 申請, 育兒, 津貼, ?]</td>\n",
       "    </tr>\n",
       "    <tr>\n",
       "      <th>1</th>\n",
       "      <td>隨時提出;津貼經審查通過後，追溯自受理申請之當月起發給。兒童出生後六十日內向戶政事務所完成出...</td>\n",
       "      <td>幼兒福利及托育服務</td>\n",
       "      <td>189</td>\n",
       "      <td>小孩出生後應於何時申請育兒津貼?</td>\n",
       "      <td>[小孩, 出生, 後, 應於, 何時, 申請, 育兒, 津貼, ?]</td>\n",
       "    </tr>\n",
       "    <tr>\n",
       "      <th>2</th>\n",
       "      <td>申請資料應備齊:(一)兒童之戶口名簿影本。(二)申請人之郵局存摺封面影本。(三)父母雙方身分...</td>\n",
       "      <td>幼兒福利及托育服務</td>\n",
       "      <td>189</td>\n",
       "      <td>育兒津貼申請應備文件為何?</td>\n",
       "      <td>[育兒, 津貼, 申請, 應備, 文件, 為何, ?]</td>\n",
       "    </tr>\n",
       "    <tr>\n",
       "      <th>3</th>\n",
       "      <td>一、育兒津貼補助對象：1.育有二足歲以下兒童。2.兒童之父母至少一方因育兒需要，致未能就業者...</td>\n",
       "      <td>幼兒福利及托育服務</td>\n",
       "      <td>189</td>\n",
       "      <td>若民眾夫妻雙方均失業，是否可申請家庭育兒津貼費用補助</td>\n",
       "      <td>[若民眾, 夫妻, 雙方, 均, 失業, ，, 是否, 可, 申請, 家庭, 育兒, 津貼,...</td>\n",
       "    </tr>\n",
       "    <tr>\n",
       "      <th>4</th>\n",
       "      <td>育兒津貼補助對象，應符合下列規定：(一)育有二足歲以下兒童。(二)兒童之父母(或監護人)至少...</td>\n",
       "      <td>幼兒福利及托育服務</td>\n",
       "      <td>189</td>\n",
       "      <td>育兒津貼補助對象為何？</td>\n",
       "      <td>[育兒, 津貼, 補助, 對象, 為何, ？]</td>\n",
       "    </tr>\n",
       "  </tbody>\n",
       "</table>\n",
       "</div>"
      ],
      "text/plain": [
       "                                                 ans        cat   id  \\\n",
       "0  1.幼兒家長在戶政事務所完成新生兒出生登記後，即可向所轄區公所社政課提出育兒津貼申請。2.在...  幼兒福利及托育服務  189   \n",
       "1  隨時提出;津貼經審查通過後，追溯自受理申請之當月起發給。兒童出生後六十日內向戶政事務所完成出...  幼兒福利及托育服務  189   \n",
       "2  申請資料應備齊:(一)兒童之戶口名簿影本。(二)申請人之郵局存摺封面影本。(三)父母雙方身分...  幼兒福利及托育服務  189   \n",
       "3  一、育兒津貼補助對象：1.育有二足歲以下兒童。2.兒童之父母至少一方因育兒需要，致未能就業者...  幼兒福利及托育服務  189   \n",
       "4  育兒津貼補助對象，應符合下列規定：(一)育有二足歲以下兒童。(二)兒童之父母(或監護人)至少...  幼兒福利及托育服務  189   \n",
       "\n",
       "                     question  \\\n",
       "0            小孩出生後應於何時申請育兒津貼?   \n",
       "1            小孩出生後應於何時申請育兒津貼?   \n",
       "2               育兒津貼申請應備文件為何?   \n",
       "3  若民眾夫妻雙方均失業，是否可申請家庭育兒津貼費用補助   \n",
       "4                 育兒津貼補助對象為何？   \n",
       "\n",
       "                                               words  \n",
       "0                 [小孩, 出生, 後, 應於, 何時, 申請, 育兒, 津貼, ?]  \n",
       "1                 [小孩, 出生, 後, 應於, 何時, 申請, 育兒, 津貼, ?]  \n",
       "2                        [育兒, 津貼, 申請, 應備, 文件, 為何, ?]  \n",
       "3  [若民眾, 夫妻, 雙方, 均, 失業, ，, 是否, 可, 申請, 家庭, 育兒, 津貼,...  \n",
       "4                            [育兒, 津貼, 補助, 對象, 為何, ？]  "
      ]
     },
     "execution_count": 3,
     "metadata": {},
     "output_type": "execute_result"
    }
   ],
   "source": [
    "def getprocessed():\n",
    "    with open('ProcessedData.json', 'r', encoding='utf8') as f:\n",
    "        data = json.load(f)\n",
    "    df = pd.DataFrame(data)\n",
    "    return df\n",
    "\n",
    "with open('cat_mapping', 'r' , encoding='utf8') as f:\n",
    "    cat_mapping = json.load(f)\n",
    "    \n",
    "df_train = getprocessed()\n",
    "df_train.head()"
   ]
  },
  {
   "cell_type": "code",
   "execution_count": 4,
   "metadata": {
    "collapsed": false,
    "deletable": true,
    "editable": true
   },
   "outputs": [
    {
     "name": "stderr",
     "output_type": "stream",
     "text": [
      "Building prefix dict from D:\\Projects\\hsinchu_QA1999_ClassifierTraining\\dict.txt.big ...\n",
      "Loading model from cache C:\\Users\\Jeremy\\AppData\\Local\\Temp\\jieba.u906c0974c994a6001383593a1370395c.cache\n"
     ]
    },
    {
     "name": "stdout",
     "output_type": "stream",
     "text": [
      "Preprocess Length =  327\n"
     ]
    },
    {
     "name": "stderr",
     "output_type": "stream",
     "text": [
      "Loading model cost 2.678 seconds.\n",
      "Prefix dict has been built succesfully.\n"
     ]
    },
    {
     "name": "stdout",
     "output_type": "stream",
     "text": [
      "Processed Length =  339\n"
     ]
    }
   ],
   "source": [
    "print('Preprocess Length = ', len(df_train))\n",
    "\n",
    "# add category itself as question to process question with only few words\n",
    "addedrow = []\n",
    "for key, value in cat_mapping.items():\n",
    "    row = {}\n",
    "    words = list(jieba.cut(key, cut_all=False))\n",
    "    row['words'] = words\n",
    "    \n",
    "    row = {'ans': None,\n",
    "            'cat': key,\n",
    "            'cat_num': value,\n",
    "            'id': None,\n",
    "            'question': key,\n",
    "            'words':words\n",
    "          }\n",
    "    addedrow.append(row)\n",
    "addeddf = pd.DataFrame(addedrow)\n",
    "df_train = pd.concat([df_train, addeddf])\n",
    "print('Processed Length = ', len(df_train))"
   ]
  },
  {
   "cell_type": "code",
   "execution_count": 6,
   "metadata": {
    "collapsed": false
   },
   "outputs": [],
   "source": [
    "# prepare a consistent-ordered term list\n",
    "total_li = []\n",
    "for li in list(df_train['words']):\n",
    "    total_li += li\n",
    "vectorterms = list(set(total_li))\n",
    "\n",
    "## map every question into vector\n",
    "def process_into_vector(row):\n",
    "    self_main_list = [0] * len(vectorterms)\n",
    "    for term in row['words']:\n",
    "        idx = vectorterms.index(term)\n",
    "        self_main_list[idx] += 1\n",
    "    row['vector'] = self_main_list\n",
    "    row['cat_num'] = cat_mapping.get(row['cat'])\n",
    "    return row\n",
    "df_train = df_train.apply(process_into_vector, axis=1)\n",
    "df_train.index = range(len(df_train))"
   ]
  },
  {
   "cell_type": "code",
   "execution_count": 7,
   "metadata": {
    "collapsed": true
   },
   "outputs": [],
   "source": [
    "# due to the consistency of training and prediction preprocess, we have to recore the word od the dimension in a vector\n",
    "with open('vectorterms_nonword2vec', 'w', encoding='utf8') as f:\n",
    "    json.dump(vectorterms, f, ensure_ascii=False)"
   ]
  },
  {
   "cell_type": "code",
   "execution_count": 8,
   "metadata": {
    "collapsed": false
   },
   "outputs": [
    {
     "data": {
      "text/html": [
       "<div>\n",
       "<style>\n",
       "    .dataframe thead tr:only-child th {\n",
       "        text-align: right;\n",
       "    }\n",
       "\n",
       "    .dataframe thead th {\n",
       "        text-align: left;\n",
       "    }\n",
       "\n",
       "    .dataframe tbody tr th {\n",
       "        vertical-align: top;\n",
       "    }\n",
       "</style>\n",
       "<table border=\"1\" class=\"dataframe\">\n",
       "  <thead>\n",
       "    <tr style=\"text-align: right;\">\n",
       "      <th></th>\n",
       "      <th>ans</th>\n",
       "      <th>cat</th>\n",
       "      <th>cat_num</th>\n",
       "      <th>id</th>\n",
       "      <th>question</th>\n",
       "      <th>words</th>\n",
       "      <th>vector</th>\n",
       "    </tr>\n",
       "  </thead>\n",
       "  <tbody>\n",
       "    <tr>\n",
       "      <th>0</th>\n",
       "      <td>1.幼兒家長在戶政事務所完成新生兒出生登記後，即可向所轄區公所社政課提出育兒津貼申請。2.在...</td>\n",
       "      <td>幼兒福利及托育服務</td>\n",
       "      <td>10</td>\n",
       "      <td>189</td>\n",
       "      <td>小孩出生後應於何時申請育兒津貼?</td>\n",
       "      <td>[小孩, 出生, 後, 應於, 何時, 申請, 育兒, 津貼, ?]</td>\n",
       "      <td>[0, 0, 0, 0, 0, 0, 0, 0, 0, 0, 0, 0, 0, 0, 0, ...</td>\n",
       "    </tr>\n",
       "    <tr>\n",
       "      <th>1</th>\n",
       "      <td>隨時提出;津貼經審查通過後，追溯自受理申請之當月起發給。兒童出生後六十日內向戶政事務所完成出...</td>\n",
       "      <td>幼兒福利及托育服務</td>\n",
       "      <td>10</td>\n",
       "      <td>189</td>\n",
       "      <td>小孩出生後應於何時申請育兒津貼?</td>\n",
       "      <td>[小孩, 出生, 後, 應於, 何時, 申請, 育兒, 津貼, ?]</td>\n",
       "      <td>[0, 0, 0, 0, 0, 0, 0, 0, 0, 0, 0, 0, 0, 0, 0, ...</td>\n",
       "    </tr>\n",
       "    <tr>\n",
       "      <th>2</th>\n",
       "      <td>申請資料應備齊:(一)兒童之戶口名簿影本。(二)申請人之郵局存摺封面影本。(三)父母雙方身分...</td>\n",
       "      <td>幼兒福利及托育服務</td>\n",
       "      <td>10</td>\n",
       "      <td>189</td>\n",
       "      <td>育兒津貼申請應備文件為何?</td>\n",
       "      <td>[育兒, 津貼, 申請, 應備, 文件, 為何, ?]</td>\n",
       "      <td>[0, 0, 0, 0, 0, 0, 0, 0, 0, 0, 0, 0, 0, 0, 0, ...</td>\n",
       "    </tr>\n",
       "    <tr>\n",
       "      <th>3</th>\n",
       "      <td>一、育兒津貼補助對象：1.育有二足歲以下兒童。2.兒童之父母至少一方因育兒需要，致未能就業者...</td>\n",
       "      <td>幼兒福利及托育服務</td>\n",
       "      <td>10</td>\n",
       "      <td>189</td>\n",
       "      <td>若民眾夫妻雙方均失業，是否可申請家庭育兒津貼費用補助</td>\n",
       "      <td>[若民眾, 夫妻, 雙方, 均, 失業, ，, 是否, 可, 申請, 家庭, 育兒, 津貼,...</td>\n",
       "      <td>[0, 0, 0, 0, 0, 0, 0, 0, 0, 0, 0, 0, 0, 0, 0, ...</td>\n",
       "    </tr>\n",
       "    <tr>\n",
       "      <th>4</th>\n",
       "      <td>育兒津貼補助對象，應符合下列規定：(一)育有二足歲以下兒童。(二)兒童之父母(或監護人)至少...</td>\n",
       "      <td>幼兒福利及托育服務</td>\n",
       "      <td>10</td>\n",
       "      <td>189</td>\n",
       "      <td>育兒津貼補助對象為何？</td>\n",
       "      <td>[育兒, 津貼, 補助, 對象, 為何, ？]</td>\n",
       "      <td>[0, 0, 0, 0, 0, 0, 0, 0, 0, 0, 0, 0, 0, 0, 0, ...</td>\n",
       "    </tr>\n",
       "  </tbody>\n",
       "</table>\n",
       "</div>"
      ],
      "text/plain": [
       "                                                 ans        cat  cat_num   id  \\\n",
       "0  1.幼兒家長在戶政事務所完成新生兒出生登記後，即可向所轄區公所社政課提出育兒津貼申請。2.在...  幼兒福利及托育服務       10  189   \n",
       "1  隨時提出;津貼經審查通過後，追溯自受理申請之當月起發給。兒童出生後六十日內向戶政事務所完成出...  幼兒福利及托育服務       10  189   \n",
       "2  申請資料應備齊:(一)兒童之戶口名簿影本。(二)申請人之郵局存摺封面影本。(三)父母雙方身分...  幼兒福利及托育服務       10  189   \n",
       "3  一、育兒津貼補助對象：1.育有二足歲以下兒童。2.兒童之父母至少一方因育兒需要，致未能就業者...  幼兒福利及托育服務       10  189   \n",
       "4  育兒津貼補助對象，應符合下列規定：(一)育有二足歲以下兒童。(二)兒童之父母(或監護人)至少...  幼兒福利及托育服務       10  189   \n",
       "\n",
       "                     question  \\\n",
       "0            小孩出生後應於何時申請育兒津貼?   \n",
       "1            小孩出生後應於何時申請育兒津貼?   \n",
       "2               育兒津貼申請應備文件為何?   \n",
       "3  若民眾夫妻雙方均失業，是否可申請家庭育兒津貼費用補助   \n",
       "4                 育兒津貼補助對象為何？   \n",
       "\n",
       "                                               words  \\\n",
       "0                 [小孩, 出生, 後, 應於, 何時, 申請, 育兒, 津貼, ?]   \n",
       "1                 [小孩, 出生, 後, 應於, 何時, 申請, 育兒, 津貼, ?]   \n",
       "2                        [育兒, 津貼, 申請, 應備, 文件, 為何, ?]   \n",
       "3  [若民眾, 夫妻, 雙方, 均, 失業, ，, 是否, 可, 申請, 家庭, 育兒, 津貼,...   \n",
       "4                            [育兒, 津貼, 補助, 對象, 為何, ？]   \n",
       "\n",
       "                                              vector  \n",
       "0  [0, 0, 0, 0, 0, 0, 0, 0, 0, 0, 0, 0, 0, 0, 0, ...  \n",
       "1  [0, 0, 0, 0, 0, 0, 0, 0, 0, 0, 0, 0, 0, 0, 0, ...  \n",
       "2  [0, 0, 0, 0, 0, 0, 0, 0, 0, 0, 0, 0, 0, 0, 0, ...  \n",
       "3  [0, 0, 0, 0, 0, 0, 0, 0, 0, 0, 0, 0, 0, 0, 0, ...  \n",
       "4  [0, 0, 0, 0, 0, 0, 0, 0, 0, 0, 0, 0, 0, 0, 0, ...  "
      ]
     },
     "execution_count": 8,
     "metadata": {},
     "output_type": "execute_result"
    }
   ],
   "source": [
    "df_train.head()"
   ]
  },
  {
   "cell_type": "code",
   "execution_count": 9,
   "metadata": {
    "collapsed": false,
    "deletable": true,
    "editable": true
   },
   "outputs": [
    {
     "name": "stdout",
     "output_type": "stream",
     "text": [
      "Preprocess Length =  339\n",
      "avg_rows_each_category:  28.25\n",
      "Processed Length =  521\n"
     ]
    }
   ],
   "source": [
    "print('Preprocess Length = ', len(df_train))\n",
    "\n",
    "# Rebalance: duplicate row with small-sized category\n",
    "avg_rows_each_category = len(df_train)/len(cat_mapping)\n",
    "print(\"avg_rows_each_category: \", avg_rows_each_category)\n",
    "for cat in set(df_train['cat']):\n",
    "    df_reduplicate = df_train[df_train['cat'] == cat]\n",
    "    while len(df_reduplicate) < avg_rows_each_category:\n",
    "        idxs = np.random.choice(df_reduplicate.index, size=int(len(df_reduplicate)*0.5))\n",
    "        df_train = pd.concat([df_train, df_reduplicate.loc(idxs).obj.copy()])\n",
    "        df_reduplicate = df_train[df_train['cat'] == cat]\n",
    "\n",
    "print('Processed Length = ', len(df_train))"
   ]
  },
  {
   "cell_type": "code",
   "execution_count": 10,
   "metadata": {
    "collapsed": false,
    "deletable": true,
    "editable": true
   },
   "outputs": [
    {
     "name": "stdout",
     "output_type": "stream",
     "text": [
      "(521, 860)\n",
      "(521,)\n"
     ]
    }
   ],
   "source": [
    "# prepare input for sklearn\n",
    "X = np.array(list(df_train['vector']))\n",
    "Y = np.array(df_train['cat_num'])\n",
    "print(X.shape)\n",
    "print(Y.shape)"
   ]
  },
  {
   "cell_type": "code",
   "execution_count": 11,
   "metadata": {
    "collapsed": false,
    "deletable": true,
    "editable": true,
    "scrolled": true
   },
   "outputs": [
    {
     "data": {
      "image/png": "[encoded data removed]",
      "text/plain": [
       "<matplotlib.figure.Figure at 0x294f4367978>"
      ]
     },
     "metadata": {},
     "output_type": "display_data"
    }
   ],
   "source": [
    "fig = plt.figure(1, figsize=(8, 6))\n",
    "ax = Axes3D(fig, elev=-150, azim=110)\n",
    "\n",
    "X_reduced = PCA(n_components=3).fit_transform(X)\n",
    "ax.scatter(X_reduced[:, 0], X_reduced[:, 1], X_reduced[:, 2], c=Y,\n",
    "           cmap=plt.cm.Set1, edgecolor='k', s=40)\n",
    "ax.set_title(\"First three PCA directions\")\n",
    "ax.set_xlabel(\"1st eigenvector\")\n",
    "ax.w_xaxis.set_ticklabels([])\n",
    "ax.set_ylabel(\"2nd eigenvector\")\n",
    "ax.w_yaxis.set_ticklabels([])\n",
    "ax.set_zlabel(\"3rd eigenvector\")\n",
    "ax.w_zaxis.set_ticklabels([])\n",
    "\n",
    "plt.show()"
   ]
  },
  {
   "cell_type": "markdown",
   "metadata": {
    "deletable": true,
    "editable": true
   },
   "source": [
    "### Explaination:\n",
    "This illustrate that some dimension can have relative high value(that is, the words exist lots of times), if you want to imporve the model later, you may remove the stop words from each sentence"
   ]
  },
  {
   "cell_type": "code",
   "execution_count": 12,
   "metadata": {
    "collapsed": false,
    "deletable": true,
    "editable": true
   },
   "outputs": [
    {
     "data": {
      "image/png": "[encoded data removed]",
      "text/plain": [
       "<matplotlib.figure.Figure at 0x294f437ce10>"
      ]
     },
     "metadata": {},
     "output_type": "display_data"
    }
   ],
   "source": [
    "sentence_length = [len(sen) for sen in df_train['question']]\n",
    "plt.hist(sentence_length, bins=30)\n",
    "plt.show()"
   ]
  },
  {
   "cell_type": "code",
   "execution_count": 13,
   "metadata": {
    "collapsed": false,
    "deletable": true,
    "editable": true
   },
   "outputs": [
    {
     "name": "stdout",
     "output_type": "stream",
     "text": [
      "Number of mislabeled points out of a total 521 points : 140\n"
     ]
    }
   ],
   "source": [
    "neigh = KNeighborsClassifier(n_neighbors=10)\n",
    "neigh.fit(X, Y) \n",
    "y_pred = neigh.predict(X)\n",
    "print(\"Number of mislabeled points out of a total %d points : %d\" % (X.shape[0],(Y != y_pred).sum()))"
   ]
  },
  {
   "cell_type": "code",
   "execution_count": 14,
   "metadata": {
    "collapsed": false,
    "deletable": true,
    "editable": true
   },
   "outputs": [
    {
     "name": "stdout",
     "output_type": "stream",
     "text": [
      "Number of mislabeled points out of a total 521 points : 421\n"
     ]
    }
   ],
   "source": [
    "clf = SVC(C=2)\n",
    "clf.fit(X, Y)\n",
    "\n",
    "y_pred = clf.predict(X)\n",
    "print(\"Number of mislabeled points out of a total %d points : %d\" % (X.shape[0],(Y != y_pred).sum()))"
   ]
  },
  {
   "cell_type": "markdown",
   "metadata": {
    "deletable": true,
    "editable": true
   },
   "source": [
    "# XGB"
   ]
  },
  {
   "cell_type": "code",
   "execution_count": 15,
   "metadata": {
    "collapsed": false,
    "deletable": true,
    "editable": true
   },
   "outputs": [
    {
     "name": "stdout",
     "output_type": "stream",
     "text": [
      "(416, 860)\n",
      "(105, 860)\n",
      "(416,)\n",
      "(105,)\n"
     ]
    }
   ],
   "source": [
    "# Finally, we split some of the data off for validation\n",
    "x_train_split, x_valid_split, y_train_split, y_valid_split = train_test_split(X, Y, test_size=0.2, random_state=4242)\n",
    "\n",
    "print(x_train_split.shape)\n",
    "print(x_valid_split.shape)\n",
    "print(y_train_split.shape)\n",
    "print(y_valid_split.shape)"
   ]
  },
  {
   "cell_type": "code",
   "execution_count": 16,
   "metadata": {
    "collapsed": false,
    "deletable": true,
    "editable": true,
    "scrolled": false
   },
   "outputs": [
    {
     "name": "stdout",
     "output_type": "stream",
     "text": [
      "[0]\ttrain-merror:0.084135\tvalid-merror:0.171429\n",
      "Multiple eval metrics have been passed: 'valid-merror' will be used for early stopping.\n",
      "\n",
      "Will train until valid-merror hasn't improved in 100 rounds.\n",
      "[10]\ttrain-merror:0.040865\tvalid-merror:0.142857\n",
      "[20]\ttrain-merror:0.036058\tvalid-merror:0.152381\n",
      "[30]\ttrain-merror:0.024038\tvalid-merror:0.133333\n",
      "[40]\ttrain-merror:0.019231\tvalid-merror:0.114286\n",
      "[50]\ttrain-merror:0.012019\tvalid-merror:0.12381\n",
      "[60]\ttrain-merror:0.012019\tvalid-merror:0.104762\n",
      "[70]\ttrain-merror:0.012019\tvalid-merror:0.095238\n",
      "[80]\ttrain-merror:0.007212\tvalid-merror:0.095238\n",
      "[90]\ttrain-merror:0.007212\tvalid-merror:0.095238\n",
      "[100]\ttrain-merror:0.007212\tvalid-merror:0.095238\n",
      "[110]\ttrain-merror:0.004808\tvalid-merror:0.095238\n",
      "[120]\ttrain-merror:0.004808\tvalid-merror:0.095238\n",
      "[130]\ttrain-merror:0.002404\tvalid-merror:0.095238\n",
      "[140]\ttrain-merror:0.002404\tvalid-merror:0.095238\n",
      "[150]\ttrain-merror:0.002404\tvalid-merror:0.095238\n",
      "[160]\ttrain-merror:0.002404\tvalid-merror:0.085714\n",
      "[170]\ttrain-merror:0.002404\tvalid-merror:0.085714\n",
      "[180]\ttrain-merror:0.002404\tvalid-merror:0.085714\n",
      "[190]\ttrain-merror:0.002404\tvalid-merror:0.085714\n",
      "[200]\ttrain-merror:0.002404\tvalid-merror:0.085714\n",
      "Stopping. Best iteration:\n",
      "[102]\ttrain-merror:0.007212\tvalid-merror:0.085714\n",
      "\n"
     ]
    }
   ],
   "source": [
    "# Set our parameters for xgboost\n",
    "params = {}\n",
    "params['objective'] = 'multi:softmax'\n",
    "# scale weight of positive examples\n",
    "params['eta'] = 0.1\n",
    "params['max_depth'] = 4\n",
    "params['silent'] = 1\n",
    "params['nthread'] = 3\n",
    "params['num_class'] = len(set(Y))\n",
    "\n",
    "## control over-fitting, higher depth specific to a particular sample.\n",
    "d_train = xgb.DMatrix(x_train_split, label=y_train_split)\n",
    "d_valid = xgb.DMatrix(x_valid_split, label=y_valid_split)\n",
    "\n",
    "watchlist = [(d_train, 'train'), (d_valid, 'valid')]\n",
    "\n",
    "bst = xgb.train(params, d_train, 1000, watchlist, early_stopping_rounds=100, verbose_eval=10)"
   ]
  },
  {
   "cell_type": "code",
   "execution_count": 17,
   "metadata": {
    "collapsed": false,
    "deletable": true,
    "editable": true,
    "scrolled": false
   },
   "outputs": [
    {
     "name": "stdout",
     "output_type": "stream",
     "text": [
      "Number of mislabeled points out of a total 521 points : 10\n"
     ]
    }
   ],
   "source": [
    "y_pred = bst.predict(xgb.DMatrix(X))\n",
    "print(\"Number of mislabeled points out of a total %d points : %d\" % (X.shape[0],(Y != y_pred).sum()))"
   ]
  },
  {
   "cell_type": "code",
   "execution_count": 18,
   "metadata": {
    "collapsed": false,
    "deletable": true,
    "editable": true,
    "scrolled": true
   },
   "outputs": [
    {
     "name": "stdout",
     "output_type": "stream",
     "text": [
      "False classified: \n"
     ]
    },
    {
     "data": {
      "text/html": [
       "<div>\n",
       "<style>\n",
       "    .dataframe thead tr:only-child th {\n",
       "        text-align: right;\n",
       "    }\n",
       "\n",
       "    .dataframe thead th {\n",
       "        text-align: left;\n",
       "    }\n",
       "\n",
       "    .dataframe tbody tr th {\n",
       "        vertical-align: top;\n",
       "    }\n",
       "</style>\n",
       "<table border=\"1\" class=\"dataframe\">\n",
       "  <thead>\n",
       "    <tr style=\"text-align: right;\">\n",
       "      <th></th>\n",
       "      <th>question</th>\n",
       "      <th>cat</th>\n",
       "      <th>pred</th>\n",
       "    </tr>\n",
       "  </thead>\n",
       "  <tbody>\n",
       "    <tr>\n",
       "      <th>43</th>\n",
       "      <td>如果發現兒童有失依、虐待或疏忽照顧之情形如何處理、通報?</td>\n",
       "      <td>兒童少年及家庭福利</td>\n",
       "      <td>社工專業服務</td>\n",
       "    </tr>\n",
       "    <tr>\n",
       "      <th>46</th>\n",
       "      <td>什麼是國外出養?和國內出養有什麼不同?</td>\n",
       "      <td>兒童少年及家庭福利</td>\n",
       "      <td>社區發展服務</td>\n",
       "    </tr>\n",
       "    <tr>\n",
       "      <th>51</th>\n",
       "      <td>離婚後孩子監護權歸我，還需要前夫的同意才能出養孩子嗎？</td>\n",
       "      <td>兒童少年及家庭福利</td>\n",
       "      <td>婦女福利</td>\n",
       "    </tr>\n",
       "    <tr>\n",
       "      <th>52</th>\n",
       "      <td>什麼是出養?</td>\n",
       "      <td>兒童少年及家庭福利</td>\n",
       "      <td>社區發展服務</td>\n",
       "    </tr>\n",
       "    <tr>\n",
       "      <th>65</th>\n",
       "      <td>請問免費法律諮詢及心理諮商服務項目?服務地點?服務時間?申請資格?申請方式?</td>\n",
       "      <td>婦女福利</td>\n",
       "      <td>幼兒福利及托育服務</td>\n",
       "    </tr>\n",
       "    <tr>\n",
       "      <th>70</th>\n",
       "      <td>如果外籍配偶或大陸配偶，與丈夫離婚，台灣身份證會失效嗎？</td>\n",
       "      <td>婦女福利</td>\n",
       "      <td>社會救助</td>\n",
       "    </tr>\n",
       "    <tr>\n",
       "      <th>119</th>\n",
       "      <td>請問人工電子耳耗材補助申請資格?申請方式?補助金額?</td>\n",
       "      <td>身心障礙者福利</td>\n",
       "      <td>老人福利</td>\n",
       "    </tr>\n",
       "    <tr>\n",
       "      <th>191</th>\n",
       "      <td>早期療育在做什麼?</td>\n",
       "      <td>身心障礙者福利</td>\n",
       "      <td>社區發展服務</td>\n",
       "    </tr>\n",
       "    <tr>\n",
       "      <th>234</th>\n",
       "      <td>為什麼要做微型保險?</td>\n",
       "      <td>社會救助</td>\n",
       "      <td>社區發展服務</td>\n",
       "    </tr>\n",
       "    <tr>\n",
       "      <th>244</th>\n",
       "      <td>我是男生,有些家庭問題不好啟齒可以找誰幫忙?</td>\n",
       "      <td>家庭暴力及性侵害防治服務</td>\n",
       "      <td>兒童少年及家庭福利</td>\n",
       "    </tr>\n",
       "  </tbody>\n",
       "</table>\n",
       "</div>"
      ],
      "text/plain": [
       "                                   question           cat       pred\n",
       "43             如果發現兒童有失依、虐待或疏忽照顧之情形如何處理、通報?     兒童少年及家庭福利     社工專業服務\n",
       "46                     什麼是國外出養?和國內出養有什麼不同?      兒童少年及家庭福利     社區發展服務\n",
       "51              離婚後孩子監護權歸我，還需要前夫的同意才能出養孩子嗎？     兒童少年及家庭福利       婦女福利\n",
       "52                                   什麼是出養?     兒童少年及家庭福利     社區發展服務\n",
       "65   請問免費法律諮詢及心理諮商服務項目?服務地點?服務時間?申請資格?申請方式?          婦女福利  幼兒福利及托育服務\n",
       "70             如果外籍配偶或大陸配偶，與丈夫離婚，台灣身份證會失效嗎？          婦女福利       社會救助\n",
       "119              請問人工電子耳耗材補助申請資格?申請方式?補助金額?       身心障礙者福利       老人福利\n",
       "191                               早期療育在做什麼?       身心障礙者福利     社區發展服務\n",
       "234                              為什麼要做微型保險?          社會救助     社區發展服務\n",
       "244                  我是男生,有些家庭問題不好啟齒可以找誰幫忙?  家庭暴力及性侵害防治服務  兒童少年及家庭福利"
      ]
     },
     "execution_count": 18,
     "metadata": {},
     "output_type": "execute_result"
    }
   ],
   "source": [
    "idxs = np.where((Y != y_pred) == True)\n",
    "cat_mapping_reverse = {}\n",
    "\n",
    "for key, value in cat_mapping.items():\n",
    "    cat_mapping_reverse[value] = key\n",
    "df_train['pred'] = [cat_mapping_reverse.get(int(y)) for y in y_pred]\n",
    "\n",
    "print(\"False classified: \")\n",
    "df_train.loc[idxs[0]][['question', 'cat', 'pred']]"
   ]
  },
  {
   "cell_type": "code",
   "execution_count": 19,
   "metadata": {
    "collapsed": false,
    "deletable": true,
    "editable": true
   },
   "outputs": [
    {
     "data": {
      "image/png": "[encoded data removed]",
      "text/plain": [
       "<matplotlib.figure.Figure at 0x294f499a6a0>"
      ]
     },
     "metadata": {},
     "output_type": "display_data"
    }
   ],
   "source": [
    "# to visualize the decision tree you can use this\n",
    "# However it required graviz, which is difficult to install\n",
    "rcParams['figure.figsize'] = 10, 20\n",
    "\n",
    "xgb.plot_tree(bst, num_trees=2)\n",
    "plt.show()"
   ]
  },
  {
   "cell_type": "code",
   "execution_count": 20,
   "metadata": {
    "collapsed": true,
    "deletable": true,
    "editable": true
   },
   "outputs": [],
   "source": [
    "# save trained models\n",
    "now_time = str(datetime.now())\n",
    "for pun in string.punctuation:\n",
    "    now_time = now_time.replace(pun, '')\n",
    "bst.save_model(now_time+'.model') "
   ]
  },
  {
   "cell_type": "markdown",
   "metadata": {
    "deletable": true,
    "editable": true
   },
   "source": [
    "# Application"
   ]
  },
  {
   "cell_type": "code",
   "execution_count": 21,
   "metadata": {
    "collapsed": false,
    "deletable": true,
    "editable": true
   },
   "outputs": [],
   "source": [
    "import jieba\n",
    "jieba.set_dictionary('dict.txt.big')\n",
    "\n",
    "import pandas as pd\n",
    "import requests\n",
    "import xgboost as xgb\n",
    "import json\n",
    "import numpy as np\n",
    "\n",
    "\n",
    "# This is crawled from 台北社會局常見問答集\n",
    "testing_questions = ['身心障礙者如無法於效期屆滿前申請或完成重新鑑定及需求評估應如何辦理？', '領有身心障礙證明(手冊)後，如有戶籍異動、證明(手冊)遺失或破損不堪使用、姓名或身分證統一編號變更等情形，如何辦理？', '持有重大傷病證明卡者可否申請身心障礙證明(手冊)？', '我想要收養一個小孩，不知道要去哪裡申請？', '要如何申請危機家庭兒童及少年委託安置暨收容費用補助？\\r\\n', '發現有迷童、棄嬰或查無身分之兒少，需緊急安置者。', '發現有兒童及少年(含發展遲緩或身心障礙者)無父母或父母失聯，需緊急送醫者。\\r\\n', '老人健保補助之補助對象、補助額度、申請恢復補助之相關規定為何？', '長青學苑報名資格、上課地點及洽詢單位', '長者預防走失手鍊及身心障礙者防走失手鍊有何不同？', '外籍配偶可否申請「馬上關懷急難救助」？', '「馬上關懷急難救助」有無限制申請次數？', '如何取得「馬上關懷急難救助作業要點」之內容及申請表件？', '「馬上關懷急難救助」向居住所在地或戶籍所在地申請？', '「馬上關懷急難救助」是否僅有低收入戶或非低收入戶才能提出申請？', '「馬上關懷」與本市急難救助有何異同？', '事故發生後何時可以申請「馬上關懷急難救助」？', '馬上關懷急難救助的服務對象?', '「馬上關懷急難救助」經申請（或通報）後，何時可獲得協助？', '「馬上關懷」的申請（或通報）窗口為何？', '申請敬老、愛心及愛心陪伴悠遊卡應備文件為何？ \\r\\n', '106年度重陽禮金的致送對象?', '免費點數可以用到YouBike或臺北市觀光雙層巴士嗎?', '若想了解自己(未收到通知單)是不是有被社會局補助老人健保費，是不是要自己打電話問?\\r\\n', '臺北市老人健保自付額補助若發現仍未補助怎麼辦？\\r\\n', '敬老、愛心及愛心陪伴悠遊卡應該到哪裡辦裡加值?', '我是居留在臺北市的外籍人士，並且已經馬偕計畫審核通過，取得經註記「國內大眾運輸工具及公立育樂場所優待字樣」之外僑永久居留證，請問該如何申請臺北市敬老悠遊卡？\\r\\n', '從哪裡可以得到老人福利服務資訊？\\r\\n', '請問二代健保上路後會影響我的老人健保自付額補助資格嗎？', '如果想查詢敬老、愛心悠遊卡每月免費點數或票卡內自行加值之金額該如何查詢(含欲查詢是否有扣款錯誤之情形)？', '我的投保單位(特別是公司)如果已經倒閉以致無法取得老人健保自付額之繳費證明應該怎麼辦?(或是其他種種特殊原因以致無法向原投保單位取得繳費證明亦是，如被資遣或解僱.....)\\r\\n', '敬老、愛心及愛心陪伴悠遊卡是否也適用悠遊卡小額消費服務？', '臺北市老人健保有補助，為什麼我或者我的子女還在繳費?\\r\\n', '敬老、愛心悠遊卡有使用期限嗎?', '敬老、愛心及愛心陪伴悠遊卡，遺失該怎麼辦？應備何文件重新辦理？', '申請台北卡-敬老、愛心乘車證服務(原敬老、愛心及愛心陪伴悠遊卡)資格為何？敬老悠遊卡年滿 65 歲當月可以提早申請嗎?受理申請單位為何？', '敬老、愛心及愛心陪伴悠遊卡，故障應備何文件重新辦理？', '敬老、愛心悠遊卡可以借人使用嗎？', '我已遷出臺北市，想要退卡片裡面餘額，要怎麼辦呢？', '搭乘臺北市敬老愛心車隊，是否享有乘車優惠？', '若臺北市政府補貼優惠額度用完，搭乘敬老愛心車隊時，敬老（一）或愛心（一）悠遊卡片會如何扣款？', '10/29之後，敬老卡擴大使用範圍為何？', '什麼時候可以開始用敬老卡免費搭捷運?', '申請(含遺失補發)敬老、愛心及愛心陪伴悠遊卡需多久時間才能領到卡片？若已申請辦好了，在領取時，可否委託人代領？', '如何搭乘臺北市敬老愛心車隊之計程車？', '申請特殊境遇家庭扶助應具備什麼條件？', '申請特殊境遇家庭扶助到收到社會局公文回覆審查結果需要多久時間？', '申請特殊境遇家庭扶助時應檢附哪些文件？', '什麼是特殊境遇家庭扶助？', '特殊境遇家庭之全家人口計算範圍為何？', '我已經是低收入戶，還可以申請特殊境遇家庭扶助嗎？', '特殊境遇家庭扶助的扶助項目有哪些？', '特殊境遇家庭扶助緊急生活補助最多可以補助多少元？', '我之前已申請過特殊境遇家庭緊急生活扶助，是否可再申請1次？', '特殊境遇家庭兒童就托臺北市市立幼兒園有無補助？', '特殊境遇家庭兒童托育津貼如何申請？', '特殊境遇家庭法律訴訟補助對象為何？補助金額多少？', '特殊境遇傷病醫療補助補助對象及補助金額為何？', '特殊境遇家庭扶助申請應備文件之全戶財稅資料要向哪裡申請？成年子女可代為申請嗎？可以由社會局查調嗎？', '特殊境遇家庭扶助申請表格要去哪裡索取？或下載申請表格？', '特殊境遇家庭扶助要向哪個單位申請、申請方式？', '特殊境遇家庭子女教育補助如何申請？', '特殊境遇家庭創業貸款補助為何？要向哪個單位提出申請？', '我是離婚單親，與前配偶共同監護1名4歲小孩，可否申請特殊境遇家庭扶助？', '若敬老（一）或愛心（一）悠遊卡片儲值金額不足，搭乘敬老愛心車隊可以享有市政府補貼優惠嗎？', '月初持敬老悠遊卡至捷運站查詢機查詢每月免費點數，但點數顯示為O，為什麼？', '未成年之兒童、少年、身心障礙少年,遭遺棄虐待、未受適當養育照顧(如長期未進食)或父母生病、入獄等,需緊急安置者', '發現有兒童及少年(含發展遲緩或身心障礙者)遭遺棄、虐待、未受適當養育照顧(如長期未進食、獨自生活、流浪)、或父母(或其他主要照顧者)生病、入獄等，需緊急安置者。', '我想要捐贈金錢或物資給育幼院，請問可以捐給哪些單位？', '申請居家服務資格條件為何?', '石頭湯（社區整合照顧服務）目前共有哪幾區提供服務？', '申請失能者生活輔助器具及居家無障礙環境改善補助應備文件為何？', '本市有哪些老人日間照顧中心(只收失智失能長者，週一至周五白天送至中心照顧) \\r\\n', '疑似患精神疾病、身心障礙或失智的老人於街上遊蕩而無人照顧。\\r\\n', '老人緊急救援系統內容為何，如何申請？\\r\\n', '如何申請使用老人日間照顧服務(至日間照顧中心收托)?', '中低收入戶老人住屋修繕補助如何申請?', '如何查詢臺北市老人福利機構名單及床位狀況?', '長者預防走失手鍊是否有GPS功能?', '申請愛心餐券對象為何？', '領取愛心餐券地點及使用方式為何？', '申請長者預防走失手鍊服務資格？\\r\\n申請長者預防走失手鍊需檢附的資料？', '我最近看到臺北扶老.軟硬兼施廣告，請問那是什麼服務?怎樣的對象可以申請?', '銀髮友善好站洽詢單位為何？', '身心障礙者專用停車位識別證新制服務對象為何？', '身心障礙者專用停車位識別證新制辦理方式及洽辦單位。', '身心障礙者專用停車位識別證新制上路，領有身心障礙手冊，未經新制身心障礙鑑定，原持有之專用停車位識別證是否有效？', '身心障礙者專用停車位識別證新制上路，領有身心障礙手冊，還能申請專用停車位識別證嗎？', '身心障礙者專用停車位識別證新制申請應備文件。', '「行動不便身心障礙者」之標準為何？', '「行動不便身心障礙者」判定、評估結果及異議處理方式為何？', '101年7月11日起身心障礙者專用停車位識別證新制上路！請說明新制的轉變。', '身心障礙者承租停車位補助的申請資格有哪些?', '身心障礙承租停車位補助金額如何計算?', '身心障礙者承租停車位補助有何查核機制?', '辦理身心障礙者承租停車位租金補助的車輛種類？', '申請身心障礙者承租停車位租金的聯絡窗口?', '已享有本市停管處停車月票優惠者，可否再領取身心障礙者承租停車位補助？', '身心障礙者購買停車位貸款利息補貼的申請資格有哪些?', '身心障礙者購買停車位貸款利息補貼金額如何計算?']"
   ]
  },
  {
   "cell_type": "code",
   "execution_count": 25,
   "metadata": {
    "collapsed": false,
    "deletable": true,
    "editable": true
   },
   "outputs": [],
   "source": [
    "bst = xgb.Booster({'nthread': 4})  # init model\n",
    "bst.load_model('20171127 125648530042.model')  # load data, you may have to read which model you saved\n",
    "\n",
    "with open('cat_mapping', 'r' , encoding='utf8') as f:\n",
    "    cat_mapping = json.load(f)\n",
    "\n",
    "with open('vectorterms_nonword2vec', 'r' , encoding='utf8') as f:\n",
    "    vectorterms = json.load(f)\n",
    "    \n",
    "def predict_cat(test_sentence):\n",
    "    print(test_sentence)\n",
    "    words = list(jieba.cut(test_sentence, cut_all=False))\n",
    "    print(\", \".join(words))\n",
    "    \n",
    "    self_main_list = [0] * len(vectorterms)\n",
    "    for term in words:\n",
    "        if term in vectorterms:\n",
    "            idx = vectorterms.index(term)\n",
    "            self_main_list[idx] += 1\n",
    "        \n",
    "    vector = self_main_list\n",
    "    cat_num = bst.predict(xgb.DMatrix(np.array([vector,])))[0]\n",
    "    print(cat_num)\n",
    "    \n",
    "    cat = None\n",
    "    for key, value in cat_mapping.items():\n",
    "        if str(int(cat_num)) == str(value):\n",
    "            cat = key\n",
    "    print(cat)\n",
    "    return cat"
   ]
  },
  {
   "cell_type": "code",
   "execution_count": 28,
   "metadata": {
    "collapsed": false,
    "deletable": true,
    "editable": true,
    "scrolled": false
   },
   "outputs": [
    {
     "name": "stdout",
     "output_type": "stream",
     "text": [
      "身心障礙者如無法於效期屆滿前申請或完成重新鑑定及需求評估應如何辦理？\n",
      "身心, 障礙者, 如, 無法, 於, 效期, 屆滿, 前, 申請, 或, 完成, 重新, 鑑定, 及, 需求, 評估, 應, 如何, 辦理, ？\n",
      "1.0\n",
      "身心障礙者福利\n",
      "================================\n",
      "領有身心障礙證明(手冊)後，如有戶籍異動、證明(手冊)遺失或破損不堪使用、姓名或身分證統一編號變更等情形，如何辦理？\n",
      "領有, 身心, 障礙, 證明, (, 手冊, ), 後, ，, 如, 有, 戶籍, 異動, 、, 證明, (, 手冊, ), 遺失, 或, 破損, 不堪, 使用, 、, 姓名, 或, 身分證, 統一, 編號, 變更, 等, 情形, ，, 如何, 辦理, ？\n",
      "1.0\n",
      "身心障礙者福利\n",
      "================================\n",
      "持有重大傷病證明卡者可否申請身心障礙證明(手冊)？\n",
      "持有, 重大, 傷病, 證明, 卡者, 可否, 申請, 身心, 障礙, 證明, (, 手冊, ), ？\n",
      "1.0\n",
      "身心障礙者福利\n",
      "================================\n",
      "我想要收養一個小孩，不知道要去哪裡申請？\n",
      "我, 想要, 收養, 一個, 小孩, ，, 不, 知道, 要, 去, 哪裡, 申請, ？\n",
      "2.0\n",
      "社會救助\n",
      "================================\n",
      "要如何申請危機家庭兒童及少年委託安置暨收容費用補助？\n",
      "要, 如何, 申請, 危機, 家庭, 兒童, 及, 少年, 委託, 安置, 暨, 收容, 費用, 補助, ？, \n",
      "8.0\n",
      "兒童少年及家庭福利\n",
      "================================\n",
      "發現有迷童、棄嬰或查無身分之兒少，需緊急安置者。\n",
      "發現, 有, 迷童, 、, 棄嬰, 或, 查無, 身分, 之, 兒少, ，, 需, 緊急, 安置, 者, 。\n",
      "2.0\n",
      "社會救助\n",
      "================================\n",
      "發現有兒童及少年(含發展遲緩或身心障礙者)無父母或父母失聯，需緊急送醫者。\n",
      "發現, 有, 兒童, 及, 少年, (, 含, 發展, 遲緩, 或, 身心, 障礙者, ), 無, 父母, 或, 父母, 失聯, ，, 需, 緊急, 送, 醫者, 。, \n",
      "8.0\n",
      "兒童少年及家庭福利\n",
      "================================\n",
      "老人健保補助之補助對象、補助額度、申請恢復補助之相關規定為何？\n",
      "老人, 健保, 補助, 之, 補助, 對象, 、, 補助, 額度, 、, 申請, 恢復, 補助, 之, 相關, 規定, 為何, ？\n",
      "5.0\n",
      "老人福利\n",
      "================================\n",
      "長青學苑報名資格、上課地點及洽詢單位\n",
      "長青, 學苑, 報名, 資格, 、, 上課, 地點, 及, 洽詢, 單位\n",
      "2.0\n",
      "社會救助\n",
      "================================\n",
      "長者預防走失手鍊及身心障礙者防走失手鍊有何不同？\n",
      "長者, 預防, 走失, 手鍊, 及, 身心, 障礙者, 防, 走失, 手鍊, 有何, 不同, ？\n",
      "1.0\n",
      "身心障礙者福利\n",
      "================================\n",
      "外籍配偶可否申請「馬上關懷急難救助」？\n",
      "外籍, 配偶, 可否, 申請, 「, 馬上, 關懷, 急難, 救助, 」, ？\n",
      "2.0\n",
      "社會救助\n",
      "================================\n",
      "「馬上關懷急難救助」有無限制申請次數？\n",
      "「, 馬上, 關懷, 急難, 救助, 」, 有無, 限制, 申請, 次數, ？\n",
      "2.0\n",
      "社會救助\n",
      "================================\n",
      "如何取得「馬上關懷急難救助作業要點」之內容及申請表件？\n",
      "如何, 取得, 「, 馬上, 關懷, 急難, 救助, 作業, 要點, 」, 之, 內容, 及, 申請表, 件, ？\n",
      "2.0\n",
      "社會救助\n",
      "================================\n",
      "「馬上關懷急難救助」向居住所在地或戶籍所在地申請？\n",
      "「, 馬上, 關懷, 急難, 救助, 」, 向, 居住, 所在地, 或, 戶籍, 所在地, 申請, ？\n",
      "2.0\n",
      "社會救助\n",
      "================================\n",
      "「馬上關懷急難救助」是否僅有低收入戶或非低收入戶才能提出申請？\n",
      "「, 馬上, 關懷, 急難, 救助, 」, 是否, 僅有, 低收入, 戶, 或非, 低收入, 戶, 才能, 提出申請, ？\n",
      "2.0\n",
      "社會救助\n",
      "================================\n",
      "「馬上關懷」與本市急難救助有何異同？\n",
      "「, 馬上, 關懷, 」, 與, 本市, 急難, 救助, 有何, 異同, ？\n",
      "2.0\n",
      "社會救助\n",
      "================================\n",
      "事故發生後何時可以申請「馬上關懷急難救助」？\n",
      "事故, 發生, 後, 何時, 可以, 申請, 「, 馬上, 關懷, 急難, 救助, 」, ？\n",
      "2.0\n",
      "社會救助\n",
      "================================\n",
      "馬上關懷急難救助的服務對象?\n",
      "馬上, 關懷, 急難, 救助, 的, 服務, 對象, ?\n",
      "2.0\n",
      "社會救助\n",
      "================================\n",
      "「馬上關懷急難救助」經申請（或通報）後，何時可獲得協助？\n",
      "「, 馬上, 關懷, 急難, 救助, 」, 經, 申請, （, 或, 通報, ）, 後, ，, 何時, 可, 獲得, 協助, ？\n",
      "2.0\n",
      "社會救助\n",
      "================================\n",
      "「馬上關懷」的申請（或通報）窗口為何？\n",
      "「, 馬上, 關懷, 」, 的, 申請, （, 或, 通報, ）, 窗口, 為何, ？\n",
      "1.0\n",
      "身心障礙者福利\n",
      "================================\n",
      "申請敬老、愛心及愛心陪伴悠遊卡應備文件為何？ \n",
      "申請, 敬老, 、, 愛心, 及, 愛心, 陪伴, 悠遊, 卡應備, 文件, 為何, ？,  , \n",
      "5.0\n",
      "老人福利\n",
      "================================\n",
      "106年度重陽禮金的致送對象?\n",
      "106, 年度, 重陽, 禮金, 的, 致送, 對象, ?\n",
      "8.0\n",
      "兒童少年及家庭福利\n",
      "================================\n",
      "免費點數可以用到YouBike或臺北市觀光雙層巴士嗎?\n",
      "免費, 點數, 可以, 用到, YouBike, 或, 臺北市, 觀光, 雙層, 巴士, 嗎, ?\n",
      "2.0\n",
      "社會救助\n",
      "================================\n",
      "若想了解自己(未收到通知單)是不是有被社會局補助老人健保費，是不是要自己打電話問?\n",
      "若想, 了解, 自己, (, 未, 收到, 通知單, ), 是不是, 有, 被, 社會局, 補助, 老人, 健, 保費, ，, 是不是, 要, 自己, 打電話, 問, ?, \n",
      "5.0\n",
      "老人福利\n",
      "================================\n",
      "臺北市老人健保自付額補助若發現仍未補助怎麼辦？\n",
      "臺北市, 老人, 健保, 自付, 額, 補助, 若, 發現, 仍, 未, 補助, 怎麼辦, ？, \n",
      "5.0\n",
      "老人福利\n",
      "================================\n",
      "敬老、愛心及愛心陪伴悠遊卡應該到哪裡辦裡加值?\n",
      "敬老, 、, 愛心, 及, 愛心, 陪伴, 悠遊, 卡, 應該, 到, 哪裡, 辦裡, 加值, ?\n",
      "5.0\n",
      "老人福利\n",
      "================================\n",
      "我是居留在臺北市的外籍人士，並且已經馬偕計畫審核通過，取得經註記「國內大眾運輸工具及公立育樂場所優待字樣」之外僑永久居留證，請問該如何申請臺北市敬老悠遊卡？\n",
      "我, 是, 居留, 在, 臺北市, 的, 外籍人士, ，, 並且, 已經, 馬, 偕, 計畫, 審核, 通過, ，, 取得, 經, 註, 記, 「, 國內, 大眾, 運輸工具, 及, 公立, 育樂, 場所, 優待, 字樣, 」, 之, 外僑, 永久, 居留證, ，, 請問, 該, 如何, 申請, 臺北市, 敬老, 悠遊, 卡, ？, \n",
      "5.0\n",
      "老人福利\n",
      "================================\n",
      "從哪裡可以得到老人福利服務資訊？\n",
      "從, 哪裡, 可以, 得到, 老人, 福利, 服務, 資訊, ？, \n",
      "5.0\n",
      "老人福利\n",
      "================================\n",
      "請問二代健保上路後會影響我的老人健保自付額補助資格嗎？\n",
      "請問, 二代, 健保, 上路, 後, 會, 影響, 我, 的, 老人, 健保, 自付, 額, 補助, 資格, 嗎, ？\n",
      "5.0\n",
      "老人福利\n",
      "================================\n",
      "如果想查詢敬老、愛心悠遊卡每月免費點數或票卡內自行加值之金額該如何查詢(含欲查詢是否有扣款錯誤之情形)？\n",
      "如果, 想, 查詢, 敬老, 、, 愛心, 悠遊, 卡, 每月, 免費, 點數, 或票, 卡內, 自行, 加值, 之, 金額, 該, 如何, 查詢, (, 含欲, 查詢, 是否, 有, 扣款, 錯誤, 之, 情形, ), ？\n",
      "5.0\n",
      "老人福利\n",
      "================================\n",
      "我的投保單位(特別是公司)如果已經倒閉以致無法取得老人健保自付額之繳費證明應該怎麼辦?(或是其他種種特殊原因以致無法向原投保單位取得繳費證明亦是，如被資遣或解僱.....)\n",
      "我, 的, 投保, 單位, (, 特別, 是, 公司, ), 如果, 已經, 倒閉, 以致, 無法, 取得, 老人, 健保, 自付, 額, 之, 繳費, 證明, 應該, 怎麼辦, ?, (, 或是, 其他, 種種, 特殊, 原因, 以致, 無法, 向, 原, 投保, 單位, 取得, 繳費, 證明, 亦, 是, ，, 如, 被, 資遣, 或, 解僱, ....., ), \n",
      "4.0\n",
      "婦女福利\n",
      "================================\n",
      "敬老、愛心及愛心陪伴悠遊卡是否也適用悠遊卡小額消費服務？\n",
      "敬老, 、, 愛心, 及, 愛心, 陪伴, 悠遊, 卡, 是否, 也, 適用, 悠遊, 卡, 小額, 消費, 服務, ？\n",
      "1.0\n",
      "身心障礙者福利\n",
      "================================\n",
      "臺北市老人健保有補助，為什麼我或者我的子女還在繳費?\n",
      "臺北市, 老人, 健, 保有, 補助, ，, 為, 什麼, 我, 或者, 我, 的, 子女, 還在, 繳費, ?, \n",
      "5.0\n",
      "老人福利\n",
      "================================\n",
      "敬老、愛心悠遊卡有使用期限嗎?\n",
      "敬老, 、, 愛心, 悠遊, 卡有, 使用, 期限, 嗎, ?\n",
      "5.0\n",
      "老人福利\n",
      "================================\n",
      "敬老、愛心及愛心陪伴悠遊卡，遺失該怎麼辦？應備何文件重新辦理？\n",
      "敬老, 、, 愛心, 及, 愛心, 陪伴, 悠遊, 卡, ，, 遺失, 該, 怎麼辦, ？, 應備何, 文件, 重新, 辦理, ？\n",
      "5.0\n",
      "老人福利\n",
      "================================\n",
      "申請台北卡-敬老、愛心乘車證服務(原敬老、愛心及愛心陪伴悠遊卡)資格為何？敬老悠遊卡年滿 65 歲當月可以提早申請嗎?受理申請單位為何？\n",
      "申請, 台北, 卡, -, 敬老, 、, 愛心, 乘車, 證, 服務, (, 原, 敬老, 、, 愛心, 及, 愛心, 陪伴, 悠遊, 卡, ), 資格, 為何, ？, 敬老, 悠遊, 卡, 年滿,  , 65,  , 歲, 當月, 可以, 提早, 申請, 嗎, ?, 受理, 申請, 單位, 為何, ？\n",
      "5.0\n",
      "老人福利\n",
      "================================\n",
      "敬老、愛心及愛心陪伴悠遊卡，故障應備何文件重新辦理？\n",
      "敬老, 、, 愛心, 及, 愛心, 陪伴, 悠遊, 卡, ，, 故障, 應備何, 文件, 重新, 辦理, ？\n",
      "5.0\n",
      "老人福利\n",
      "================================\n",
      "敬老、愛心悠遊卡可以借人使用嗎？\n",
      "敬老, 、, 愛心, 悠遊, 卡, 可以, 借, 人, 使用, 嗎, ？\n",
      "5.0\n",
      "老人福利\n",
      "================================\n",
      "我已遷出臺北市，想要退卡片裡面餘額，要怎麼辦呢？\n",
      "我, 已, 遷出, 臺北市, ，, 想要, 退, 卡片, 裡面, 餘額, ，, 要, 怎麼辦, 呢, ？\n",
      "2.0\n",
      "社會救助\n",
      "================================\n",
      "搭乘臺北市敬老愛心車隊，是否享有乘車優惠？\n",
      "搭乘, 臺北市, 敬老, 愛心, 車隊, ，, 是否, 享有, 乘車, 優惠, ？\n",
      "5.0\n",
      "老人福利\n",
      "================================\n",
      "若臺北市政府補貼優惠額度用完，搭乘敬老愛心車隊時，敬老（一）或愛心（一）悠遊卡片會如何扣款？\n",
      "若, 臺北市, 政府, 補貼, 優惠, 額度, 用, 完, ，, 搭乘, 敬老, 愛心, 車隊, 時, ，, 敬老, （, 一, ）, 或, 愛心, （, 一, ）, 悠遊, 卡片, 會, 如何, 扣款, ？\n",
      "5.0\n",
      "老人福利\n",
      "================================\n",
      "10/29之後，敬老卡擴大使用範圍為何？\n",
      "10, /, 29, 之後, ，, 敬老, 卡, 擴大, 使用, 範圍, 為何, ？\n",
      "5.0\n",
      "老人福利\n",
      "================================\n",
      "什麼時候可以開始用敬老卡免費搭捷運?\n",
      "什麼, 時候, 可以, 開始, 用, 敬老, 卡, 免費, 搭, 捷運, ?\n",
      "11.0\n",
      "社區發展服務\n",
      "================================\n",
      "申請(含遺失補發)敬老、愛心及愛心陪伴悠遊卡需多久時間才能領到卡片？若已申請辦好了，在領取時，可否委託人代領？\n",
      "申請, (, 含, 遺失, 補發, ), 敬老, 、, 愛心, 及, 愛心, 陪伴, 悠遊, 卡需, 多久, 時間, 才能, 領到, 卡片, ？, 若, 已, 申請, 辦好, 了, ，, 在, 領取, 時, ，, 可否, 委託人, 代領, ？\n",
      "2.0\n",
      "社會救助\n",
      "================================\n",
      "如何搭乘臺北市敬老愛心車隊之計程車？\n",
      "如何, 搭乘, 臺北市, 敬老, 愛心, 車隊, 之, 計程車, ？\n",
      "5.0\n",
      "老人福利\n",
      "================================\n",
      "申請特殊境遇家庭扶助應具備什麼條件？\n",
      "申請, 特殊, 境遇, 家庭, 扶助, 應, 具備, 什麼, 條件, ？\n",
      "4.0\n",
      "婦女福利\n",
      "================================\n",
      "申請特殊境遇家庭扶助到收到社會局公文回覆審查結果需要多久時間？\n",
      "申請, 特殊, 境遇, 家庭, 扶助, 到, 收到, 社會局, 公文, 回覆, 審查, 結果, 需要, 多久, 時間, ？\n",
      "4.0\n",
      "婦女福利\n",
      "================================\n",
      "申請特殊境遇家庭扶助時應檢附哪些文件？\n",
      "申請, 特殊, 境遇, 家庭, 扶助, 時應, 檢附, 哪些, 文件, ？\n",
      "4.0\n",
      "婦女福利\n",
      "================================\n",
      "什麼是特殊境遇家庭扶助？\n",
      "什麼, 是, 特殊, 境遇, 家庭, 扶助, ？\n",
      "4.0\n",
      "婦女福利\n",
      "================================\n",
      "特殊境遇家庭之全家人口計算範圍為何？\n",
      "特殊, 境遇, 家庭, 之, 全家, 人口, 計算, 範圍, 為何, ？\n",
      "4.0\n",
      "婦女福利\n",
      "================================\n",
      "我已經是低收入戶，還可以申請特殊境遇家庭扶助嗎？\n",
      "我, 已經, 是, 低收入, 戶, ，, 還, 可以, 申請, 特殊, 境遇, 家庭, 扶助, 嗎, ？\n",
      "4.0\n",
      "婦女福利\n",
      "================================\n",
      "特殊境遇家庭扶助的扶助項目有哪些？\n",
      "特殊, 境遇, 家庭, 扶助, 的, 扶助, 項目, 有, 哪些, ？\n",
      "4.0\n",
      "婦女福利\n",
      "================================\n",
      "特殊境遇家庭扶助緊急生活補助最多可以補助多少元？\n",
      "特殊, 境遇, 家庭, 扶助, 緊急, 生活, 補助, 最, 多, 可以, 補助, 多少, 元, ？\n",
      "4.0\n",
      "婦女福利\n",
      "================================\n",
      "我之前已申請過特殊境遇家庭緊急生活扶助，是否可再申請1次？\n",
      "我, 之前, 已, 申請, 過, 特殊, 境遇, 家庭, 緊急, 生活, 扶助, ，, 是否, 可, 再, 申請, 1, 次, ？\n",
      "4.0\n",
      "婦女福利\n",
      "================================\n",
      "特殊境遇家庭兒童就托臺北市市立幼兒園有無補助？\n",
      "特殊, 境遇, 家庭, 兒童, 就, 托, 臺北市, 市立, 幼兒園, 有無, 補助, ？\n",
      "4.0\n",
      "婦女福利\n",
      "================================\n",
      "特殊境遇家庭兒童托育津貼如何申請？\n",
      "特殊, 境遇, 家庭, 兒童, 托育, 津貼, 如何, 申請, ？\n",
      "4.0\n",
      "婦女福利\n",
      "================================\n",
      "特殊境遇家庭法律訴訟補助對象為何？補助金額多少？\n",
      "特殊, 境遇, 家庭, 法律, 訴訟, 補助, 對象, 為何, ？, 補助, 金額, 多少, ？\n",
      "4.0\n",
      "婦女福利\n",
      "================================\n",
      "特殊境遇傷病醫療補助補助對象及補助金額為何？\n",
      "特殊, 境遇, 傷病, 醫療, 補助, 補助, 對象, 及, 補助, 金額, 為何, ？\n",
      "4.0\n",
      "婦女福利\n",
      "================================\n",
      "特殊境遇家庭扶助申請應備文件之全戶財稅資料要向哪裡申請？成年子女可代為申請嗎？可以由社會局查調嗎？\n",
      "特殊, 境遇, 家庭, 扶助, 申請, 應備, 文件, 之, 全戶, 財稅, 資料, 要, 向, 哪裡, 申請, ？, 成年, 子女, 可代為, 申請, 嗎, ？, 可以, 由, 社會局, 查調, 嗎, ？\n",
      "4.0\n",
      "婦女福利\n",
      "================================\n",
      "特殊境遇家庭扶助申請表格要去哪裡索取？或下載申請表格？\n",
      "特殊, 境遇, 家庭, 扶助, 申請, 表格, 要, 去, 哪裡, 索取, ？, 或, 下載, 申請, 表格, ？\n",
      "4.0\n",
      "婦女福利\n",
      "================================\n",
      "特殊境遇家庭扶助要向哪個單位申請、申請方式？\n",
      "特殊, 境遇, 家庭, 扶助, 要, 向, 哪個, 單位, 申請, 、, 申請, 方式, ？\n",
      "4.0\n",
      "婦女福利\n",
      "================================\n",
      "特殊境遇家庭子女教育補助如何申請？\n",
      "特殊, 境遇, 家庭, 子女教育, 補助, 如何, 申請, ？\n",
      "4.0\n",
      "婦女福利\n",
      "================================\n",
      "特殊境遇家庭創業貸款補助為何？要向哪個單位提出申請？\n",
      "特殊, 境遇, 家庭, 創業, 貸款, 補助, 為何, ？, 要, 向, 哪個, 單位, 提出申請, ？\n",
      "4.0\n",
      "婦女福利\n",
      "================================\n",
      "我是離婚單親，與前配偶共同監護1名4歲小孩，可否申請特殊境遇家庭扶助？\n",
      "我, 是, 離婚, 單親, ，, 與, 前, 配偶, 共同, 監護, 1, 名, 4, 歲, 小孩, ，, 可否, 申請, 特殊, 境遇, 家庭, 扶助, ？\n",
      "4.0\n",
      "婦女福利\n",
      "================================\n",
      "若敬老（一）或愛心（一）悠遊卡片儲值金額不足，搭乘敬老愛心車隊可以享有市政府補貼優惠嗎？\n",
      "若, 敬老, （, 一, ）, 或, 愛心, （, 一, ）, 悠遊, 卡片, 儲值, 金額, 不足, ，, 搭乘, 敬老, 愛心, 車隊, 可以, 享有, 市政府, 補貼, 優惠, 嗎, ？\n",
      "5.0\n",
      "老人福利\n",
      "================================\n",
      "月初持敬老悠遊卡至捷運站查詢機查詢每月免費點數，但點數顯示為O，為什麼？\n",
      "月初, 持, 敬老, 悠遊, 卡至, 捷運, 站, 查詢, 機, 查詢, 每月, 免費, 點數, ，, 但, 點數, 顯示, 為, O, ，, 為, 什麼, ？\n",
      "2.0\n",
      "社會救助\n",
      "================================\n",
      "未成年之兒童、少年、身心障礙少年,遭遺棄虐待、未受適當養育照顧(如長期未進食)或父母生病、入獄等,需緊急安置者\n",
      "未成年, 之, 兒童, 、, 少年, 、, 身心, 障礙, 少年, ,, 遭, 遺棄, 虐待, 、, 未受, 適當, 養育, 照顧, (, 如, 長期, 未, 進食, ), 或, 父母, 生病, 、, 入獄, 等, ,, 需, 緊急, 安置, 者\n",
      "1.0\n",
      "身心障礙者福利\n",
      "================================\n",
      "發現有兒童及少年(含發展遲緩或身心障礙者)遭遺棄、虐待、未受適當養育照顧(如長期未進食、獨自生活、流浪)、或父母(或其他主要照顧者)生病、入獄等，需緊急安置者。\n",
      "發現, 有, 兒童, 及, 少年, (, 含, 發展, 遲緩, 或, 身心, 障礙者, ), 遭, 遺棄, 、, 虐待, 、, 未受, 適當, 養育, 照顧, (, 如, 長期, 未, 進食, 、, 獨自, 生活, 、, 流浪, ), 、, 或, 父母, (, 或, 其他, 主要, 照顧, 者, ), 生病, 、, 入獄, 等, ，, 需, 緊急, 安置, 者, 。\n",
      "1.0\n",
      "身心障礙者福利\n",
      "================================\n",
      "我想要捐贈金錢或物資給育幼院，請問可以捐給哪些單位？\n",
      "我, 想要, 捐贈, 金錢, 或, 物資, 給, 育幼院, ，, 請問, 可以, 捐給, 哪些, 單位, ？\n",
      "2.0\n",
      "社會救助\n",
      "================================\n",
      "申請居家服務資格條件為何?\n",
      "申請, 居家, 服務, 資格, 條件, 為何, ?\n",
      "1.0\n",
      "身心障礙者福利\n",
      "================================\n",
      "石頭湯（社區整合照顧服務）目前共有哪幾區提供服務？\n",
      "石頭, 湯, （, 社區, 整合, 照顧, 服務, ）, 目前, 共有, 哪幾, 區, 提供, 服務, ？\n",
      "1.0\n",
      "身心障礙者福利\n",
      "================================\n",
      "申請失能者生活輔助器具及居家無障礙環境改善補助應備文件為何？\n",
      "申請, 失能者, 生活, 輔助, 器具, 及, 居家, 無障礙, 環境, 改善, 補助, 應備, 文件, 為何, ？\n",
      "1.0\n",
      "身心障礙者福利\n",
      "================================\n",
      "本市有哪些老人日間照顧中心(只收失智失能長者，週一至周五白天送至中心照顧) \n",
      "本市, 有, 哪些, 老人, 日間, 照顧, 中心, (, 只收, 失智失, 能, 長者, ，, 週一, 至, 周五, 白天, 送, 至, 中心, 照顧, ),  , \n",
      "5.0\n",
      "老人福利\n",
      "================================\n",
      "疑似患精神疾病、身心障礙或失智的老人於街上遊蕩而無人照顧。\n",
      "疑似, 患, 精神疾病, 、, 身心, 障礙, 或, 失智, 的, 老人, 於, 街上, 遊蕩, 而, 無人, 照顧, 。, \n",
      "1.0\n",
      "身心障礙者福利\n",
      "================================\n",
      "老人緊急救援系統內容為何，如何申請？\n",
      "老人, 緊急, 救援, 系統, 內容, 為何, ，, 如何, 申請, ？, \n",
      "5.0\n",
      "老人福利\n",
      "================================\n",
      "如何申請使用老人日間照顧服務(至日間照顧中心收托)?\n",
      "如何, 申請, 使用, 老人, 日間, 照顧, 服務, (, 至, 日間, 照顧, 中心, 收托, ), ?\n",
      "5.0\n",
      "老人福利\n",
      "================================\n",
      "中低收入戶老人住屋修繕補助如何申請?\n",
      "中低收入, 戶, 老人, 住屋, 修繕, 補助, 如何, 申請, ?\n",
      "5.0\n",
      "老人福利\n",
      "================================\n",
      "如何查詢臺北市老人福利機構名單及床位狀況?\n",
      "如何, 查詢, 臺北市, 老人, 福利, 機構, 名單, 及, 床位, 狀況, ?\n",
      "5.0\n",
      "老人福利\n",
      "================================\n",
      "長者預防走失手鍊是否有GPS功能?\n",
      "長者, 預防, 走失, 手鍊, 是否, 有, GPS, 功能, ?\n",
      "8.0\n",
      "兒童少年及家庭福利\n",
      "================================\n",
      "申請愛心餐券對象為何？\n",
      "申請, 愛心, 餐券, 對象, 為何, ？\n",
      "1.0\n",
      "身心障礙者福利\n",
      "================================\n",
      "領取愛心餐券地點及使用方式為何？\n",
      "領取, 愛心, 餐券, 地點, 及, 使用, 方式, 為何, ？\n",
      "1.0\n",
      "身心障礙者福利\n",
      "================================\n",
      "申請長者預防走失手鍊需檢附的資料？\n",
      ", 申請, 長者, 預防, 走失, 手鍊, 需, 檢附, 的, 資料, ？\n",
      "1.0\n",
      "身心障礙者福利\n",
      "================================\n",
      "我最近看到臺北扶老.軟硬兼施廣告，請問那是什麼服務?怎樣的對象可以申請?\n",
      "我, 最近, 看到, 臺北, 扶, 老, ., 軟硬兼施, 廣告, ，, 請問, 那, 是, 什麼, 服務, ?, 怎樣, 的, 對象, 可以, 申請, ?\n",
      "11.0\n",
      "社區發展服務\n",
      "================================\n",
      "銀髮友善好站洽詢單位為何？\n",
      "銀髮, 友善, 好, 站, 洽詢, 單位, 為何, ？\n",
      "1.0\n",
      "身心障礙者福利\n",
      "================================\n",
      "身心障礙者專用停車位識別證新制服務對象為何？\n",
      "身心, 障礙者, 專用, 停車位, 識別證, 新制, 服務, 對象, 為何, ？\n",
      "1.0\n",
      "身心障礙者福利\n",
      "================================\n",
      "身心障礙者專用停車位識別證新制辦理方式及洽辦單位。\n",
      "身心, 障礙者, 專用, 停車位, 識別證, 新制, 辦理, 方式, 及, 洽辦, 單位, 。\n",
      "1.0\n",
      "身心障礙者福利\n",
      "================================\n",
      "身心障礙者專用停車位識別證新制上路，領有身心障礙手冊，未經新制身心障礙鑑定，原持有之專用停車位識別證是否有效？\n",
      "身心, 障礙者, 專用, 停車位, 識別證, 新制, 上路, ，, 領有, 身心, 障礙, 手冊, ，, 未經, 新制, 身心, 障礙, 鑑定, ，, 原, 持有, 之, 專用, 停車位, 識別證, 是否, 有效, ？\n",
      "1.0\n",
      "身心障礙者福利\n",
      "================================\n",
      "身心障礙者專用停車位識別證新制上路，領有身心障礙手冊，還能申請專用停車位識別證嗎？\n",
      "身心, 障礙者, 專用, 停車位, 識別證, 新制, 上路, ，, 領有, 身心, 障礙, 手冊, ，, 還能, 申請, 專用, 停車位, 識別證, 嗎, ？\n",
      "1.0\n",
      "身心障礙者福利\n",
      "================================\n",
      "身心障礙者專用停車位識別證新制申請應備文件。\n",
      "身心, 障礙者, 專用, 停車位, 識別證, 新制, 申請, 應備, 文件, 。\n",
      "1.0\n",
      "身心障礙者福利\n",
      "================================\n",
      "「行動不便身心障礙者」之標準為何？\n",
      "「, 行動不便, 身心, 障礙者, 」, 之, 標準, 為何, ？\n",
      "1.0\n",
      "身心障礙者福利\n",
      "================================\n",
      "「行動不便身心障礙者」判定、評估結果及異議處理方式為何？\n",
      "「, 行動不便, 身心, 障礙者, 」, 判定, 、, 評估, 結果, 及, 異議, 處理方式, 為何, ？\n",
      "1.0\n",
      "身心障礙者福利\n",
      "================================\n",
      "101年7月11日起身心障礙者專用停車位識別證新制上路！請說明新制的轉變。\n",
      "101, 年, 7, 月, 11, 日, 起身, 心, 障礙者, 專用, 停車位, 識別證, 新制, 上路, ！, 請, 說明, 新制, 的, 轉變, 。\n",
      "8.0\n",
      "兒童少年及家庭福利\n",
      "================================\n",
      "身心障礙者承租停車位補助的申請資格有哪些?\n",
      "身心, 障礙者, 承租, 停車位, 補助, 的, 申請, 資格, 有, 哪些, ?\n",
      "1.0\n",
      "身心障礙者福利\n",
      "================================\n",
      "身心障礙承租停車位補助金額如何計算?\n",
      "身心, 障礙, 承租, 停車位, 補助, 金額, 如何, 計算, ?\n",
      "1.0\n",
      "身心障礙者福利\n",
      "================================\n",
      "身心障礙者承租停車位補助有何查核機制?\n",
      "身心, 障礙者, 承租, 停車位, 補助, 有何, 查核, 機制, ?\n",
      "1.0\n",
      "身心障礙者福利\n",
      "================================\n",
      "辦理身心障礙者承租停車位租金補助的車輛種類？\n",
      "辦理, 身心, 障礙者, 承租, 停車位, 租金, 補助, 的, 車輛, 種類, ？\n",
      "1.0\n",
      "身心障礙者福利\n",
      "================================\n",
      "申請身心障礙者承租停車位租金的聯絡窗口?\n",
      "申請, 身心, 障礙者, 承租, 停車位, 租金, 的, 聯絡, 窗口, ?\n",
      "1.0\n",
      "身心障礙者福利\n",
      "================================\n",
      "已享有本市停管處停車月票優惠者，可否再領取身心障礙者承租停車位補助？\n",
      "已, 享有, 本市, 停管, 處, 停車, 月票, 優惠, 者, ，, 可否, 再, 領取, 身心, 障礙者, 承租, 停車位, 補助, ？\n",
      "1.0\n",
      "身心障礙者福利\n",
      "================================\n",
      "身心障礙者購買停車位貸款利息補貼的申請資格有哪些?\n",
      "身心, 障礙者, 購買, 停車位, 貸款, 利息, 補貼, 的, 申請, 資格, 有, 哪些, ?\n",
      "1.0\n",
      "身心障礙者福利\n",
      "================================\n",
      "身心障礙者購買停車位貸款利息補貼金額如何計算?\n",
      "身心, 障礙者, 購買, 停車位, 貸款, 利息, 補貼, 金額, 如何, 計算, ?\n",
      "1.0\n",
      "身心障礙者福利\n",
      "================================\n"
     ]
    }
   ],
   "source": [
    "for q in testing_questions:\n",
    "    predict_cat(q.replace('\\n', ''))\n",
    "    print(\"================================\")"
   ]
  },
  {
   "cell_type": "code",
   "execution_count": null,
   "metadata": {
    "collapsed": true
   },
   "outputs": [],
   "source": []
  },
  {
   "cell_type": "code",
   "execution_count": null,
   "metadata": {
    "collapsed": true
   },
   "outputs": [],
   "source": []
  },
  {
   "cell_type": "code",
   "execution_count": null,
   "metadata": {
    "collapsed": true
   },
   "outputs": [],
   "source": []
  },
  {
   "cell_type": "code",
   "execution_count": null,
   "metadata": {
    "collapsed": true
   },
   "outputs": [],
   "source": []
  },
  {
   "cell_type": "code",
   "execution_count": null,
   "metadata": {
    "collapsed": true
   },
   "outputs": [],
   "source": []
  },
  {
   "cell_type": "code",
   "execution_count": null,
   "metadata": {
    "collapsed": true
   },
   "outputs": [],
   "source": []
  },
  {
   "cell_type": "code",
   "execution_count": null,
   "metadata": {
    "collapsed": true
   },
   "outputs": [],
   "source": []
  },
  {
   "cell_type": "code",
   "execution_count": null,
   "metadata": {
    "collapsed": true
   },
   "outputs": [],
   "source": []
  },
  {
   "cell_type": "code",
   "execution_count": null,
   "metadata": {
    "collapsed": true
   },
   "outputs": [],
   "source": []
  },
  {
   "cell_type": "code",
   "execution_count": null,
   "metadata": {
    "collapsed": true
   },
   "outputs": [],
   "source": []
  },
  {
   "cell_type": "code",
   "execution_count": null,
   "metadata": {
    "collapsed": true
   },
   "outputs": [],
   "source": []
  },
  {
   "cell_type": "code",
   "execution_count": null,
   "metadata": {
    "collapsed": true,
    "deletable": true,
    "editable": true
   },
   "outputs": [],
   "source": []
  },
  {
   "cell_type": "code",
   "execution_count": null,
   "metadata": {
    "collapsed": true,
    "deletable": true,
    "editable": true
   },
   "outputs": [],
   "source": []
  },
  {
   "cell_type": "code",
   "execution_count": 79,
   "metadata": {
    "collapsed": false,
    "deletable": true,
    "editable": true,
    "scrolled": true
   },
   "outputs": [
    {
     "data": {
      "text/plain": [
       "0                                       小孩出生後應於何時申請育兒津貼?\n",
       "1                                       小孩出生後應於何時申請育兒津貼?\n",
       "2                                          育兒津貼申請應備文件為何?\n",
       "3                             若民眾夫妻雙方均失業，是否可申請家庭育兒津貼費用補助\n",
       "4                                            育兒津貼補助對象為何？\n",
       "5                              如何認定是否符合父母未就業家庭育兒津貼中的未就業？\n",
       "6      未就業家庭育兒津貼條件中，若一方無工作但有投保公會勞保，請問是否可申請該項津貼，請提供該項業...\n",
       "7                               就業者家庭部分托育費用補助所稱的「就業者」為何？\n",
       "8                我未來想當合格托育人員，但又不是相關科系，新竹市哪裡會開辦托育人員訓練課程呢？\n",
       "9                      我該如何成為居家托育服務中心(原社區保母系統)的居家式托育人員呢？\n",
       "10                                     親戚朋友托育，是否也可以領補助呢？\n",
       "11                            就業者家庭部分托育費用補助申請應備文件為何？向誰申請\n",
       "12                                          育兒津貼補助內容為為何？\n",
       "13                                        誰可以提出育兒津貼申請手續？\n",
       "14                                           托育費用補助標準為何？\n",
       "15                                           托育費用補助對象為何？\n",
       "16                                           育兒津貼補助金額多少？\n",
       "17                           請提供本年度保母系統(居家托育服務中心)相關資訊為何?\n",
       "18                                    育兒津貼受理單位為何？審核程序為何？\n",
       "19                          要申請托育補助一定要找加入居家托育服務中心的托育人員嗎？\n",
       "20                             就業者家庭部分托育費用補助申請對象及審核程序為何？\n",
       "21                                  就業者家庭部分托育費用補助審核程序為何？\n",
       "22                                      托育補助金額多少，補助期間多長？\n",
       "23                                         免費育兒指導的內容是什麼？\n",
       "24                                    育兒指導員到府可提供哪些服務內容？ \n",
       "25     目前有領取育嬰留職停薪不能請領育兒津貼，但育嬰留職停薪只能請領六個月，之後孩子仍未滿2歲，還...\n",
       "26                        居家式托育人員(原保母)或親屬保母每人至多可以照顧幾位幼童？\n",
       "27                                     申請育兒指導服務要符合怎樣的資格？\n",
       "28                                           如何申請育兒指導服務？\n",
       "29                               育兒指導服務可以提供哪些協助？全部免費服務嗎？\n",
       "                             ...                        \n",
       "297                                       取用食物的時候要注意什麼嗎？\n",
       "298                                       取用食物有限制數量及區域嗎？\n",
       "299                                         放在冰箱中的食物安全嗎?\n",
       "300                                               續食是什麼?\n",
       "301                                             什麼是愛享冰箱?\n",
       "302                                         推動社區愛享冰箱的目的?\n",
       "303                                        請問如何進行合作社之清算？\n",
       "304                                     如何申請本市社會福利慈善基金會？\n",
       "305                                   本市人民團體申請設立程序及法令依據？\n",
       "306                                   請問有關合作社變更登記應備文件為何？\n",
       "307                                      本市人民團體選舉相關重要法令？\n",
       "308                                       請問合作社場解散之程序為何？\n",
       "309                                        請問如何申請籌組合作社場？\n",
       "310                                       申請籌組人民團體之條件為何？\n",
       "311                                               何謂合作社？\n",
       "312                               如何申請設立財團法人社會福利慈善事業基金會？\n",
       "313                                     申請人民團體應附書表及證件為何？\n",
       "314                                            如何加入志工行列？\n",
       "315                                              如何申請志工隊\n",
       "316                                          如何申請志願服務紀錄冊\n",
       "317                                          如何申請志願服務榮譽卡\n",
       "318              加入國民年金保險，經審查符合所得未達一定標準者，如有戶籍遷徙，是否應重新申請？\n",
       "319                       申請國民年金所得未達一定標準資格認定，應向哪一單位提出申請？\n",
       "320                   國民年金開辦時年滿65歲之一般國民，請領老年基本保證年金之資格為何？\n",
       "321           國民年金保險被保險人如果是家庭收入較低者，國民年金保險費是否可以減免？補助標準為何？\n",
       "322                                         國民年金之實施對象為何？\n",
       "323                                     國民年金生育給付從什麼時候開辦？\n",
       "324                                     國民年金生育給付從何時開始調漲？\n",
       "325                                       國民年金生育給付的申請資格？\n",
       "326                               國民年金所得未達一定標準保費減免的申請方式？\n",
       "Name: question, Length: 327, dtype: object"
      ]
     },
     "execution_count": 79,
     "metadata": {},
     "output_type": "execute_result"
    }
   ],
   "source": [
    "df_test= getall('hsinchu')\n",
    "df_test['question']"
   ]
  },
  {
   "cell_type": "code",
   "execution_count": 80,
   "metadata": {
    "collapsed": false,
    "deletable": true,
    "editable": true
   },
   "outputs": [
    {
     "name": "stdout",
     "output_type": "stream",
     "text": [
      "小孩出生後應於何時申請育兒津貼?\n",
      "小孩, 出生, 後, 應於, 何時, 申請, 育兒, 津貼, ?\n",
      "小孩, 出生, 後, 應於, 何時, 申請, 育兒, 津貼, ?, 孩子, 小孩子, 孩童, 小女孩, 之後, 以後, 隨後, 後則, 其後, 過後, 而後, 提出申請, 申請人, 申領, 退休金, 綜援, 補貼, 補助金, 養老金, 學雜費, 學費, 撫卹金, 救濟金, 補助費\n",
      "幼兒福利及托育服務\n"
     ]
    },
    {
     "data": {
      "text/plain": [
       "'幼兒福利及托育服務'"
      ]
     },
     "execution_count": 80,
     "metadata": {},
     "output_type": "execute_result"
    }
   ],
   "source": [
    "test_sentence = df_test['question'][0]\n",
    "process_into_vector(test_sentence)"
   ]
  },
  {
   "cell_type": "code",
   "execution_count": 81,
   "metadata": {
    "collapsed": false,
    "deletable": true,
    "editable": true
   },
   "outputs": [
    {
     "name": "stdout",
     "output_type": "stream",
     "text": [
      "親戚朋友托育，是否也可以領補助呢？\n",
      "親戚朋友, 托育, ，, 是否, 也, 可以, 領, 補助, 呢, ？\n",
      "親戚朋友, 托育, ，, 是否, 也, 可以, 領, 補助, 呢, ？, 托老, 與否, 亦, 能夠, 可, 能, 還能, 補貼\n",
      "幼兒福利及托育服務\n"
     ]
    },
    {
     "data": {
      "text/plain": [
       "'幼兒福利及托育服務'"
      ]
     },
     "execution_count": 81,
     "metadata": {},
     "output_type": "execute_result"
    }
   ],
   "source": [
    "test_sentence = df_test['question'][10]\n",
    "process_into_vector(test_sentence)"
   ]
  },
  {
   "cell_type": "code",
   "execution_count": 82,
   "metadata": {
    "collapsed": false,
    "deletable": true,
    "editable": true
   },
   "outputs": [
    {
     "name": "stdout",
     "output_type": "stream",
     "text": [
      "我已經年滿65歲領有國民年金老人年金及基本保證年金3628元，因家境清寒還可以再申請中低收入戶老人生活津貼嗎？\n",
      "我, 已經, 年滿, 65, 歲, 領有, 國民, 年金, 老人, 年金, 及, 基本, 保證, 年金, 3628, 元, ，, 因, 家境清寒, 還, 可以, 再, 申請, 中低收入, 戶, 老人, 生活, 津貼, 嗎, ？\n",
      "我, 已經, 年滿, 65, 歲, 領有, 國民, 年金, 老人, 年金, 及, 基本, 保證, 年金, 3628, 元, ，, 因, 家境清寒, 還, 可以, 再, 申請, 中低收入, 戶, 老人, 生活, 津貼, 嗎, ？, 你, 已, 早已, 未滿, 週歲, 五歲, 十歲, 十四歲, 十五歲, 九歲, 所領, 以及, 確保, 由於, 因為, 家境貧困, 家境貧寒, 家貧, 嬌生慣養, 喪母, 他還, 它還, 能夠, 可, 能, 還能, 提出申請, 申請人, 申領, 低收入, 增寶兒, 退休金, 綜援, 補貼, 補助金, 養老金, 學雜費, 學費, 撫卹金, 救濟金, 補助費, 怎麼\n",
      "老人福利\n"
     ]
    },
    {
     "data": {
      "text/plain": [
       "'老人福利'"
      ]
     },
     "execution_count": 82,
     "metadata": {},
     "output_type": "execute_result"
    }
   ],
   "source": [
    "test_sentence = df_test['question'][100]\n",
    "process_into_vector(test_sentence)"
   ]
  },
  {
   "cell_type": "code",
   "execution_count": null,
   "metadata": {
    "collapsed": true,
    "deletable": true,
    "editable": true
   },
   "outputs": [],
   "source": []
  },
  {
   "cell_type": "code",
   "execution_count": null,
   "metadata": {
    "collapsed": true,
    "deletable": true,
    "editable": true
   },
   "outputs": [],
   "source": []
  },
  {
   "cell_type": "code",
   "execution_count": null,
   "metadata": {
    "collapsed": true,
    "deletable": true,
    "editable": true
   },
   "outputs": [],
   "source": []
  },
  {
   "cell_type": "code",
   "execution_count": null,
   "metadata": {
    "collapsed": true,
    "deletable": true,
    "editable": true
   },
   "outputs": [],
   "source": []
  },
  {
   "cell_type": "code",
   "execution_count": null,
   "metadata": {
    "collapsed": true,
    "deletable": true,
    "editable": true
   },
   "outputs": [],
   "source": []
  },
  {
   "cell_type": "code",
   "execution_count": null,
   "metadata": {
    "collapsed": true,
    "deletable": true,
    "editable": true
   },
   "outputs": [],
   "source": []
  },
  {
   "cell_type": "code",
   "execution_count": null,
   "metadata": {
    "collapsed": true,
    "deletable": true,
    "editable": true
   },
   "outputs": [],
   "source": []
  },
  {
   "cell_type": "code",
   "execution_count": null,
   "metadata": {
    "collapsed": true,
    "deletable": true,
    "editable": true
   },
   "outputs": [],
   "source": []
  },
  {
   "cell_type": "code",
   "execution_count": null,
   "metadata": {
    "collapsed": true,
    "deletable": true,
    "editable": true
   },
   "outputs": [],
   "source": []
  },
  {
   "cell_type": "code",
   "execution_count": null,
   "metadata": {
    "collapsed": true,
    "deletable": true,
    "editable": true
   },
   "outputs": [],
   "source": []
  },
  {
   "cell_type": "code",
   "execution_count": null,
   "metadata": {
    "collapsed": true,
    "deletable": true,
    "editable": true
   },
   "outputs": [],
   "source": []
  },
  {
   "cell_type": "code",
   "execution_count": null,
   "metadata": {
    "collapsed": true,
    "deletable": true,
    "editable": true
   },
   "outputs": [],
   "source": []
  },
  {
   "cell_type": "code",
   "execution_count": null,
   "metadata": {
    "collapsed": true,
    "deletable": true,
    "editable": true
   },
   "outputs": [],
   "source": []
  },
  {
   "cell_type": "code",
   "execution_count": null,
   "metadata": {
    "collapsed": true,
    "deletable": true,
    "editable": true
   },
   "outputs": [],
   "source": []
  },
  {
   "cell_type": "code",
   "execution_count": null,
   "metadata": {
    "collapsed": true,
    "deletable": true,
    "editable": true
   },
   "outputs": [],
   "source": [
    "import jieba\n",
    "from pymongo import MongoClient\n",
    "import pandas as pd\n",
    "import requests\n",
    "import xgboost \n",
    "import xgboost as xgb\n",
    "import json"
   ]
  },
  {
   "cell_type": "code",
   "execution_count": null,
   "metadata": {
    "collapsed": true,
    "deletable": true,
    "editable": true
   },
   "outputs": [],
   "source": [
    "bst = xgb.Booster({'nthread': 4})  # init model\n",
    "bst.load_model(\"186764.model\")\n",
    "\n",
    "def getall(col_name):\n",
    "    conn = MongoClient()\n",
    "    db = conn.QA1999\n",
    "    collection = db[col_name]\n",
    "    cursor = collection.find({})\n",
    "    rows = [row for row in cursor]\n",
    "    df = pd.DataFrame(rows)\n",
    "#     df.drop_duplicates(inplace=True)\n",
    "    return df\n",
    "\n",
    "df_train = getall('hsinchu')\n",
    "\n",
    "cat_mapping = {'人民團體及合作社場服務': 1,\n",
    "                 '兒童少年及家庭福利': 9,\n",
    "                 '國民年金': 4,\n",
    "                 '婦女福利': 6,\n",
    "                 '家庭暴力及性侵害防治服務': 2,\n",
    "                 '幼兒福利及托育服務': 3,\n",
    "                 '志願服務': 0,\n",
    "                 '社區發展服務': 8,\n",
    "                 '社工專業服務': 5,\n",
    "                 '社會救助': 11,\n",
    "                 '老人福利': 10,\n",
    "                 '身心障礙者福利': 7}\n",
    "\n",
    "total_li = []\n",
    "for li in list(df_train['words']):\n",
    "    total_li += li\n",
    "vectorterms = list(set(total_li))\n",
    "main_list = [0] * len(vectorterms)\n",
    "    \n",
    "def process_into_vector(test_sentence):\n",
    "    print(test_sentence)\n",
    "    words = list(jieba.cut(test_sentence, cut_all=False))\n",
    "    print(\", \".join(words))\n",
    "    \n",
    "    allrelated = []\n",
    "    for keyword in words:\n",
    "        url = 'http://140.120.13.244:10000/kem/?keyword='+ keyword +'&lang=cht'\n",
    "        res = requests.get(url)\n",
    "        related = [term[0] for term in eval(res.text) if term[1] > 0.65]\n",
    "        allrelated.extend(related)\n",
    "    words.extend(allrelated)\n",
    "    print(\", \".join(words))\n",
    "        \n",
    "    self_main_list = main_list.copy()\n",
    "    for term in words:\n",
    "        try:\n",
    "            idx = vectorterms.index(term)\n",
    "            self_main_list[idx] += 1\n",
    "        except:\n",
    "            pass\n",
    "        \n",
    "    vector = self_main_list\n",
    "    cat_num = bst.predict(xgboost.DMatrix(np.array([vector,])))[0]\n",
    "    print(cat_num)\n",
    "    cat = None\n",
    "    for key, value in cat_mapping.items():\n",
    "        if str(int(cat_num)) == str(value):\n",
    "            cat = key\n",
    "    print(cat)\n",
    "    return cat\n"
   ]
  },
  {
   "cell_type": "code",
   "execution_count": null,
   "metadata": {
    "collapsed": true,
    "deletable": true,
    "editable": true
   },
   "outputs": [],
   "source": [
    "df_test= getall('taipei')\n",
    "df_test['question']"
   ]
  },
  {
   "cell_type": "code",
   "execution_count": null,
   "metadata": {
    "collapsed": true,
    "deletable": true,
    "editable": true
   },
   "outputs": [],
   "source": [
    "test_sentence = df_test['question'][0]\n",
    "process_into_vector(test_sentence)"
   ]
  },
  {
   "cell_type": "code",
   "execution_count": null,
   "metadata": {
    "collapsed": true,
    "deletable": true,
    "editable": true
   },
   "outputs": [],
   "source": []
  },
  {
   "cell_type": "code",
   "execution_count": null,
   "metadata": {
    "collapsed": true,
    "deletable": true,
    "editable": true
   },
   "outputs": [],
   "source": []
  },
  {
   "cell_type": "code",
   "execution_count": null,
   "metadata": {
    "collapsed": true,
    "deletable": true,
    "editable": true
   },
   "outputs": [],
   "source": []
  },
  {
   "cell_type": "code",
   "execution_count": null,
   "metadata": {
    "collapsed": true,
    "deletable": true,
    "editable": true
   },
   "outputs": [],
   "source": []
  }
 ],
 "metadata": {
  "kernelspec": {
   "display_name": "Python 3",
   "language": "python",
   "name": "python3"
  },
  "language_info": {
   "codemirror_mode": {
    "name": "ipython",
    "version": 3
   },
   "file_extension": ".py",
   "mimetype": "text/x-python",
   "name": "python",
   "nbconvert_exporter": "python",
   "pygments_lexer": "ipython3",
   "version": "3.5.3"
  }
 },
 "nbformat": 4,
 "nbformat_minor": 2
}
